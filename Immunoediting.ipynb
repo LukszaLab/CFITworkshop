{
  "cells": [
    {
      "cell_type": "markdown",
      "metadata": {
        "id": "view-in-github",
        "colab_type": "text"
      },
      "source": [
        "<a href=\"https://colab.research.google.com/github/LukszaLab/CFITworkshop/blob/main/Immunoediting.ipynb\" target=\"_parent\"><img src=\"https://colab.research.google.com/assets/colab-badge.svg\" alt=\"Open In Colab\"/></a>"
      ]
    },
    {
      "cell_type": "markdown",
      "metadata": {
        "id": "6hj0YB4mP33W"
      },
      "source": [
        "# **Immunoediting in cancer evolution**"
      ]
    },
    {
      "cell_type": "markdown",
      "metadata": {
        "id": "HBaLZCj-buHB"
      },
      "source": [
        "Download and install CFIT repository"
      ]
    },
    {
      "cell_type": "code",
      "execution_count": null,
      "metadata": {
        "id": "a29ESzgv5iBM"
      },
      "outputs": [],
      "source": [
        "%cd ../\n",
        "%rm -fr CFITworkshop"
      ]
    },
    {
      "cell_type": "code",
      "execution_count": null,
      "metadata": {
        "colab": {
          "base_uri": "https://localhost:8080/",
          "height": 116
        },
        "id": "TYAf_0f7aunr",
        "outputId": "9b3785c5-cc6a-40ec-ad9f-e841bac51704"
      },
      "outputs": [
        {
          "data": {
            "application/vnd.colab-display-data+json": {
              "id": "bdf19f22e1e942d0b536f1ec9732196a",
              "pip_warning": {
                "packages": [
                  "cfit"
                ]
              }
            }
          },
          "metadata": {},
          "output_type": "display_data"
        }
      ],
      "source": [
        "!git clone https://github.com/LukszaLab/CFITworkshop.git\n",
        "\n",
        "%cd CFITworkshop\n",
        "!pip install -e ."
      ]
    },
    {
      "cell_type": "code",
      "execution_count": null,
      "metadata": {
        "id": "xdlQefjubKBO"
      },
      "outputs": [],
      "source": [
        "import json\n",
        "import glob\n",
        "import os\n",
        "import sys\n",
        "import pandas as pd\n",
        "import numpy as np\n",
        "import matplotlib.pyplot as plt\n",
        "import scipy\n",
        "import seaborn as sns\n",
        "from scipy.stats import pearsonr, linregress\n",
        "from collections import defaultdict\n",
        "\n",
        "from cfit.fitness.HLAweights import HLAweights\n",
        "from cfit.fitness.ImmuneCloneFitness import ImmuneCloneFitness\n",
        "from cfit.fitness.VariableImmuneCloneFitness import VariableImmuneCloneFitness\n",
        "from cfit.fitness.DGCloneFitness import DGCloneFitness\n",
        "from cfit.fitness.neo_quality.CARNeoantigenQuality import CARNeoantigenQuality\n",
        "from cfit.fitness.neo_quality.ARNeoantigenQuality import ARNeoantigenQuality\n",
        "from cfit.plot.PlotTreeAll import PlotTreeAll\n",
        "from cfit.tree.mutation.Neoantigen import Neoantigen\n",
        "from cfit.util.Analysis import Analysis\n",
        "from cfit.util.Analysis import AnalysisArgs\n",
        "from cfit.util.Log import Log\n",
        "from cfit.util.Utils import Utils"
      ]
    },
    {
      "cell_type": "code",
      "execution_count": null,
      "metadata": {
        "id": "kwh_gflid2QW"
      },
      "outputs": [],
      "source": [
        "def plot_response(df, max_tau, sample):\n",
        "    # Define time points\n",
        "    tau = np.linspace(0, max_tau+max_tau*0.5, 200)\n",
        "\n",
        "    # Compute X_alpha(tau) for each clone\n",
        "    X = []\n",
        "    for idx, row in df.iterrows():\n",
        "        X_alpha_tau = row['X0'] * np.exp(row['F'] * tau)\n",
        "        X.append(X_alpha_tau)\n",
        "\n",
        "    X = np.array(X)\n",
        "\n",
        "    # Create figure with two subplots: dynamics and fitness\n",
        "    fig, (ax_main, ax_bar) = plt.subplots(1, 2, figsize=(10, 5), gridspec_kw={'width_ratios': [3, 1]})\n",
        "\n",
        "    # Main stacked area plot\n",
        "    stack = ax_main.stackplot(tau, X, labels=df['Clone'], alpha=0.85)\n",
        "    ax_main.set_xlabel(r'$\\tau$ (therapy time)')\n",
        "    ax_main.set_ylabel(r'$X_\\alpha(\\tau)$')\n",
        "    a#x_main.plot([max_tau, max_tau],[0,1],color='black')\n",
        "\n",
        "    ax_main.axvline(x=max_tau, color='black', linestyle='--', linewidth=1.5)\n",
        "\n",
        "    # Add annotation\n",
        "    ax_main.annotate(\n",
        "        r'$\\tau$',                    # LaTeX-style tau\n",
        "        xy=(max_tau, 1),            # location of the arrow\n",
        "        xytext=(max_tau*1.01, .95),# location of the text\n",
        "        #arrowprops=dict(arrowstyle='->', color='black'),\n",
        "        fontsize=12,\n",
        "        color='black'\n",
        "    )\n",
        "\n",
        "    ax_main.set_title('Predicted dynamics of cancer cell clones for sample '+sample)\n",
        "    ax_main.legend(loc='upper right')\n",
        "\n",
        "    # Fitness bar plot\n",
        "    bars = ax_bar.bar(df['Clone'], df['F'], color=[s.get_facecolor() for s in stack])\n",
        "    ax_bar.axhline(0, color='black', linewidth=0.8)\n",
        "    ax_bar.set_title('Fitness values')\n",
        "    ax_bar.set_ylabel(r'$F_\\alpha$')\n",
        "    ax_bar.set_xticks(range(len(df['Clone'])))\n",
        "    ax_bar.set_xticklabels(df['Clone'])\n",
        "\n",
        "    plt.tight_layout()\n",
        "    plt.show()\n",
        "\n",
        "def compare_cohorts(data, col='ntau', ylabel=None):\n",
        "    ax = sns.swarmplot(x='Cohort', y=col, data=data, dodge=True)\n",
        "    sns.boxplot(x='Cohort', y=col, data=data,\n",
        "                      boxprops={'facecolor': 'None'})\n",
        "    handles, labels = ax.get_legend_handles_labels()\n",
        "    ax.legend(handles[:2], labels[:2], frameon=False)\n",
        "    x1 = data[data.Cohort == 'STS'][col]\n",
        "    x2 = data[data.Cohort != 'STS'][col]\n",
        "    try:\n",
        "        pval = scipy.stats.mannwhitneyu(x1, x2, alternative='two-sided').pvalue\n",
        "    except:\n",
        "        pval = 0.0\n",
        "    ax.set_title(\"pvalue=\" + str(pval))\n",
        "    if ylabel is None:\n",
        "        ylabel = col\n",
        "    ax.set_ylabel(ylabel)\n",
        "    plt.show()\n"
      ]
    },
    {
      "cell_type": "markdown",
      "metadata": {
        "id": "5Mk1yHtef0Zu"
      },
      "source": [
        "# Parameters"
      ]
    },
    {
      "cell_type": "code",
      "execution_count": null,
      "metadata": {
        "colab": {
          "base_uri": "https://localhost:8080/",
          "height": 470
        },
        "id": "QkWdfINwdZoO",
        "outputId": "38c28525-6938-4441-9877-531f9024708e"
      },
      "outputs": [
        {
          "data": {
            "text/plain": [
              "Text(0.5, 1.0, 'R function - alignement with IEDB epitopes')"
            ]
          },
          "execution_count": 6,
          "metadata": {},
          "output_type": "execute_result"
        },
        {
          "data": {
            "image/png": "[encoded data removed]",
            "text/plain": [
              "<Figure size 432x288 with 1 Axes>"
            ]
          },
          "metadata": {
            "needs_background": "light"
          },
          "output_type": "display_data"
        }
      ],
      "source": [
        "#Neoantigen model paramaters\n",
        "tau = 0.04\n",
        "a = 26.\n",
        "k = 1.\n",
        "aln_scores = np.linspace(10,40,100)\n",
        "plt.plot(aln_scores, np.exp(k*(aln_scores-a))/(1+np.exp(k*(aln_scores-a))))\n",
        "plt.title(\"R function - alignement with IEDB epitopes\")\n",
        "plt.show()\n"
      ]
    },
    {
      "cell_type": "markdown",
      "metadata": {
        "id": "X_AOWsmgtFS8"
      },
      "source": [
        "# Initialize all data:\n",
        "- patient metadata\n",
        "- mutations\n",
        "- neoantigens\n",
        "- trees with clones annotated with mutations, neoantigens\n",
        "- clone tumor frequenies\n"
      ]
    },
    {
      "cell_type": "code",
      "execution_count": null,
      "metadata": {
        "id": "OQct7KoZevzl"
      },
      "outputs": [],
      "source": [
        "#%cd CFITworkshop\n",
        "hdir='test/Data_PDAC_2017'\n",
        "args = AnalysisArgs()\n",
        "args.netMHC = \"3.4\"\n",
        "args.kd_thr = 500 # threshold on neoantigen Kd\n",
        "args.dir = hdir\n",
        "\n",
        "anl = Analysis()\n",
        "anl.set_MHC_version(args.netMHC)\n",
        "mappingfile = os.path.join(args.dir, \"mapping.json\")\n",
        "with open(mappingfile) as f:\n",
        "    mappingjs = json.load(f)\n",
        "configfile = os.path.join(args.dir, \"config.json\")\n",
        "with open(configfile) as f:\n",
        "    configjs = json.load(f)\n",
        "vcfdir = os.path.join(args.dir, configjs[\"vcf_dir\"])\n",
        "alndir = os.path.join(args.dir, configjs[\"aln_dir\"])\n",
        "iedbfasta = os.path.join(alndir, \"enemy.fasta\")\n",
        "\n",
        "anl.initialize_config(configjs, mappingjs, args=args)"
      ]
    },
    {
      "cell_type": "markdown",
      "metadata": {
        "id": "1wnwvRVnL6eC"
      },
      "source": [
        "Distribution of overall survival of patients in the PDAC cohort"
      ]
    },
    {
      "cell_type": "code",
      "execution_count": null,
      "metadata": {
        "colab": {
          "base_uri": "https://localhost:8080/",
          "height": 472
        },
        "id": "2abm2DytOmKQ",
        "outputId": "1d9cca79-1cf7-4b68-b000-9b9a888b361b"
      },
      "outputs": [
        {
          "data": {
            "image/png": "[encoded data removed]",
            "text/plain": [
              "<Figure size 432x288 with 1 Axes>"
            ]
          },
          "metadata": {
            "needs_background": "light"
          },
          "output_type": "display_data"
        }
      ],
      "source": [
        "patients = list(anl.patients.values())\n",
        "plt.hist([pat.OS for pat in patients])\n",
        "plt.title(\"Distribution of overal survival times (OS) in the PDAC cohort\")\n",
        "plt.xlabel(\"Years\")\n",
        "plt.ylabel(\"#Patients\")\n",
        "plt.show()\n",
        "\n",
        "sts_patients = [patient for patient in patients if patient.OS<=2]\n",
        "lts_patients = [patient for patient in patients if patient.OS>2]\n"
      ]
    },
    {
      "cell_type": "markdown",
      "metadata": {
        "id": "dW0y_a5ytwJX"
      },
      "source": [
        "Compute neoantigen qualities:"
      ]
    },
    {
      "cell_type": "code",
      "execution_count": null,
      "metadata": {
        "id": "oaejsTIbfDA1"
      },
      "outputs": [],
      "source": [
        "# 1. compute neoantigen qualities\n",
        "\n",
        "Qmodel = ARNeoantigenQuality(alndir=alndir, iedbfasta=iedbfasta)\n",
        "anl.set_neantigen_quality_model(Qmodel)\n",
        "anl.compute_neoantigen_sample_qualities(a=a, k=k, HLAW=HLAweights('1-9'), include_A=True, include_R=True, kdthr=args.kd_thr, KDnormalize=1.)\n"
      ]
    },
    {
      "cell_type": "markdown",
      "metadata": {
        "id": "zqEgSNsbt7v3"
      },
      "source": [
        "Define the fitness model:"
      ]
    },
    {
      "cell_type": "code",
      "execution_count": null,
      "metadata": {
        "id": "jw8-RXJ2fNAZ"
      },
      "outputs": [],
      "source": [
        "# 2. set fitness model components\n",
        "\n",
        "#aggrfun is an argument that describes the function we use to aggregate over neoantigens in a clone\n",
        "#max function picks the neoantigen of the highest \"quality\", consistent if immunodominance model\n",
        "\n",
        "qualityFitnessModelComp = ImmuneCloneFitness(aggrfun=max)\n",
        "anl.set_fitness_model_component(qualityFitnessModelComp, \"immune\", 1.)\n",
        "anl.compute_node_fitness(recompute_components=True)"
      ]
    },
    {
      "cell_type": "markdown",
      "metadata": {
        "id": "-j2lJW4Zdg1L"
      },
      "source": [
        "Lets look at predicted clone dynamics of individual patients"
      ]
    },
    {
      "cell_type": "code",
      "execution_count": null,
      "metadata": {
        "colab": {
          "base_uri": "https://localhost:8080/",
          "height": 1000
        },
        "id": "9f5UepU1dX1G",
        "outputId": "307aa314-4eef-4886-acb3-a571b8a93eb9"
      },
      "outputs": [
        {
          "data": {
            "application/vnd.plotly.v1+json": {
              "config": {
                "plotlyServerURL": "https://plot.ly"
              },
              "data": [
                {
                  "hoverinfo": "none",
                  "line": {
                    "color": "#1D2339",
                    "width": 3
                  },
                  "mode": "lines",
                  "showlegend": false,
                  "type": "scatter",
                  "x": [
                    0,
                    0,
                    null,
                    0,
                    0.5,
                    null,
                    0.5,
                    1,
                    null,
                    0.5,
                    1,
                    null,
                    0.5,
                    1,
                    null
                  ],
                  "y": [
                    30,
                    30,
                    null,
                    30,
                    30,
                    null,
                    30,
                    0,
                    null,
                    30,
                    30,
                    null,
                    30,
                    60,
                    null
                  ]
                },
                {
                  "hoverinfo": "none",
                  "marker": {
                    "color": "#818589",
                    "line": {
                      "color": "#1D2339",
                      "width": 1
                    },
                    "size": 45,
                    "symbol": "circle"
                  },
                  "mode": "markers",
                  "showlegend": false,
                  "type": "scatter",
                  "x": [
                    0,
                    0.5,
                    1,
                    1,
                    1
                  ],
                  "y": [
                    30,
                    30,
                    0,
                    30,
                    60
                  ]
                },
                {
                  "hoverinfo": "text",
                  "hovertext": "TP53,KRAS",
                  "marker": {
                    "color": "rgb(13, 8, 135)",
                    "size": 28,
                    "symbol": "star"
                  },
                  "mode": "markers",
                  "name": "TP53,KRAS",
                  "type": "scatter",
                  "x": [
                    0.75
                  ],
                  "y": [
                    15
                  ]
                }
              ],
              "layout": {
                "annotations": [
                  {
                    "font": {
                      "color": "#FFFFFF",
                      "size": 12
                    },
                    "showarrow": false,
                    "text": "0",
                    "x": 0,
                    "xref": "x",
                    "y": 30,
                    "yref": "y"
                  },
                  {
                    "font": {
                      "color": "#FFFFFF",
                      "size": 12
                    },
                    "showarrow": false,
                    "text": "1",
                    "x": 0.5,
                    "xref": "x",
                    "y": 30,
                    "yref": "y"
                  },
                  {
                    "font": {
                      "color": "#FFFFFF",
                      "size": 12
                    },
                    "showarrow": false,
                    "text": "2",
                    "x": 1,
                    "xref": "x",
                    "y": 0,
                    "yref": "y"
                  },
                  {
                    "font": {
                      "color": "#FFFFFF",
                      "size": 12
                    },
                    "showarrow": false,
                    "text": "3",
                    "x": 1,
                    "xref": "x",
                    "y": 30,
                    "yref": "y"
                  },
                  {
                    "font": {
                      "color": "#FFFFFF",
                      "size": 12
                    },
                    "showarrow": false,
                    "text": "4",
                    "x": 1,
                    "xref": "x",
                    "y": 60,
                    "yref": "y"
                  }
                ],
                "font": {
                  "size": 14
                },
                "legend": {
                  "title": {
                    "text": "Mutation"
                  }
                },
                "showlegend": true,
                "template": {
                  "data": {
                    "bar": [
                      {
                        "error_x": {
                          "color": "#2a3f5f"
                        },
                        "error_y": {
                          "color": "#2a3f5f"
                        },
                        "marker": {
                          "line": {
                            "color": "#E5ECF6",
                            "width": 0.5
                          },
                          "pattern": {
                            "fillmode": "overlay",
                            "size": 10,
                            "solidity": 0.2
                          }
                        },
                        "type": "bar"
                      }
                    ],
                    "barpolar": [
                      {
                        "marker": {
                          "line": {
                            "color": "#E5ECF6",
                            "width": 0.5
                          },
                          "pattern": {
                            "fillmode": "overlay",
                            "size": 10,
                            "solidity": 0.2
                          }
                        },
                        "type": "barpolar"
                      }
                    ],
                    "carpet": [
                      {
                        "aaxis": {
                          "endlinecolor": "#2a3f5f",
                          "gridcolor": "white",
                          "linecolor": "white",
                          "minorgridcolor": "white",
                          "startlinecolor": "#2a3f5f"
                        },
                        "baxis": {
                          "endlinecolor": "#2a3f5f",
                          "gridcolor": "white",
                          "linecolor": "white",
                          "minorgridcolor": "white",
                          "startlinecolor": "#2a3f5f"
                        },
                        "type": "carpet"
                      }
                    ],
                    "choropleth": [
                      {
                        "colorbar": {
                          "outlinewidth": 0,
                          "ticks": ""
                        },
                        "type": "choropleth"
                      }
                    ],
                    "contour": [
                      {
                        "colorbar": {
                          "outlinewidth": 0,
                          "ticks": ""
                        },
                        "colorscale": [
                          [
                            0,
                            "#0d0887"
                          ],
                          [
                            0.1111111111111111,
                            "#46039f"
                          ],
                          [
                            0.2222222222222222,
                            "#7201a8"
                          ],
                          [
                            0.3333333333333333,
                            "#9c179e"
                          ],
                          [
                            0.4444444444444444,
                            "#bd3786"
                          ],
                          [
                            0.5555555555555556,
                            "#d8576b"
                          ],
                          [
                            0.6666666666666666,
                            "#ed7953"
                          ],
                          [
                            0.7777777777777778,
                            "#fb9f3a"
                          ],
                          [
                            0.8888888888888888,
                            "#fdca26"
                          ],
                          [
                            1,
                            "#f0f921"
                          ]
                        ],
                        "type": "contour"
                      }
                    ],
                    "contourcarpet": [
                      {
                        "colorbar": {
                          "outlinewidth": 0,
                          "ticks": ""
                        },
                        "type": "contourcarpet"
                      }
                    ],
                    "heatmap": [
                      {
                        "colorbar": {
                          "outlinewidth": 0,
                          "ticks": ""
                        },
                        "colorscale": [
                          [
                            0,
                            "#0d0887"
                          ],
                          [
                            0.1111111111111111,
                            "#46039f"
                          ],
                          [
                            0.2222222222222222,
                            "#7201a8"
                          ],
                          [
                            0.3333333333333333,
                            "#9c179e"
                          ],
                          [
                            0.4444444444444444,
                            "#bd3786"
                          ],
                          [
                            0.5555555555555556,
                            "#d8576b"
                          ],
                          [
                            0.6666666666666666,
                            "#ed7953"
                          ],
                          [
                            0.7777777777777778,
                            "#fb9f3a"
                          ],
                          [
                            0.8888888888888888,
                            "#fdca26"
                          ],
                          [
                            1,
                            "#f0f921"
                          ]
                        ],
                        "type": "heatmap"
                      }
                    ],
                    "heatmapgl": [
                      {
                        "colorbar": {
                          "outlinewidth": 0,
                          "ticks": ""
                        },
                        "colorscale": [
                          [
                            0,
                            "#0d0887"
                          ],
                          [
                            0.1111111111111111,
                            "#46039f"
                          ],
                          [
                            0.2222222222222222,
                            "#7201a8"
                          ],
                          [
                            0.3333333333333333,
                            "#9c179e"
                          ],
                          [
                            0.4444444444444444,
                            "#bd3786"
                          ],
                          [
                            0.5555555555555556,
                            "#d8576b"
                          ],
                          [
                            0.6666666666666666,
                            "#ed7953"
                          ],
                          [
                            0.7777777777777778,
                            "#fb9f3a"
                          ],
                          [
                            0.8888888888888888,
                            "#fdca26"
                          ],
                          [
                            1,
                            "#f0f921"
                          ]
                        ],
                        "type": "heatmapgl"
                      }
                    ],
                    "histogram": [
                      {
                        "marker": {
                          "pattern": {
                            "fillmode": "overlay",
                            "size": 10,
                            "solidity": 0.2
                          }
                        },
                        "type": "histogram"
                      }
                    ],
                    "histogram2d": [
                      {
                        "colorbar": {
                          "outlinewidth": 0,
                          "ticks": ""
                        },
                        "colorscale": [
                          [
                            0,
                            "#0d0887"
                          ],
                          [
                            0.1111111111111111,
                            "#46039f"
                          ],
                          [
                            0.2222222222222222,
                            "#7201a8"
                          ],
                          [
                            0.3333333333333333,
                            "#9c179e"
                          ],
                          [
                            0.4444444444444444,
                            "#bd3786"
                          ],
                          [
                            0.5555555555555556,
                            "#d8576b"
                          ],
                          [
                            0.6666666666666666,
                            "#ed7953"
                          ],
                          [
                            0.7777777777777778,
                            "#fb9f3a"
                          ],
                          [
                            0.8888888888888888,
                            "#fdca26"
                          ],
                          [
                            1,
                            "#f0f921"
                          ]
                        ],
                        "type": "histogram2d"
                      }
                    ],
                    "histogram2dcontour": [
                      {
                        "colorbar": {
                          "outlinewidth": 0,
                          "ticks": ""
                        },
                        "colorscale": [
                          [
                            0,
                            "#0d0887"
                          ],
                          [
                            0.1111111111111111,
                            "#46039f"
                          ],
                          [
                            0.2222222222222222,
                            "#7201a8"
                          ],
                          [
                            0.3333333333333333,
                            "#9c179e"
                          ],
                          [
                            0.4444444444444444,
                            "#bd3786"
                          ],
                          [
                            0.5555555555555556,
                            "#d8576b"
                          ],
                          [
                            0.6666666666666666,
                            "#ed7953"
                          ],
                          [
                            0.7777777777777778,
                            "#fb9f3a"
                          ],
                          [
                            0.8888888888888888,
                            "#fdca26"
                          ],
                          [
                            1,
                            "#f0f921"
                          ]
                        ],
                        "type": "histogram2dcontour"
                      }
                    ],
                    "mesh3d": [
                      {
                        "colorbar": {
                          "outlinewidth": 0,
                          "ticks": ""
                        },
                        "type": "mesh3d"
                      }
                    ],
                    "parcoords": [
                      {
                        "line": {
                          "colorbar": {
                            "outlinewidth": 0,
                            "ticks": ""
                          }
                        },
                        "type": "parcoords"
                      }
                    ],
                    "pie": [
                      {
                        "automargin": true,
                        "type": "pie"
                      }
                    ],
                    "scatter": [
                      {
                        "fillpattern": {
                          "fillmode": "overlay",
                          "size": 10,
                          "solidity": 0.2
                        },
                        "type": "scatter"
                      }
                    ],
                    "scatter3d": [
                      {
                        "line": {
                          "colorbar": {
                            "outlinewidth": 0,
                            "ticks": ""
                          }
                        },
                        "marker": {
                          "colorbar": {
                            "outlinewidth": 0,
                            "ticks": ""
                          }
                        },
                        "type": "scatter3d"
                      }
                    ],
                    "scattercarpet": [
                      {
                        "marker": {
                          "colorbar": {
                            "outlinewidth": 0,
                            "ticks": ""
                          }
                        },
                        "type": "scattercarpet"
                      }
                    ],
                    "scattergeo": [
                      {
                        "marker": {
                          "colorbar": {
                            "outlinewidth": 0,
                            "ticks": ""
                          }
                        },
                        "type": "scattergeo"
                      }
                    ],
                    "scattergl": [
                      {
                        "marker": {
                          "colorbar": {
                            "outlinewidth": 0,
                            "ticks": ""
                          }
                        },
                        "type": "scattergl"
                      }
                    ],
                    "scattermapbox": [
                      {
                        "marker": {
                          "colorbar": {
                            "outlinewidth": 0,
                            "ticks": ""
                          }
                        },
                        "type": "scattermapbox"
                      }
                    ],
                    "scatterpolar": [
                      {
                        "marker": {
                          "colorbar": {
                            "outlinewidth": 0,
                            "ticks": ""
                          }
                        },
                        "type": "scatterpolar"
                      }
                    ],
                    "scatterpolargl": [
                      {
                        "marker": {
                          "colorbar": {
                            "outlinewidth": 0,
                            "ticks": ""
                          }
                        },
                        "type": "scatterpolargl"
                      }
                    ],
                    "scatterternary": [
                      {
                        "marker": {
                          "colorbar": {
                            "outlinewidth": 0,
                            "ticks": ""
                          }
                        },
                        "type": "scatterternary"
                      }
                    ],
                    "surface": [
                      {
                        "colorbar": {
                          "outlinewidth": 0,
                          "ticks": ""
                        },
                        "colorscale": [
                          [
                            0,
                            "#0d0887"
                          ],
                          [
                            0.1111111111111111,
                            "#46039f"
                          ],
                          [
                            0.2222222222222222,
                            "#7201a8"
                          ],
                          [
                            0.3333333333333333,
                            "#9c179e"
                          ],
                          [
                            0.4444444444444444,
                            "#bd3786"
                          ],
                          [
                            0.5555555555555556,
                            "#d8576b"
                          ],
                          [
                            0.6666666666666666,
                            "#ed7953"
                          ],
                          [
                            0.7777777777777778,
                            "#fb9f3a"
                          ],
                          [
                            0.8888888888888888,
                            "#fdca26"
                          ],
                          [
                            1,
                            "#f0f921"
                          ]
                        ],
                        "type": "surface"
                      }
                    ],
                    "table": [
                      {
                        "cells": {
                          "fill": {
                            "color": "#EBF0F8"
                          },
                          "line": {
                            "color": "white"
                          }
                        },
                        "header": {
                          "fill": {
                            "color": "#C8D4E3"
                          },
                          "line": {
                            "color": "white"
                          }
                        },
                        "type": "table"
                      }
                    ]
                  },
                  "layout": {
                    "annotationdefaults": {
                      "arrowcolor": "#2a3f5f",
                      "arrowhead": 0,
                      "arrowwidth": 1
                    },
                    "autotypenumbers": "strict",
                    "coloraxis": {
                      "colorbar": {
                        "outlinewidth": 0,
                        "ticks": ""
                      }
                    },
                    "colorscale": {
                      "diverging": [
                        [
                          0,
                          "#8e0152"
                        ],
                        [
                          0.1,
                          "#c51b7d"
                        ],
                        [
                          0.2,
                          "#de77ae"
                        ],
                        [
                          0.3,
                          "#f1b6da"
                        ],
                        [
                          0.4,
                          "#fde0ef"
                        ],
                        [
                          0.5,
                          "#f7f7f7"
                        ],
                        [
                          0.6,
                          "#e6f5d0"
                        ],
                        [
                          0.7,
                          "#b8e186"
                        ],
                        [
                          0.8,
                          "#7fbc41"
                        ],
                        [
                          0.9,
                          "#4d9221"
                        ],
                        [
                          1,
                          "#276419"
                        ]
                      ],
                      "sequential": [
                        [
                          0,
                          "#0d0887"
                        ],
                        [
                          0.1111111111111111,
                          "#46039f"
                        ],
                        [
                          0.2222222222222222,
                          "#7201a8"
                        ],
                        [
                          0.3333333333333333,
                          "#9c179e"
                        ],
                        [
                          0.4444444444444444,
                          "#bd3786"
                        ],
                        [
                          0.5555555555555556,
                          "#d8576b"
                        ],
                        [
                          0.6666666666666666,
                          "#ed7953"
                        ],
                        [
                          0.7777777777777778,
                          "#fb9f3a"
                        ],
                        [
                          0.8888888888888888,
                          "#fdca26"
                        ],
                        [
                          1,
                          "#f0f921"
                        ]
                      ],
                      "sequentialminus": [
                        [
                          0,
                          "#0d0887"
                        ],
                        [
                          0.1111111111111111,
                          "#46039f"
                        ],
                        [
                          0.2222222222222222,
                          "#7201a8"
                        ],
                        [
                          0.3333333333333333,
                          "#9c179e"
                        ],
                        [
                          0.4444444444444444,
                          "#bd3786"
                        ],
                        [
                          0.5555555555555556,
                          "#d8576b"
                        ],
                        [
                          0.6666666666666666,
                          "#ed7953"
                        ],
                        [
                          0.7777777777777778,
                          "#fb9f3a"
                        ],
                        [
                          0.8888888888888888,
                          "#fdca26"
                        ],
                        [
                          1,
                          "#f0f921"
                        ]
                      ]
                    },
                    "colorway": [
                      "#636efa",
                      "#EF553B",
                      "#00cc96",
                      "#ab63fa",
                      "#FFA15A",
                      "#19d3f3",
                      "#FF6692",
                      "#B6E880",
                      "#FF97FF",
                      "#FECB52"
                    ],
                    "font": {
                      "color": "#2a3f5f"
                    },
                    "geo": {
                      "bgcolor": "white",
                      "lakecolor": "white",
                      "landcolor": "#E5ECF6",
                      "showlakes": true,
                      "showland": true,
                      "subunitcolor": "white"
                    },
                    "hoverlabel": {
                      "align": "left"
                    },
                    "hovermode": "closest",
                    "mapbox": {
                      "style": "light"
                    },
                    "paper_bgcolor": "white",
                    "plot_bgcolor": "#E5ECF6",
                    "polar": {
                      "angularaxis": {
                        "gridcolor": "white",
                        "linecolor": "white",
                        "ticks": ""
                      },
                      "bgcolor": "#E5ECF6",
                      "radialaxis": {
                        "gridcolor": "white",
                        "linecolor": "white",
                        "ticks": ""
                      }
                    },
                    "scene": {
                      "xaxis": {
                        "backgroundcolor": "#E5ECF6",
                        "gridcolor": "white",
                        "gridwidth": 2,
                        "linecolor": "white",
                        "showbackground": true,
                        "ticks": "",
                        "zerolinecolor": "white"
                      },
                      "yaxis": {
                        "backgroundcolor": "#E5ECF6",
                        "gridcolor": "white",
                        "gridwidth": 2,
                        "linecolor": "white",
                        "showbackground": true,
                        "ticks": "",
                        "zerolinecolor": "white"
                      },
                      "zaxis": {
                        "backgroundcolor": "#E5ECF6",
                        "gridcolor": "white",
                        "gridwidth": 2,
                        "linecolor": "white",
                        "showbackground": true,
                        "ticks": "",
                        "zerolinecolor": "white"
                      }
                    },
                    "shapedefaults": {
                      "line": {
                        "color": "#2a3f5f"
                      }
                    },
                    "ternary": {
                      "aaxis": {
                        "gridcolor": "white",
                        "linecolor": "white",
                        "ticks": ""
                      },
                      "baxis": {
                        "gridcolor": "white",
                        "linecolor": "white",
                        "ticks": ""
                      },
                      "bgcolor": "#E5ECF6",
                      "caxis": {
                        "gridcolor": "white",
                        "linecolor": "white",
                        "ticks": ""
                      }
                    },
                    "title": {
                      "x": 0.05
                    },
                    "xaxis": {
                      "automargin": true,
                      "gridcolor": "white",
                      "linecolor": "white",
                      "ticks": "",
                      "title": {
                        "standoff": 15
                      },
                      "zerolinecolor": "white",
                      "zerolinewidth": 2
                    },
                    "yaxis": {
                      "automargin": true,
                      "gridcolor": "white",
                      "linecolor": "white",
                      "ticks": "",
                      "title": {
                        "standoff": 15
                      },
                      "zerolinecolor": "white",
                      "zerolinewidth": 2
                    }
                  }
                },
                "title": {
                  "text": "Clone Tree1 (s1167321T)"
                },
                "xaxis": {
                  "showgrid": false,
                  "showline": false,
                  "showticklabels": false,
                  "zeroline": false
                },
                "yaxis": {
                  "showgrid": false,
                  "showline": false,
                  "showticklabels": false,
                  "zeroline": false
                }
              }
            },
            "text/html": [
              "<div>                            <div id=\"83e08933-683d-428c-8916-8f7738bb21be\" class=\"plotly-graph-div\" style=\"height:525px; width:100%;\"></div>            <script type=\"text/javascript\">                require([\"plotly\"], function(Plotly) {                    window.PLOTLYENV=window.PLOTLYENV || {};                                    if (document.getElementById(\"83e08933-683d-428c-8916-8f7738bb21be\")) {                    Plotly.newPlot(                        \"83e08933-683d-428c-8916-8f7738bb21be\",                        [{\"hoverinfo\":\"none\",\"line\":{\"color\":\"#1D2339\",\"width\":3},\"mode\":\"lines\",\"showlegend\":false,\"x\":[0,0,null,0,0.5,null,0.5,1.0,null,0.5,1.0,null,0.5,1.0,null],\"y\":[30.0,30.0,null,30.0,30.0,null,30.0,0,null,30.0,30,null,30.0,60,null],\"type\":\"scatter\"},{\"hoverinfo\":\"none\",\"marker\":{\"color\":\"#818589\",\"line\":{\"color\":\"#1D2339\",\"width\":1},\"size\":45,\"symbol\":\"circle\"},\"mode\":\"markers\",\"showlegend\":false,\"x\":[0,0.5,1.0,1.0,1.0],\"y\":[30.0,30.0,0,30,60],\"type\":\"scatter\"},{\"hoverinfo\":\"text\",\"hovertext\":\"TP53,KRAS\",\"marker\":{\"color\":\"rgb(13, 8, 135)\",\"size\":28,\"symbol\":\"star\"},\"mode\":\"markers\",\"name\":\"TP53,KRAS\",\"x\":[0.75],\"y\":[15.0],\"type\":\"scatter\"}],                        {\"template\":{\"data\":{\"histogram2dcontour\":[{\"type\":\"histogram2dcontour\",\"colorbar\":{\"outlinewidth\":0,\"ticks\":\"\"},\"colorscale\":[[0.0,\"#0d0887\"],[0.1111111111111111,\"#46039f\"],[0.2222222222222222,\"#7201a8\"],[0.3333333333333333,\"#9c179e\"],[0.4444444444444444,\"#bd3786\"],[0.5555555555555556,\"#d8576b\"],[0.6666666666666666,\"#ed7953\"],[0.7777777777777778,\"#fb9f3a\"],[0.8888888888888888,\"#fdca26\"],[1.0,\"#f0f921\"]]}],\"choropleth\":[{\"type\":\"choropleth\",\"colorbar\":{\"outlinewidth\":0,\"ticks\":\"\"}}],\"histogram2d\":[{\"type\":\"histogram2d\",\"colorbar\":{\"outlinewidth\":0,\"ticks\":\"\"},\"colorscale\":[[0.0,\"#0d0887\"],[0.1111111111111111,\"#46039f\"],[0.2222222222222222,\"#7201a8\"],[0.3333333333333333,\"#9c179e\"],[0.4444444444444444,\"#bd3786\"],[0.5555555555555556,\"#d8576b\"],[0.6666666666666666,\"#ed7953\"],[0.7777777777777778,\"#fb9f3a\"],[0.8888888888888888,\"#fdca26\"],[1.0,\"#f0f921\"]]}],\"heatmap\":[{\"type\":\"heatmap\",\"colorbar\":{\"outlinewidth\":0,\"ticks\":\"\"},\"colorscale\":[[0.0,\"#0d0887\"],[0.1111111111111111,\"#46039f\"],[0.2222222222222222,\"#7201a8\"],[0.3333333333333333,\"#9c179e\"],[0.4444444444444444,\"#bd3786\"],[0.5555555555555556,\"#d8576b\"],[0.6666666666666666,\"#ed7953\"],[0.7777777777777778,\"#fb9f3a\"],[0.8888888888888888,\"#fdca26\"],[1.0,\"#f0f921\"]]}],\"heatmapgl\":[{\"type\":\"heatmapgl\",\"colorbar\":{\"outlinewidth\":0,\"ticks\":\"\"},\"colorscale\":[[0.0,\"#0d0887\"],[0.1111111111111111,\"#46039f\"],[0.2222222222222222,\"#7201a8\"],[0.3333333333333333,\"#9c179e\"],[0.4444444444444444,\"#bd3786\"],[0.5555555555555556,\"#d8576b\"],[0.6666666666666666,\"#ed7953\"],[0.7777777777777778,\"#fb9f3a\"],[0.8888888888888888,\"#fdca26\"],[1.0,\"#f0f921\"]]}],\"contourcarpet\":[{\"type\":\"contourcarpet\",\"colorbar\":{\"outlinewidth\":0,\"ticks\":\"\"}}],\"contour\":[{\"type\":\"contour\",\"colorbar\":{\"outlinewidth\":0,\"ticks\":\"\"},\"colorscale\":[[0.0,\"#0d0887\"],[0.1111111111111111,\"#46039f\"],[0.2222222222222222,\"#7201a8\"],[0.3333333333333333,\"#9c179e\"],[0.4444444444444444,\"#bd3786\"],[0.5555555555555556,\"#d8576b\"],[0.6666666666666666,\"#ed7953\"],[0.7777777777777778,\"#fb9f3a\"],[0.8888888888888888,\"#fdca26\"],[1.0,\"#f0f921\"]]}],\"surface\":[{\"type\":\"surface\",\"colorbar\":{\"outlinewidth\":0,\"ticks\":\"\"},\"colorscale\":[[0.0,\"#0d0887\"],[0.1111111111111111,\"#46039f\"],[0.2222222222222222,\"#7201a8\"],[0.3333333333333333,\"#9c179e\"],[0.4444444444444444,\"#bd3786\"],[0.5555555555555556,\"#d8576b\"],[0.6666666666666666,\"#ed7953\"],[0.7777777777777778,\"#fb9f3a\"],[0.8888888888888888,\"#fdca26\"],[1.0,\"#f0f921\"]]}],\"mesh3d\":[{\"type\":\"mesh3d\",\"colorbar\":{\"outlinewidth\":0,\"ticks\":\"\"}}],\"scatter\":[{\"fillpattern\":{\"fillmode\":\"overlay\",\"size\":10,\"solidity\":0.2},\"type\":\"scatter\"}],\"parcoords\":[{\"type\":\"parcoords\",\"line\":{\"colorbar\":{\"outlinewidth\":0,\"ticks\":\"\"}}}],\"scatterpolargl\":[{\"type\":\"scatterpolargl\",\"marker\":{\"colorbar\":{\"outlinewidth\":0,\"ticks\":\"\"}}}],\"bar\":[{\"error_x\":{\"color\":\"#2a3f5f\"},\"error_y\":{\"color\":\"#2a3f5f\"},\"marker\":{\"line\":{\"color\":\"#E5ECF6\",\"width\":0.5},\"pattern\":{\"fillmode\":\"overlay\",\"size\":10,\"solidity\":0.2}},\"type\":\"bar\"}],\"scattergeo\":[{\"type\":\"scattergeo\",\"marker\":{\"colorbar\":{\"outlinewidth\":0,\"ticks\":\"\"}}}],\"scatterpolar\":[{\"type\":\"scatterpolar\",\"marker\":{\"colorbar\":{\"outlinewidth\":0,\"ticks\":\"\"}}}],\"histogram\":[{\"marker\":{\"pattern\":{\"fillmode\":\"overlay\",\"size\":10,\"solidity\":0.2}},\"type\":\"histogram\"}],\"scattergl\":[{\"type\":\"scattergl\",\"marker\":{\"colorbar\":{\"outlinewidth\":0,\"ticks\":\"\"}}}],\"scatter3d\":[{\"type\":\"scatter3d\",\"line\":{\"colorbar\":{\"outlinewidth\":0,\"ticks\":\"\"}},\"marker\":{\"colorbar\":{\"outlinewidth\":0,\"ticks\":\"\"}}}],\"scattermapbox\":[{\"type\":\"scattermapbox\",\"marker\":{\"colorbar\":{\"outlinewidth\":0,\"ticks\":\"\"}}}],\"scatterternary\":[{\"type\":\"scatterternary\",\"marker\":{\"colorbar\":{\"outlinewidth\":0,\"ticks\":\"\"}}}],\"scattercarpet\":[{\"type\":\"scattercarpet\",\"marker\":{\"colorbar\":{\"outlinewidth\":0,\"ticks\":\"\"}}}],\"carpet\":[{\"aaxis\":{\"endlinecolor\":\"#2a3f5f\",\"gridcolor\":\"white\",\"linecolor\":\"white\",\"minorgridcolor\":\"white\",\"startlinecolor\":\"#2a3f5f\"},\"baxis\":{\"endlinecolor\":\"#2a3f5f\",\"gridcolor\":\"white\",\"linecolor\":\"white\",\"minorgridcolor\":\"white\",\"startlinecolor\":\"#2a3f5f\"},\"type\":\"carpet\"}],\"table\":[{\"cells\":{\"fill\":{\"color\":\"#EBF0F8\"},\"line\":{\"color\":\"white\"}},\"header\":{\"fill\":{\"color\":\"#C8D4E3\"},\"line\":{\"color\":\"white\"}},\"type\":\"table\"}],\"barpolar\":[{\"marker\":{\"line\":{\"color\":\"#E5ECF6\",\"width\":0.5},\"pattern\":{\"fillmode\":\"overlay\",\"size\":10,\"solidity\":0.2}},\"type\":\"barpolar\"}],\"pie\":[{\"automargin\":true,\"type\":\"pie\"}]},\"layout\":{\"autotypenumbers\":\"strict\",\"colorway\":[\"#636efa\",\"#EF553B\",\"#00cc96\",\"#ab63fa\",\"#FFA15A\",\"#19d3f3\",\"#FF6692\",\"#B6E880\",\"#FF97FF\",\"#FECB52\"],\"font\":{\"color\":\"#2a3f5f\"},\"hovermode\":\"closest\",\"hoverlabel\":{\"align\":\"left\"},\"paper_bgcolor\":\"white\",\"plot_bgcolor\":\"#E5ECF6\",\"polar\":{\"bgcolor\":\"#E5ECF6\",\"angularaxis\":{\"gridcolor\":\"white\",\"linecolor\":\"white\",\"ticks\":\"\"},\"radialaxis\":{\"gridcolor\":\"white\",\"linecolor\":\"white\",\"ticks\":\"\"}},\"ternary\":{\"bgcolor\":\"#E5ECF6\",\"aaxis\":{\"gridcolor\":\"white\",\"linecolor\":\"white\",\"ticks\":\"\"},\"baxis\":{\"gridcolor\":\"white\",\"linecolor\":\"white\",\"ticks\":\"\"},\"caxis\":{\"gridcolor\":\"white\",\"linecolor\":\"white\",\"ticks\":\"\"}},\"coloraxis\":{\"colorbar\":{\"outlinewidth\":0,\"ticks\":\"\"}},\"colorscale\":{\"sequential\":[[0.0,\"#0d0887\"],[0.1111111111111111,\"#46039f\"],[0.2222222222222222,\"#7201a8\"],[0.3333333333333333,\"#9c179e\"],[0.4444444444444444,\"#bd3786\"],[0.5555555555555556,\"#d8576b\"],[0.6666666666666666,\"#ed7953\"],[0.7777777777777778,\"#fb9f3a\"],[0.8888888888888888,\"#fdca26\"],[1.0,\"#f0f921\"]],\"sequentialminus\":[[0.0,\"#0d0887\"],[0.1111111111111111,\"#46039f\"],[0.2222222222222222,\"#7201a8\"],[0.3333333333333333,\"#9c179e\"],[0.4444444444444444,\"#bd3786\"],[0.5555555555555556,\"#d8576b\"],[0.6666666666666666,\"#ed7953\"],[0.7777777777777778,\"#fb9f3a\"],[0.8888888888888888,\"#fdca26\"],[1.0,\"#f0f921\"]],\"diverging\":[[0,\"#8e0152\"],[0.1,\"#c51b7d\"],[0.2,\"#de77ae\"],[0.3,\"#f1b6da\"],[0.4,\"#fde0ef\"],[0.5,\"#f7f7f7\"],[0.6,\"#e6f5d0\"],[0.7,\"#b8e186\"],[0.8,\"#7fbc41\"],[0.9,\"#4d9221\"],[1,\"#276419\"]]},\"xaxis\":{\"gridcolor\":\"white\",\"linecolor\":\"white\",\"ticks\":\"\",\"title\":{\"standoff\":15},\"zerolinecolor\":\"white\",\"automargin\":true,\"zerolinewidth\":2},\"yaxis\":{\"gridcolor\":\"white\",\"linecolor\":\"white\",\"ticks\":\"\",\"title\":{\"standoff\":15},\"zerolinecolor\":\"white\",\"automargin\":true,\"zerolinewidth\":2},\"scene\":{\"xaxis\":{\"backgroundcolor\":\"#E5ECF6\",\"gridcolor\":\"white\",\"linecolor\":\"white\",\"showbackground\":true,\"ticks\":\"\",\"zerolinecolor\":\"white\",\"gridwidth\":2},\"yaxis\":{\"backgroundcolor\":\"#E5ECF6\",\"gridcolor\":\"white\",\"linecolor\":\"white\",\"showbackground\":true,\"ticks\":\"\",\"zerolinecolor\":\"white\",\"gridwidth\":2},\"zaxis\":{\"backgroundcolor\":\"#E5ECF6\",\"gridcolor\":\"white\",\"linecolor\":\"white\",\"showbackground\":true,\"ticks\":\"\",\"zerolinecolor\":\"white\",\"gridwidth\":2}},\"shapedefaults\":{\"line\":{\"color\":\"#2a3f5f\"}},\"annotationdefaults\":{\"arrowcolor\":\"#2a3f5f\",\"arrowhead\":0,\"arrowwidth\":1},\"geo\":{\"bgcolor\":\"white\",\"landcolor\":\"#E5ECF6\",\"subunitcolor\":\"white\",\"showland\":true,\"showlakes\":true,\"lakecolor\":\"white\"},\"title\":{\"x\":0.05},\"mapbox\":{\"style\":\"light\"}}},\"font\":{\"size\":14},\"legend\":{\"title\":{\"text\":\"Mutation\"}},\"xaxis\":{\"showline\":false,\"zeroline\":false,\"showgrid\":false,\"showticklabels\":false},\"yaxis\":{\"showline\":false,\"zeroline\":false,\"showgrid\":false,\"showticklabels\":false},\"title\":{\"text\":\"Clone Tree1 (s1167321T)\"},\"annotations\":[{\"font\":{\"color\":\"#FFFFFF\",\"size\":12},\"showarrow\":false,\"text\":\"0\",\"x\":0,\"xref\":\"x\",\"y\":30.0,\"yref\":\"y\"},{\"font\":{\"color\":\"#FFFFFF\",\"size\":12},\"showarrow\":false,\"text\":\"1\",\"x\":0.5,\"xref\":\"x\",\"y\":30.0,\"yref\":\"y\"},{\"font\":{\"color\":\"#FFFFFF\",\"size\":12},\"showarrow\":false,\"text\":\"2\",\"x\":1.0,\"xref\":\"x\",\"y\":0,\"yref\":\"y\"},{\"font\":{\"color\":\"#FFFFFF\",\"size\":12},\"showarrow\":false,\"text\":\"3\",\"x\":1.0,\"xref\":\"x\",\"y\":30,\"yref\":\"y\"},{\"font\":{\"color\":\"#FFFFFF\",\"size\":12},\"showarrow\":false,\"text\":\"4\",\"x\":1.0,\"xref\":\"x\",\"y\":60,\"yref\":\"y\"}],\"showlegend\":true},                        {\"responsive\": true}                    ).then(function(){\n",
              "                            \n",
              "var gd = document.getElementById('83e08933-683d-428c-8916-8f7738bb21be');\n",
              "var x = new MutationObserver(function (mutations, observer) {{\n",
              "        var display = window.getComputedStyle(gd).display;\n",
              "        if (!display || display === 'none') {{\n",
              "            console.log([gd, 'removed!']);\n",
              "            Plotly.purge(gd);\n",
              "            observer.disconnect();\n",
              "        }}\n",
              "}});\n",
              "\n",
              "// Listen for the removal of the full notebook cells\n",
              "var notebookContainer = gd.closest('#notebook-container');\n",
              "if (notebookContainer) {{\n",
              "    x.observe(notebookContainer, {childList: true});\n",
              "}}\n",
              "\n",
              "// Listen for the clearing of the current output cell\n",
              "var outputEl = gd.closest('.output');\n",
              "if (outputEl) {{\n",
              "    x.observe(outputEl, {childList: true});\n",
              "}}\n",
              "\n",
              "                        })                };                });            </script>        </div>"
            ]
          },
          "metadata": {},
          "output_type": "display_data"
        },
        {
          "data": {
            "image/png": "[encoded data removed]",
            "text/plain": [
              "<Figure size 720x360 with 2 Axes>"
            ]
          },
          "metadata": {
            "needs_background": "light"
          },
          "output_type": "display_data"
        }
      ],
      "source": [
        "sts_patient = sts_patients[4]\n",
        "plottree = PlotTreeAll(sts_patient, drivers=[\"TP53\",\"KRAS\",\"CDKN2A\", \"SMAD4\"], tid=0, save_html=False, show=True)\n",
        "df=pd.DataFrame([[\"C\"+str(node.id), node.Y,node.fitness] for node in anl.samples[sts_patient.name].trees[0].nodes.values()],columns=[\"Clone\",\"X0\",\"F\"])\n",
        "plot_response(df, 0.4, sts_patient.name)"
      ]
    },
    {
      "cell_type": "code",
      "execution_count": null,
      "metadata": {
        "colab": {
          "base_uri": "https://localhost:8080/",
          "height": 1000
        },
        "id": "DXcXWr2Xedgb",
        "outputId": "f934b717-a982-4283-ba99-5f0c70dfba51"
      },
      "outputs": [
        {
          "data": {
            "application/vnd.plotly.v1+json": {
              "config": {
                "plotlyServerURL": "https://plot.ly"
              },
              "data": [
                {
                  "hoverinfo": "none",
                  "line": {
                    "color": "#1D2339",
                    "width": 3
                  },
                  "mode": "lines",
                  "showlegend": false,
                  "type": "scatter",
                  "x": [
                    0,
                    0,
                    null,
                    0,
                    0.5,
                    null,
                    0.5,
                    1,
                    null,
                    0.5,
                    1,
                    null,
                    0.5,
                    1,
                    null
                  ],
                  "y": [
                    30,
                    30,
                    null,
                    30,
                    30,
                    null,
                    30,
                    0,
                    null,
                    30,
                    30,
                    null,
                    30,
                    60,
                    null
                  ]
                },
                {
                  "hoverinfo": "none",
                  "marker": {
                    "color": "#818589",
                    "line": {
                      "color": "#1D2339",
                      "width": 1
                    },
                    "size": 45,
                    "symbol": "circle"
                  },
                  "mode": "markers",
                  "showlegend": false,
                  "type": "scatter",
                  "x": [
                    0,
                    0.5,
                    1,
                    1,
                    1
                  ],
                  "y": [
                    30,
                    30,
                    0,
                    30,
                    60
                  ]
                },
                {
                  "hoverinfo": "text",
                  "hovertext": "TP53",
                  "marker": {
                    "color": "rgb(13, 8, 135)",
                    "size": 28,
                    "symbol": "star"
                  },
                  "mode": "markers",
                  "name": "TP53",
                  "type": "scatter",
                  "x": [
                    0.75
                  ],
                  "y": [
                    15
                  ]
                },
                {
                  "hoverinfo": "text",
                  "hovertext": "KRAS",
                  "marker": {
                    "color": "rgb(203, 71, 120)",
                    "size": 28,
                    "symbol": "star"
                  },
                  "mode": "markers",
                  "name": "KRAS",
                  "type": "scatter",
                  "x": [
                    0.25
                  ],
                  "y": [
                    30
                  ]
                }
              ],
              "layout": {
                "annotations": [
                  {
                    "font": {
                      "color": "#FFFFFF",
                      "size": 12
                    },
                    "showarrow": false,
                    "text": "0",
                    "x": 0,
                    "xref": "x",
                    "y": 30,
                    "yref": "y"
                  },
                  {
                    "font": {
                      "color": "#FFFFFF",
                      "size": 12
                    },
                    "showarrow": false,
                    "text": "1",
                    "x": 0.5,
                    "xref": "x",
                    "y": 30,
                    "yref": "y"
                  },
                  {
                    "font": {
                      "color": "#FFFFFF",
                      "size": 12
                    },
                    "showarrow": false,
                    "text": "2",
                    "x": 1,
                    "xref": "x",
                    "y": 0,
                    "yref": "y"
                  },
                  {
                    "font": {
                      "color": "#FFFFFF",
                      "size": 12
                    },
                    "showarrow": false,
                    "text": "3",
                    "x": 1,
                    "xref": "x",
                    "y": 30,
                    "yref": "y"
                  },
                  {
                    "font": {
                      "color": "#FFFFFF",
                      "size": 12
                    },
                    "showarrow": false,
                    "text": "4",
                    "x": 1,
                    "xref": "x",
                    "y": 60,
                    "yref": "y"
                  }
                ],
                "font": {
                  "size": 14
                },
                "legend": {
                  "title": {
                    "text": "Mutation"
                  }
                },
                "showlegend": true,
                "template": {
                  "data": {
                    "bar": [
                      {
                        "error_x": {
                          "color": "#2a3f5f"
                        },
                        "error_y": {
                          "color": "#2a3f5f"
                        },
                        "marker": {
                          "line": {
                            "color": "#E5ECF6",
                            "width": 0.5
                          },
                          "pattern": {
                            "fillmode": "overlay",
                            "size": 10,
                            "solidity": 0.2
                          }
                        },
                        "type": "bar"
                      }
                    ],
                    "barpolar": [
                      {
                        "marker": {
                          "line": {
                            "color": "#E5ECF6",
                            "width": 0.5
                          },
                          "pattern": {
                            "fillmode": "overlay",
                            "size": 10,
                            "solidity": 0.2
                          }
                        },
                        "type": "barpolar"
                      }
                    ],
                    "carpet": [
                      {
                        "aaxis": {
                          "endlinecolor": "#2a3f5f",
                          "gridcolor": "white",
                          "linecolor": "white",
                          "minorgridcolor": "white",
                          "startlinecolor": "#2a3f5f"
                        },
                        "baxis": {
                          "endlinecolor": "#2a3f5f",
                          "gridcolor": "white",
                          "linecolor": "white",
                          "minorgridcolor": "white",
                          "startlinecolor": "#2a3f5f"
                        },
                        "type": "carpet"
                      }
                    ],
                    "choropleth": [
                      {
                        "colorbar": {
                          "outlinewidth": 0,
                          "ticks": ""
                        },
                        "type": "choropleth"
                      }
                    ],
                    "contour": [
                      {
                        "colorbar": {
                          "outlinewidth": 0,
                          "ticks": ""
                        },
                        "colorscale": [
                          [
                            0,
                            "#0d0887"
                          ],
                          [
                            0.1111111111111111,
                            "#46039f"
                          ],
                          [
                            0.2222222222222222,
                            "#7201a8"
                          ],
                          [
                            0.3333333333333333,
                            "#9c179e"
                          ],
                          [
                            0.4444444444444444,
                            "#bd3786"
                          ],
                          [
                            0.5555555555555556,
                            "#d8576b"
                          ],
                          [
                            0.6666666666666666,
                            "#ed7953"
                          ],
                          [
                            0.7777777777777778,
                            "#fb9f3a"
                          ],
                          [
                            0.8888888888888888,
                            "#fdca26"
                          ],
                          [
                            1,
                            "#f0f921"
                          ]
                        ],
                        "type": "contour"
                      }
                    ],
                    "contourcarpet": [
                      {
                        "colorbar": {
                          "outlinewidth": 0,
                          "ticks": ""
                        },
                        "type": "contourcarpet"
                      }
                    ],
                    "heatmap": [
                      {
                        "colorbar": {
                          "outlinewidth": 0,
                          "ticks": ""
                        },
                        "colorscale": [
                          [
                            0,
                            "#0d0887"
                          ],
                          [
                            0.1111111111111111,
                            "#46039f"
                          ],
                          [
                            0.2222222222222222,
                            "#7201a8"
                          ],
                          [
                            0.3333333333333333,
                            "#9c179e"
                          ],
                          [
                            0.4444444444444444,
                            "#bd3786"
                          ],
                          [
                            0.5555555555555556,
                            "#d8576b"
                          ],
                          [
                            0.6666666666666666,
                            "#ed7953"
                          ],
                          [
                            0.7777777777777778,
                            "#fb9f3a"
                          ],
                          [
                            0.8888888888888888,
                            "#fdca26"
                          ],
                          [
                            1,
                            "#f0f921"
                          ]
                        ],
                        "type": "heatmap"
                      }
                    ],
                    "heatmapgl": [
                      {
                        "colorbar": {
                          "outlinewidth": 0,
                          "ticks": ""
                        },
                        "colorscale": [
                          [
                            0,
                            "#0d0887"
                          ],
                          [
                            0.1111111111111111,
                            "#46039f"
                          ],
                          [
                            0.2222222222222222,
                            "#7201a8"
                          ],
                          [
                            0.3333333333333333,
                            "#9c179e"
                          ],
                          [
                            0.4444444444444444,
                            "#bd3786"
                          ],
                          [
                            0.5555555555555556,
                            "#d8576b"
                          ],
                          [
                            0.6666666666666666,
                            "#ed7953"
                          ],
                          [
                            0.7777777777777778,
                            "#fb9f3a"
                          ],
                          [
                            0.8888888888888888,
                            "#fdca26"
                          ],
                          [
                            1,
                            "#f0f921"
                          ]
                        ],
                        "type": "heatmapgl"
                      }
                    ],
                    "histogram": [
                      {
                        "marker": {
                          "pattern": {
                            "fillmode": "overlay",
                            "size": 10,
                            "solidity": 0.2
                          }
                        },
                        "type": "histogram"
                      }
                    ],
                    "histogram2d": [
                      {
                        "colorbar": {
                          "outlinewidth": 0,
                          "ticks": ""
                        },
                        "colorscale": [
                          [
                            0,
                            "#0d0887"
                          ],
                          [
                            0.1111111111111111,
                            "#46039f"
                          ],
                          [
                            0.2222222222222222,
                            "#7201a8"
                          ],
                          [
                            0.3333333333333333,
                            "#9c179e"
                          ],
                          [
                            0.4444444444444444,
                            "#bd3786"
                          ],
                          [
                            0.5555555555555556,
                            "#d8576b"
                          ],
                          [
                            0.6666666666666666,
                            "#ed7953"
                          ],
                          [
                            0.7777777777777778,
                            "#fb9f3a"
                          ],
                          [
                            0.8888888888888888,
                            "#fdca26"
                          ],
                          [
                            1,
                            "#f0f921"
                          ]
                        ],
                        "type": "histogram2d"
                      }
                    ],
                    "histogram2dcontour": [
                      {
                        "colorbar": {
                          "outlinewidth": 0,
                          "ticks": ""
                        },
                        "colorscale": [
                          [
                            0,
                            "#0d0887"
                          ],
                          [
                            0.1111111111111111,
                            "#46039f"
                          ],
                          [
                            0.2222222222222222,
                            "#7201a8"
                          ],
                          [
                            0.3333333333333333,
                            "#9c179e"
                          ],
                          [
                            0.4444444444444444,
                            "#bd3786"
                          ],
                          [
                            0.5555555555555556,
                            "#d8576b"
                          ],
                          [
                            0.6666666666666666,
                            "#ed7953"
                          ],
                          [
                            0.7777777777777778,
                            "#fb9f3a"
                          ],
                          [
                            0.8888888888888888,
                            "#fdca26"
                          ],
                          [
                            1,
                            "#f0f921"
                          ]
                        ],
                        "type": "histogram2dcontour"
                      }
                    ],
                    "mesh3d": [
                      {
                        "colorbar": {
                          "outlinewidth": 0,
                          "ticks": ""
                        },
                        "type": "mesh3d"
                      }
                    ],
                    "parcoords": [
                      {
                        "line": {
                          "colorbar": {
                            "outlinewidth": 0,
                            "ticks": ""
                          }
                        },
                        "type": "parcoords"
                      }
                    ],
                    "pie": [
                      {
                        "automargin": true,
                        "type": "pie"
                      }
                    ],
                    "scatter": [
                      {
                        "fillpattern": {
                          "fillmode": "overlay",
                          "size": 10,
                          "solidity": 0.2
                        },
                        "type": "scatter"
                      }
                    ],
                    "scatter3d": [
                      {
                        "line": {
                          "colorbar": {
                            "outlinewidth": 0,
                            "ticks": ""
                          }
                        },
                        "marker": {
                          "colorbar": {
                            "outlinewidth": 0,
                            "ticks": ""
                          }
                        },
                        "type": "scatter3d"
                      }
                    ],
                    "scattercarpet": [
                      {
                        "marker": {
                          "colorbar": {
                            "outlinewidth": 0,
                            "ticks": ""
                          }
                        },
                        "type": "scattercarpet"
                      }
                    ],
                    "scattergeo": [
                      {
                        "marker": {
                          "colorbar": {
                            "outlinewidth": 0,
                            "ticks": ""
                          }
                        },
                        "type": "scattergeo"
                      }
                    ],
                    "scattergl": [
                      {
                        "marker": {
                          "colorbar": {
                            "outlinewidth": 0,
                            "ticks": ""
                          }
                        },
                        "type": "scattergl"
                      }
                    ],
                    "scattermapbox": [
                      {
                        "marker": {
                          "colorbar": {
                            "outlinewidth": 0,
                            "ticks": ""
                          }
                        },
                        "type": "scattermapbox"
                      }
                    ],
                    "scatterpolar": [
                      {
                        "marker": {
                          "colorbar": {
                            "outlinewidth": 0,
                            "ticks": ""
                          }
                        },
                        "type": "scatterpolar"
                      }
                    ],
                    "scatterpolargl": [
                      {
                        "marker": {
                          "colorbar": {
                            "outlinewidth": 0,
                            "ticks": ""
                          }
                        },
                        "type": "scatterpolargl"
                      }
                    ],
                    "scatterternary": [
                      {
                        "marker": {
                          "colorbar": {
                            "outlinewidth": 0,
                            "ticks": ""
                          }
                        },
                        "type": "scatterternary"
                      }
                    ],
                    "surface": [
                      {
                        "colorbar": {
                          "outlinewidth": 0,
                          "ticks": ""
                        },
                        "colorscale": [
                          [
                            0,
                            "#0d0887"
                          ],
                          [
                            0.1111111111111111,
                            "#46039f"
                          ],
                          [
                            0.2222222222222222,
                            "#7201a8"
                          ],
                          [
                            0.3333333333333333,
                            "#9c179e"
                          ],
                          [
                            0.4444444444444444,
                            "#bd3786"
                          ],
                          [
                            0.5555555555555556,
                            "#d8576b"
                          ],
                          [
                            0.6666666666666666,
                            "#ed7953"
                          ],
                          [
                            0.7777777777777778,
                            "#fb9f3a"
                          ],
                          [
                            0.8888888888888888,
                            "#fdca26"
                          ],
                          [
                            1,
                            "#f0f921"
                          ]
                        ],
                        "type": "surface"
                      }
                    ],
                    "table": [
                      {
                        "cells": {
                          "fill": {
                            "color": "#EBF0F8"
                          },
                          "line": {
                            "color": "white"
                          }
                        },
                        "header": {
                          "fill": {
                            "color": "#C8D4E3"
                          },
                          "line": {
                            "color": "white"
                          }
                        },
                        "type": "table"
                      }
                    ]
                  },
                  "layout": {
                    "annotationdefaults": {
                      "arrowcolor": "#2a3f5f",
                      "arrowhead": 0,
                      "arrowwidth": 1
                    },
                    "autotypenumbers": "strict",
                    "coloraxis": {
                      "colorbar": {
                        "outlinewidth": 0,
                        "ticks": ""
                      }
                    },
                    "colorscale": {
                      "diverging": [
                        [
                          0,
                          "#8e0152"
                        ],
                        [
                          0.1,
                          "#c51b7d"
                        ],
                        [
                          0.2,
                          "#de77ae"
                        ],
                        [
                          0.3,
                          "#f1b6da"
                        ],
                        [
                          0.4,
                          "#fde0ef"
                        ],
                        [
                          0.5,
                          "#f7f7f7"
                        ],
                        [
                          0.6,
                          "#e6f5d0"
                        ],
                        [
                          0.7,
                          "#b8e186"
                        ],
                        [
                          0.8,
                          "#7fbc41"
                        ],
                        [
                          0.9,
                          "#4d9221"
                        ],
                        [
                          1,
                          "#276419"
                        ]
                      ],
                      "sequential": [
                        [
                          0,
                          "#0d0887"
                        ],
                        [
                          0.1111111111111111,
                          "#46039f"
                        ],
                        [
                          0.2222222222222222,
                          "#7201a8"
                        ],
                        [
                          0.3333333333333333,
                          "#9c179e"
                        ],
                        [
                          0.4444444444444444,
                          "#bd3786"
                        ],
                        [
                          0.5555555555555556,
                          "#d8576b"
                        ],
                        [
                          0.6666666666666666,
                          "#ed7953"
                        ],
                        [
                          0.7777777777777778,
                          "#fb9f3a"
                        ],
                        [
                          0.8888888888888888,
                          "#fdca26"
                        ],
                        [
                          1,
                          "#f0f921"
                        ]
                      ],
                      "sequentialminus": [
                        [
                          0,
                          "#0d0887"
                        ],
                        [
                          0.1111111111111111,
                          "#46039f"
                        ],
                        [
                          0.2222222222222222,
                          "#7201a8"
                        ],
                        [
                          0.3333333333333333,
                          "#9c179e"
                        ],
                        [
                          0.4444444444444444,
                          "#bd3786"
                        ],
                        [
                          0.5555555555555556,
                          "#d8576b"
                        ],
                        [
                          0.6666666666666666,
                          "#ed7953"
                        ],
                        [
                          0.7777777777777778,
                          "#fb9f3a"
                        ],
                        [
                          0.8888888888888888,
                          "#fdca26"
                        ],
                        [
                          1,
                          "#f0f921"
                        ]
                      ]
                    },
                    "colorway": [
                      "#636efa",
                      "#EF553B",
                      "#00cc96",
                      "#ab63fa",
                      "#FFA15A",
                      "#19d3f3",
                      "#FF6692",
                      "#B6E880",
                      "#FF97FF",
                      "#FECB52"
                    ],
                    "font": {
                      "color": "#2a3f5f"
                    },
                    "geo": {
                      "bgcolor": "white",
                      "lakecolor": "white",
                      "landcolor": "#E5ECF6",
                      "showlakes": true,
                      "showland": true,
                      "subunitcolor": "white"
                    },
                    "hoverlabel": {
                      "align": "left"
                    },
                    "hovermode": "closest",
                    "mapbox": {
                      "style": "light"
                    },
                    "paper_bgcolor": "white",
                    "plot_bgcolor": "#E5ECF6",
                    "polar": {
                      "angularaxis": {
                        "gridcolor": "white",
                        "linecolor": "white",
                        "ticks": ""
                      },
                      "bgcolor": "#E5ECF6",
                      "radialaxis": {
                        "gridcolor": "white",
                        "linecolor": "white",
                        "ticks": ""
                      }
                    },
                    "scene": {
                      "xaxis": {
                        "backgroundcolor": "#E5ECF6",
                        "gridcolor": "white",
                        "gridwidth": 2,
                        "linecolor": "white",
                        "showbackground": true,
                        "ticks": "",
                        "zerolinecolor": "white"
                      },
                      "yaxis": {
                        "backgroundcolor": "#E5ECF6",
                        "gridcolor": "white",
                        "gridwidth": 2,
                        "linecolor": "white",
                        "showbackground": true,
                        "ticks": "",
                        "zerolinecolor": "white"
                      },
                      "zaxis": {
                        "backgroundcolor": "#E5ECF6",
                        "gridcolor": "white",
                        "gridwidth": 2,
                        "linecolor": "white",
                        "showbackground": true,
                        "ticks": "",
                        "zerolinecolor": "white"
                      }
                    },
                    "shapedefaults": {
                      "line": {
                        "color": "#2a3f5f"
                      }
                    },
                    "ternary": {
                      "aaxis": {
                        "gridcolor": "white",
                        "linecolor": "white",
                        "ticks": ""
                      },
                      "baxis": {
                        "gridcolor": "white",
                        "linecolor": "white",
                        "ticks": ""
                      },
                      "bgcolor": "#E5ECF6",
                      "caxis": {
                        "gridcolor": "white",
                        "linecolor": "white",
                        "ticks": ""
                      }
                    },
                    "title": {
                      "x": 0.05
                    },
                    "xaxis": {
                      "automargin": true,
                      "gridcolor": "white",
                      "linecolor": "white",
                      "ticks": "",
                      "title": {
                        "standoff": 15
                      },
                      "zerolinecolor": "white",
                      "zerolinewidth": 2
                    },
                    "yaxis": {
                      "automargin": true,
                      "gridcolor": "white",
                      "linecolor": "white",
                      "ticks": "",
                      "title": {
                        "standoff": 15
                      },
                      "zerolinecolor": "white",
                      "zerolinewidth": 2
                    }
                  }
                },
                "title": {
                  "text": "Clone Tree1 (s1405312T)"
                },
                "xaxis": {
                  "showgrid": false,
                  "showline": false,
                  "showticklabels": false,
                  "zeroline": false
                },
                "yaxis": {
                  "showgrid": false,
                  "showline": false,
                  "showticklabels": false,
                  "zeroline": false
                }
              }
            },
            "text/html": [
              "<div>                            <div id=\"0dd738cf-9812-4c41-997b-ff8caf2d2ae4\" class=\"plotly-graph-div\" style=\"height:525px; width:100%;\"></div>            <script type=\"text/javascript\">                require([\"plotly\"], function(Plotly) {                    window.PLOTLYENV=window.PLOTLYENV || {};                                    if (document.getElementById(\"0dd738cf-9812-4c41-997b-ff8caf2d2ae4\")) {                    Plotly.newPlot(                        \"0dd738cf-9812-4c41-997b-ff8caf2d2ae4\",                        [{\"hoverinfo\":\"none\",\"line\":{\"color\":\"#1D2339\",\"width\":3},\"mode\":\"lines\",\"showlegend\":false,\"x\":[0,0,null,0,0.5,null,0.5,1.0,null,0.5,1.0,null,0.5,1.0,null],\"y\":[30.0,30.0,null,30.0,30.0,null,30.0,0,null,30.0,30,null,30.0,60,null],\"type\":\"scatter\"},{\"hoverinfo\":\"none\",\"marker\":{\"color\":\"#818589\",\"line\":{\"color\":\"#1D2339\",\"width\":1},\"size\":45,\"symbol\":\"circle\"},\"mode\":\"markers\",\"showlegend\":false,\"x\":[0,0.5,1.0,1.0,1.0],\"y\":[30.0,30.0,0,30,60],\"type\":\"scatter\"},{\"hoverinfo\":\"text\",\"hovertext\":\"TP53\",\"marker\":{\"color\":\"rgb(13, 8, 135)\",\"size\":28,\"symbol\":\"star\"},\"mode\":\"markers\",\"name\":\"TP53\",\"x\":[0.75],\"y\":[15.0],\"type\":\"scatter\"},{\"hoverinfo\":\"text\",\"hovertext\":\"KRAS\",\"marker\":{\"color\":\"rgb(203, 71, 120)\",\"size\":28,\"symbol\":\"star\"},\"mode\":\"markers\",\"name\":\"KRAS\",\"x\":[0.25],\"y\":[30.0],\"type\":\"scatter\"}],                        {\"template\":{\"data\":{\"histogram2dcontour\":[{\"type\":\"histogram2dcontour\",\"colorbar\":{\"outlinewidth\":0,\"ticks\":\"\"},\"colorscale\":[[0.0,\"#0d0887\"],[0.1111111111111111,\"#46039f\"],[0.2222222222222222,\"#7201a8\"],[0.3333333333333333,\"#9c179e\"],[0.4444444444444444,\"#bd3786\"],[0.5555555555555556,\"#d8576b\"],[0.6666666666666666,\"#ed7953\"],[0.7777777777777778,\"#fb9f3a\"],[0.8888888888888888,\"#fdca26\"],[1.0,\"#f0f921\"]]}],\"choropleth\":[{\"type\":\"choropleth\",\"colorbar\":{\"outlinewidth\":0,\"ticks\":\"\"}}],\"histogram2d\":[{\"type\":\"histogram2d\",\"colorbar\":{\"outlinewidth\":0,\"ticks\":\"\"},\"colorscale\":[[0.0,\"#0d0887\"],[0.1111111111111111,\"#46039f\"],[0.2222222222222222,\"#7201a8\"],[0.3333333333333333,\"#9c179e\"],[0.4444444444444444,\"#bd3786\"],[0.5555555555555556,\"#d8576b\"],[0.6666666666666666,\"#ed7953\"],[0.7777777777777778,\"#fb9f3a\"],[0.8888888888888888,\"#fdca26\"],[1.0,\"#f0f921\"]]}],\"heatmap\":[{\"type\":\"heatmap\",\"colorbar\":{\"outlinewidth\":0,\"ticks\":\"\"},\"colorscale\":[[0.0,\"#0d0887\"],[0.1111111111111111,\"#46039f\"],[0.2222222222222222,\"#7201a8\"],[0.3333333333333333,\"#9c179e\"],[0.4444444444444444,\"#bd3786\"],[0.5555555555555556,\"#d8576b\"],[0.6666666666666666,\"#ed7953\"],[0.7777777777777778,\"#fb9f3a\"],[0.8888888888888888,\"#fdca26\"],[1.0,\"#f0f921\"]]}],\"heatmapgl\":[{\"type\":\"heatmapgl\",\"colorbar\":{\"outlinewidth\":0,\"ticks\":\"\"},\"colorscale\":[[0.0,\"#0d0887\"],[0.1111111111111111,\"#46039f\"],[0.2222222222222222,\"#7201a8\"],[0.3333333333333333,\"#9c179e\"],[0.4444444444444444,\"#bd3786\"],[0.5555555555555556,\"#d8576b\"],[0.6666666666666666,\"#ed7953\"],[0.7777777777777778,\"#fb9f3a\"],[0.8888888888888888,\"#fdca26\"],[1.0,\"#f0f921\"]]}],\"contourcarpet\":[{\"type\":\"contourcarpet\",\"colorbar\":{\"outlinewidth\":0,\"ticks\":\"\"}}],\"contour\":[{\"type\":\"contour\",\"colorbar\":{\"outlinewidth\":0,\"ticks\":\"\"},\"colorscale\":[[0.0,\"#0d0887\"],[0.1111111111111111,\"#46039f\"],[0.2222222222222222,\"#7201a8\"],[0.3333333333333333,\"#9c179e\"],[0.4444444444444444,\"#bd3786\"],[0.5555555555555556,\"#d8576b\"],[0.6666666666666666,\"#ed7953\"],[0.7777777777777778,\"#fb9f3a\"],[0.8888888888888888,\"#fdca26\"],[1.0,\"#f0f921\"]]}],\"surface\":[{\"type\":\"surface\",\"colorbar\":{\"outlinewidth\":0,\"ticks\":\"\"},\"colorscale\":[[0.0,\"#0d0887\"],[0.1111111111111111,\"#46039f\"],[0.2222222222222222,\"#7201a8\"],[0.3333333333333333,\"#9c179e\"],[0.4444444444444444,\"#bd3786\"],[0.5555555555555556,\"#d8576b\"],[0.6666666666666666,\"#ed7953\"],[0.7777777777777778,\"#fb9f3a\"],[0.8888888888888888,\"#fdca26\"],[1.0,\"#f0f921\"]]}],\"mesh3d\":[{\"type\":\"mesh3d\",\"colorbar\":{\"outlinewidth\":0,\"ticks\":\"\"}}],\"scatter\":[{\"fillpattern\":{\"fillmode\":\"overlay\",\"size\":10,\"solidity\":0.2},\"type\":\"scatter\"}],\"parcoords\":[{\"type\":\"parcoords\",\"line\":{\"colorbar\":{\"outlinewidth\":0,\"ticks\":\"\"}}}],\"scatterpolargl\":[{\"type\":\"scatterpolargl\",\"marker\":{\"colorbar\":{\"outlinewidth\":0,\"ticks\":\"\"}}}],\"bar\":[{\"error_x\":{\"color\":\"#2a3f5f\"},\"error_y\":{\"color\":\"#2a3f5f\"},\"marker\":{\"line\":{\"color\":\"#E5ECF6\",\"width\":0.5},\"pattern\":{\"fillmode\":\"overlay\",\"size\":10,\"solidity\":0.2}},\"type\":\"bar\"}],\"scattergeo\":[{\"type\":\"scattergeo\",\"marker\":{\"colorbar\":{\"outlinewidth\":0,\"ticks\":\"\"}}}],\"scatterpolar\":[{\"type\":\"scatterpolar\",\"marker\":{\"colorbar\":{\"outlinewidth\":0,\"ticks\":\"\"}}}],\"histogram\":[{\"marker\":{\"pattern\":{\"fillmode\":\"overlay\",\"size\":10,\"solidity\":0.2}},\"type\":\"histogram\"}],\"scattergl\":[{\"type\":\"scattergl\",\"marker\":{\"colorbar\":{\"outlinewidth\":0,\"ticks\":\"\"}}}],\"scatter3d\":[{\"type\":\"scatter3d\",\"line\":{\"colorbar\":{\"outlinewidth\":0,\"ticks\":\"\"}},\"marker\":{\"colorbar\":{\"outlinewidth\":0,\"ticks\":\"\"}}}],\"scattermapbox\":[{\"type\":\"scattermapbox\",\"marker\":{\"colorbar\":{\"outlinewidth\":0,\"ticks\":\"\"}}}],\"scatterternary\":[{\"type\":\"scatterternary\",\"marker\":{\"colorbar\":{\"outlinewidth\":0,\"ticks\":\"\"}}}],\"scattercarpet\":[{\"type\":\"scattercarpet\",\"marker\":{\"colorbar\":{\"outlinewidth\":0,\"ticks\":\"\"}}}],\"carpet\":[{\"aaxis\":{\"endlinecolor\":\"#2a3f5f\",\"gridcolor\":\"white\",\"linecolor\":\"white\",\"minorgridcolor\":\"white\",\"startlinecolor\":\"#2a3f5f\"},\"baxis\":{\"endlinecolor\":\"#2a3f5f\",\"gridcolor\":\"white\",\"linecolor\":\"white\",\"minorgridcolor\":\"white\",\"startlinecolor\":\"#2a3f5f\"},\"type\":\"carpet\"}],\"table\":[{\"cells\":{\"fill\":{\"color\":\"#EBF0F8\"},\"line\":{\"color\":\"white\"}},\"header\":{\"fill\":{\"color\":\"#C8D4E3\"},\"line\":{\"color\":\"white\"}},\"type\":\"table\"}],\"barpolar\":[{\"marker\":{\"line\":{\"color\":\"#E5ECF6\",\"width\":0.5},\"pattern\":{\"fillmode\":\"overlay\",\"size\":10,\"solidity\":0.2}},\"type\":\"barpolar\"}],\"pie\":[{\"automargin\":true,\"type\":\"pie\"}]},\"layout\":{\"autotypenumbers\":\"strict\",\"colorway\":[\"#636efa\",\"#EF553B\",\"#00cc96\",\"#ab63fa\",\"#FFA15A\",\"#19d3f3\",\"#FF6692\",\"#B6E880\",\"#FF97FF\",\"#FECB52\"],\"font\":{\"color\":\"#2a3f5f\"},\"hovermode\":\"closest\",\"hoverlabel\":{\"align\":\"left\"},\"paper_bgcolor\":\"white\",\"plot_bgcolor\":\"#E5ECF6\",\"polar\":{\"bgcolor\":\"#E5ECF6\",\"angularaxis\":{\"gridcolor\":\"white\",\"linecolor\":\"white\",\"ticks\":\"\"},\"radialaxis\":{\"gridcolor\":\"white\",\"linecolor\":\"white\",\"ticks\":\"\"}},\"ternary\":{\"bgcolor\":\"#E5ECF6\",\"aaxis\":{\"gridcolor\":\"white\",\"linecolor\":\"white\",\"ticks\":\"\"},\"baxis\":{\"gridcolor\":\"white\",\"linecolor\":\"white\",\"ticks\":\"\"},\"caxis\":{\"gridcolor\":\"white\",\"linecolor\":\"white\",\"ticks\":\"\"}},\"coloraxis\":{\"colorbar\":{\"outlinewidth\":0,\"ticks\":\"\"}},\"colorscale\":{\"sequential\":[[0.0,\"#0d0887\"],[0.1111111111111111,\"#46039f\"],[0.2222222222222222,\"#7201a8\"],[0.3333333333333333,\"#9c179e\"],[0.4444444444444444,\"#bd3786\"],[0.5555555555555556,\"#d8576b\"],[0.6666666666666666,\"#ed7953\"],[0.7777777777777778,\"#fb9f3a\"],[0.8888888888888888,\"#fdca26\"],[1.0,\"#f0f921\"]],\"sequentialminus\":[[0.0,\"#0d0887\"],[0.1111111111111111,\"#46039f\"],[0.2222222222222222,\"#7201a8\"],[0.3333333333333333,\"#9c179e\"],[0.4444444444444444,\"#bd3786\"],[0.5555555555555556,\"#d8576b\"],[0.6666666666666666,\"#ed7953\"],[0.7777777777777778,\"#fb9f3a\"],[0.8888888888888888,\"#fdca26\"],[1.0,\"#f0f921\"]],\"diverging\":[[0,\"#8e0152\"],[0.1,\"#c51b7d\"],[0.2,\"#de77ae\"],[0.3,\"#f1b6da\"],[0.4,\"#fde0ef\"],[0.5,\"#f7f7f7\"],[0.6,\"#e6f5d0\"],[0.7,\"#b8e186\"],[0.8,\"#7fbc41\"],[0.9,\"#4d9221\"],[1,\"#276419\"]]},\"xaxis\":{\"gridcolor\":\"white\",\"linecolor\":\"white\",\"ticks\":\"\",\"title\":{\"standoff\":15},\"zerolinecolor\":\"white\",\"automargin\":true,\"zerolinewidth\":2},\"yaxis\":{\"gridcolor\":\"white\",\"linecolor\":\"white\",\"ticks\":\"\",\"title\":{\"standoff\":15},\"zerolinecolor\":\"white\",\"automargin\":true,\"zerolinewidth\":2},\"scene\":{\"xaxis\":{\"backgroundcolor\":\"#E5ECF6\",\"gridcolor\":\"white\",\"linecolor\":\"white\",\"showbackground\":true,\"ticks\":\"\",\"zerolinecolor\":\"white\",\"gridwidth\":2},\"yaxis\":{\"backgroundcolor\":\"#E5ECF6\",\"gridcolor\":\"white\",\"linecolor\":\"white\",\"showbackground\":true,\"ticks\":\"\",\"zerolinecolor\":\"white\",\"gridwidth\":2},\"zaxis\":{\"backgroundcolor\":\"#E5ECF6\",\"gridcolor\":\"white\",\"linecolor\":\"white\",\"showbackground\":true,\"ticks\":\"\",\"zerolinecolor\":\"white\",\"gridwidth\":2}},\"shapedefaults\":{\"line\":{\"color\":\"#2a3f5f\"}},\"annotationdefaults\":{\"arrowcolor\":\"#2a3f5f\",\"arrowhead\":0,\"arrowwidth\":1},\"geo\":{\"bgcolor\":\"white\",\"landcolor\":\"#E5ECF6\",\"subunitcolor\":\"white\",\"showland\":true,\"showlakes\":true,\"lakecolor\":\"white\"},\"title\":{\"x\":0.05},\"mapbox\":{\"style\":\"light\"}}},\"font\":{\"size\":14},\"legend\":{\"title\":{\"text\":\"Mutation\"}},\"xaxis\":{\"showline\":false,\"zeroline\":false,\"showgrid\":false,\"showticklabels\":false},\"yaxis\":{\"showline\":false,\"zeroline\":false,\"showgrid\":false,\"showticklabels\":false},\"title\":{\"text\":\"Clone Tree1 (s1405312T)\"},\"annotations\":[{\"font\":{\"color\":\"#FFFFFF\",\"size\":12},\"showarrow\":false,\"text\":\"0\",\"x\":0,\"xref\":\"x\",\"y\":30.0,\"yref\":\"y\"},{\"font\":{\"color\":\"#FFFFFF\",\"size\":12},\"showarrow\":false,\"text\":\"1\",\"x\":0.5,\"xref\":\"x\",\"y\":30.0,\"yref\":\"y\"},{\"font\":{\"color\":\"#FFFFFF\",\"size\":12},\"showarrow\":false,\"text\":\"2\",\"x\":1.0,\"xref\":\"x\",\"y\":0,\"yref\":\"y\"},{\"font\":{\"color\":\"#FFFFFF\",\"size\":12},\"showarrow\":false,\"text\":\"3\",\"x\":1.0,\"xref\":\"x\",\"y\":30,\"yref\":\"y\"},{\"font\":{\"color\":\"#FFFFFF\",\"size\":12},\"showarrow\":false,\"text\":\"4\",\"x\":1.0,\"xref\":\"x\",\"y\":60,\"yref\":\"y\"}],\"showlegend\":true},                        {\"responsive\": true}                    ).then(function(){\n",
              "                            \n",
              "var gd = document.getElementById('0dd738cf-9812-4c41-997b-ff8caf2d2ae4');\n",
              "var x = new MutationObserver(function (mutations, observer) {{\n",
              "        var display = window.getComputedStyle(gd).display;\n",
              "        if (!display || display === 'none') {{\n",
              "            console.log([gd, 'removed!']);\n",
              "            Plotly.purge(gd);\n",
              "            observer.disconnect();\n",
              "        }}\n",
              "}});\n",
              "\n",
              "// Listen for the removal of the full notebook cells\n",
              "var notebookContainer = gd.closest('#notebook-container');\n",
              "if (notebookContainer) {{\n",
              "    x.observe(notebookContainer, {childList: true});\n",
              "}}\n",
              "\n",
              "// Listen for the clearing of the current output cell\n",
              "var outputEl = gd.closest('.output');\n",
              "if (outputEl) {{\n",
              "    x.observe(outputEl, {childList: true});\n",
              "}}\n",
              "\n",
              "                        })                };                });            </script>        </div>"
            ]
          },
          "metadata": {},
          "output_type": "display_data"
        },
        {
          "data": {
            "image/png": "[encoded data removed]",
            "text/plain": [
              "<Figure size 720x360 with 2 Axes>"
            ]
          },
          "metadata": {
            "needs_background": "light"
          },
          "output_type": "display_data"
        }
      ],
      "source": [
        "lts_patient = lts_patients[13] # 13, 18 - strong clonal neoantigen, 19 - 2 subclonal neoantigens, 20 - dominant subclone with driver genes also has a neoantigen\n",
        "plottree = PlotTreeAll(lts_patient, drivers=[\"TP53\",\"KRAS\",\"CDKN2A\", \"SMAD4\"], tid=0, save_html=False, show=True)\n",
        "df=pd.DataFrame([[\"C\"+str(node.id), node.Y,node.fitness] for node in anl.samples[lts_patient.name].trees[0].nodes.values()],columns=[\"Clone\",\"X0\",\"F\"])\n",
        "plot_response(df, 0.4, lts_patient.name)"
      ]
    },
    {
      "cell_type": "markdown",
      "metadata": {
        "id": "dIGHUrAWmqLb"
      },
      "source": [
        "# Survival analysis"
      ]
    },
    {
      "cell_type": "code",
      "execution_count": null,
      "metadata": {
        "colab": {
          "base_uri": "https://localhost:8080/",
          "height": 472
        },
        "id": "1ACUZqD-gQ-t",
        "outputId": "4f23cf02-9e8e-4981-c094-28c46f49f8e5"
      },
      "outputs": [
        {
          "data": {
            "image/png": "[encoded data removed]",
            "text/plain": [
              "<Figure size 432x288 with 1 Axes>"
            ]
          },
          "metadata": {
            "needs_background": "light"
          },
          "output_type": "display_data"
        }
      ],
      "source": [
        "# Survival analysis\n",
        "res_surv = anl.classify_survival(beta=1., tau=tau, outdir=None, OS=True, PFS=True, quantile=0.5)\n",
        "anl.plot_survival(OS=True, pval=res_surv[\"pval_OS\"], quantile=0.5, show=True)\n"
      ]
    },
    {
      "cell_type": "markdown",
      "metadata": {
        "id": "PW8EJvx6uMpx"
      },
      "source": [
        "Other statistics of the patient samples:"
      ]
    },
    {
      "cell_type": "code",
      "execution_count": null,
      "metadata": {
        "colab": {
          "base_uri": "https://localhost:8080/",
          "height": 1000
        },
        "id": "Ag3Ojtp1uQEO",
        "outputId": "93420a86-6662-4481-e560-a636bd9cfa24"
      },
      "outputs": [
        {
          "data": {
            "text/html": [
              "<div>\n",
              "<style scoped>\n",
              "    .dataframe tbody tr th:only-of-type {\n",
              "        vertical-align: middle;\n",
              "    }\n",
              "\n",
              "    .dataframe tbody tr th {\n",
              "        vertical-align: top;\n",
              "    }\n",
              "\n",
              "    .dataframe thead th {\n",
              "        text-align: right;\n",
              "    }\n",
              "</style>\n",
              "<table border=\"1\" class=\"dataframe\">\n",
              "  <thead>\n",
              "    <tr style=\"text-align: right;\">\n",
              "      <th></th>\n",
              "      <th>Sample</th>\n",
              "      <th>OS</th>\n",
              "      <th>ntau</th>\n",
              "      <th>Cohort</th>\n",
              "      <th>TMB</th>\n",
              "      <th>TMB_nsyn</th>\n",
              "      <th>TMB_syn</th>\n",
              "      <th>TMB_MHC</th>\n",
              "      <th>TNB</th>\n",
              "      <th>TMB_eff</th>\n",
              "      <th>TMB_nsyn_eff</th>\n",
              "      <th>TMB_syn_eff</th>\n",
              "      <th>TMB_MHC_eff</th>\n",
              "      <th>TNB_eff</th>\n",
              "      <th>nclones</th>\n",
              "      <th>neff_clones</th>\n",
              "      <th>entropy</th>\n",
              "    </tr>\n",
              "  </thead>\n",
              "  <tbody>\n",
              "    <tr>\n",
              "      <th>0</th>\n",
              "      <td>s1185621T</td>\n",
              "      <td>9.60</td>\n",
              "      <td>0.224468</td>\n",
              "      <td>LTS</td>\n",
              "      <td>6647.0</td>\n",
              "      <td>2316</td>\n",
              "      <td>1031</td>\n",
              "      <td>998.0</td>\n",
              "      <td>1350</td>\n",
              "      <td>3836.254208</td>\n",
              "      <td>1249.955788</td>\n",
              "      <td>560.475991</td>\n",
              "      <td>535.578036</td>\n",
              "      <td>722.572141</td>\n",
              "      <td>3.000000</td>\n",
              "      <td>2.546106</td>\n",
              "      <td>0.934565</td>\n",
              "    </tr>\n",
              "    <tr>\n",
              "      <th>1</th>\n",
              "      <td>s1410022T</td>\n",
              "      <td>0.87</td>\n",
              "      <td>1.000000</td>\n",
              "      <td>STS</td>\n",
              "      <td>220.0</td>\n",
              "      <td>53</td>\n",
              "      <td>15</td>\n",
              "      <td>18.0</td>\n",
              "      <td>28</td>\n",
              "      <td>111.197867</td>\n",
              "      <td>17.175583</td>\n",
              "      <td>6.518900</td>\n",
              "      <td>6.592225</td>\n",
              "      <td>10.017161</td>\n",
              "      <td>3.999389</td>\n",
              "      <td>2.958327</td>\n",
              "      <td>1.084606</td>\n",
              "    </tr>\n",
              "    <tr>\n",
              "      <th>2</th>\n",
              "      <td>s1134131T</td>\n",
              "      <td>10.60</td>\n",
              "      <td>0.527505</td>\n",
              "      <td>LTS</td>\n",
              "      <td>203.0</td>\n",
              "      <td>60</td>\n",
              "      <td>22</td>\n",
              "      <td>31.0</td>\n",
              "      <td>61</td>\n",
              "      <td>74.793391</td>\n",
              "      <td>20.493201</td>\n",
              "      <td>6.997179</td>\n",
              "      <td>10.779840</td>\n",
              "      <td>21.650805</td>\n",
              "      <td>4.983483</td>\n",
              "      <td>4.172216</td>\n",
              "      <td>1.389673</td>\n",
              "    </tr>\n",
              "    <tr>\n",
              "      <th>3</th>\n",
              "      <td>s1200702T</td>\n",
              "      <td>9.36</td>\n",
              "      <td>0.779162</td>\n",
              "      <td>LTS</td>\n",
              "      <td>269.0</td>\n",
              "      <td>53</td>\n",
              "      <td>23</td>\n",
              "      <td>24.0</td>\n",
              "      <td>37</td>\n",
              "      <td>73.715197</td>\n",
              "      <td>10.719288</td>\n",
              "      <td>5.682857</td>\n",
              "      <td>4.374517</td>\n",
              "      <td>5.817271</td>\n",
              "      <td>5.990476</td>\n",
              "      <td>5.123252</td>\n",
              "      <td>1.633504</td>\n",
              "    </tr>\n",
              "    <tr>\n",
              "      <th>4</th>\n",
              "      <td>s1320801T</td>\n",
              "      <td>0.70</td>\n",
              "      <td>0.812825</td>\n",
              "      <td>STS</td>\n",
              "      <td>311.0</td>\n",
              "      <td>54</td>\n",
              "      <td>26</td>\n",
              "      <td>27.0</td>\n",
              "      <td>40</td>\n",
              "      <td>173.594636</td>\n",
              "      <td>28.296154</td>\n",
              "      <td>15.636123</td>\n",
              "      <td>11.799106</td>\n",
              "      <td>16.027267</td>\n",
              "      <td>3.730947</td>\n",
              "      <td>3.000163</td>\n",
              "      <td>1.094067</td>\n",
              "    </tr>\n",
              "    <tr>\n",
              "      <th>5</th>\n",
              "      <td>s1347022T</td>\n",
              "      <td>0.35</td>\n",
              "      <td>0.794894</td>\n",
              "      <td>STS</td>\n",
              "      <td>293.0</td>\n",
              "      <td>35</td>\n",
              "      <td>21</td>\n",
              "      <td>13.0</td>\n",
              "      <td>17</td>\n",
              "      <td>151.062040</td>\n",
              "      <td>10.515621</td>\n",
              "      <td>6.211768</td>\n",
              "      <td>3.681847</td>\n",
              "      <td>4.757810</td>\n",
              "      <td>3.000000</td>\n",
              "      <td>2.517737</td>\n",
              "      <td>0.923360</td>\n",
              "    </tr>\n",
              "    <tr>\n",
              "      <th>6</th>\n",
              "      <td>s1215112T</td>\n",
              "      <td>9.10</td>\n",
              "      <td>0.406538</td>\n",
              "      <td>LTS</td>\n",
              "      <td>1069.0</td>\n",
              "      <td>93</td>\n",
              "      <td>46</td>\n",
              "      <td>36.0</td>\n",
              "      <td>54</td>\n",
              "      <td>679.166224</td>\n",
              "      <td>28.249951</td>\n",
              "      <td>16.202936</td>\n",
              "      <td>10.185884</td>\n",
              "      <td>15.954316</td>\n",
              "      <td>4.000000</td>\n",
              "      <td>3.166838</td>\n",
              "      <td>1.152728</td>\n",
              "    </tr>\n",
              "    <tr>\n",
              "      <th>7</th>\n",
              "      <td>s1247561T</td>\n",
              "      <td>6.02</td>\n",
              "      <td>0.016823</td>\n",
              "      <td>LTS</td>\n",
              "      <td>1615.0</td>\n",
              "      <td>138</td>\n",
              "      <td>72</td>\n",
              "      <td>57.0</td>\n",
              "      <td>88</td>\n",
              "      <td>856.243751</td>\n",
              "      <td>41.245334</td>\n",
              "      <td>18.704476</td>\n",
              "      <td>18.886314</td>\n",
              "      <td>28.846794</td>\n",
              "      <td>5.000000</td>\n",
              "      <td>4.405593</td>\n",
              "      <td>1.482875</td>\n",
              "    </tr>\n",
              "    <tr>\n",
              "      <th>8</th>\n",
              "      <td>s1365871T</td>\n",
              "      <td>0.62</td>\n",
              "      <td>0.642660</td>\n",
              "      <td>STS</td>\n",
              "      <td>230.0</td>\n",
              "      <td>33</td>\n",
              "      <td>25</td>\n",
              "      <td>14.0</td>\n",
              "      <td>29</td>\n",
              "      <td>100.098445</td>\n",
              "      <td>12.065530</td>\n",
              "      <td>9.812536</td>\n",
              "      <td>4.446134</td>\n",
              "      <td>8.797636</td>\n",
              "      <td>4.000000</td>\n",
              "      <td>3.449083</td>\n",
              "      <td>1.238108</td>\n",
              "    </tr>\n",
              "    <tr>\n",
              "      <th>9</th>\n",
              "      <td>s1167321T</td>\n",
              "      <td>0.35</td>\n",
              "      <td>0.985932</td>\n",
              "      <td>STS</td>\n",
              "      <td>448.0</td>\n",
              "      <td>40</td>\n",
              "      <td>34</td>\n",
              "      <td>17.0</td>\n",
              "      <td>27</td>\n",
              "      <td>167.467933</td>\n",
              "      <td>12.354180</td>\n",
              "      <td>8.554800</td>\n",
              "      <td>4.950195</td>\n",
              "      <td>8.411788</td>\n",
              "      <td>3.746561</td>\n",
              "      <td>3.151698</td>\n",
              "      <td>1.138567</td>\n",
              "    </tr>\n",
              "    <tr>\n",
              "      <th>10</th>\n",
              "      <td>s1296752T</td>\n",
              "      <td>0.87</td>\n",
              "      <td>0.952922</td>\n",
              "      <td>STS</td>\n",
              "      <td>375.0</td>\n",
              "      <td>50</td>\n",
              "      <td>26</td>\n",
              "      <td>18.0</td>\n",
              "      <td>18</td>\n",
              "      <td>85.314982</td>\n",
              "      <td>10.276428</td>\n",
              "      <td>3.784670</td>\n",
              "      <td>3.833015</td>\n",
              "      <td>3.833015</td>\n",
              "      <td>6.000000</td>\n",
              "      <td>5.350962</td>\n",
              "      <td>1.677276</td>\n",
              "    </tr>\n",
              "    <tr>\n",
              "      <th>11</th>\n",
              "      <td>s1266132T</td>\n",
              "      <td>0.86</td>\n",
              "      <td>0.914213</td>\n",
              "      <td>STS</td>\n",
              "      <td>476.0</td>\n",
              "      <td>76</td>\n",
              "      <td>55</td>\n",
              "      <td>22.0</td>\n",
              "      <td>34</td>\n",
              "      <td>283.809134</td>\n",
              "      <td>30.321779</td>\n",
              "      <td>18.718380</td>\n",
              "      <td>8.627753</td>\n",
              "      <td>11.603268</td>\n",
              "      <td>4.000002</td>\n",
              "      <td>3.298022</td>\n",
              "      <td>1.193323</td>\n",
              "    </tr>\n",
              "    <tr>\n",
              "      <th>12</th>\n",
              "      <td>s1209201T</td>\n",
              "      <td>0.50</td>\n",
              "      <td>0.969411</td>\n",
              "      <td>STS</td>\n",
              "      <td>340.0</td>\n",
              "      <td>66</td>\n",
              "      <td>27</td>\n",
              "      <td>34.0</td>\n",
              "      <td>62</td>\n",
              "      <td>162.147567</td>\n",
              "      <td>22.309749</td>\n",
              "      <td>11.255190</td>\n",
              "      <td>10.954759</td>\n",
              "      <td>18.228196</td>\n",
              "      <td>4.763534</td>\n",
              "      <td>4.605372</td>\n",
              "      <td>1.511957</td>\n",
              "    </tr>\n",
              "    <tr>\n",
              "      <th>13</th>\n",
              "      <td>s1148431T</td>\n",
              "      <td>6.25</td>\n",
              "      <td>0.997508</td>\n",
              "      <td>LTS</td>\n",
              "      <td>267.0</td>\n",
              "      <td>20</td>\n",
              "      <td>17</td>\n",
              "      <td>3.0</td>\n",
              "      <td>3</td>\n",
              "      <td>117.239901</td>\n",
              "      <td>6.406102</td>\n",
              "      <td>4.468130</td>\n",
              "      <td>0.767333</td>\n",
              "      <td>0.767333</td>\n",
              "      <td>3.000000</td>\n",
              "      <td>2.417131</td>\n",
              "      <td>0.882106</td>\n",
              "    </tr>\n",
              "    <tr>\n",
              "      <th>14</th>\n",
              "      <td>s1319092T</td>\n",
              "      <td>0.82</td>\n",
              "      <td>0.959536</td>\n",
              "      <td>STS</td>\n",
              "      <td>424.0</td>\n",
              "      <td>63</td>\n",
              "      <td>32</td>\n",
              "      <td>29.0</td>\n",
              "      <td>37</td>\n",
              "      <td>140.573496</td>\n",
              "      <td>16.687206</td>\n",
              "      <td>7.010782</td>\n",
              "      <td>6.848175</td>\n",
              "      <td>8.227367</td>\n",
              "      <td>4.000162</td>\n",
              "      <td>3.072541</td>\n",
              "      <td>1.122492</td>\n",
              "    </tr>\n",
              "    <tr>\n",
              "      <th>15</th>\n",
              "      <td>s1144451T</td>\n",
              "      <td>0.72</td>\n",
              "      <td>0.991578</td>\n",
              "      <td>STS</td>\n",
              "      <td>345.0</td>\n",
              "      <td>59</td>\n",
              "      <td>25</td>\n",
              "      <td>13.0</td>\n",
              "      <td>16</td>\n",
              "      <td>159.146435</td>\n",
              "      <td>14.425597</td>\n",
              "      <td>6.644489</td>\n",
              "      <td>2.405459</td>\n",
              "      <td>3.283140</td>\n",
              "      <td>4.019382</td>\n",
              "      <td>3.454221</td>\n",
              "      <td>1.239571</td>\n",
              "    </tr>\n",
              "    <tr>\n",
              "      <th>16</th>\n",
              "      <td>s1339541T</td>\n",
              "      <td>0.81</td>\n",
              "      <td>0.625415</td>\n",
              "      <td>STS</td>\n",
              "      <td>2302.0</td>\n",
              "      <td>191</td>\n",
              "      <td>78</td>\n",
              "      <td>75.0</td>\n",
              "      <td>111</td>\n",
              "      <td>1001.313940</td>\n",
              "      <td>43.236943</td>\n",
              "      <td>15.828125</td>\n",
              "      <td>18.847757</td>\n",
              "      <td>30.391088</td>\n",
              "      <td>5.000000</td>\n",
              "      <td>4.410829</td>\n",
              "      <td>1.484061</td>\n",
              "    </tr>\n",
              "    <tr>\n",
              "      <th>17</th>\n",
              "      <td>s1322212T</td>\n",
              "      <td>0.69</td>\n",
              "      <td>0.739891</td>\n",
              "      <td>STS</td>\n",
              "      <td>344.0</td>\n",
              "      <td>54</td>\n",
              "      <td>28</td>\n",
              "      <td>25.0</td>\n",
              "      <td>37</td>\n",
              "      <td>249.394713</td>\n",
              "      <td>33.988849</td>\n",
              "      <td>15.670715</td>\n",
              "      <td>14.429739</td>\n",
              "      <td>22.529393</td>\n",
              "      <td>3.103425</td>\n",
              "      <td>2.710305</td>\n",
              "      <td>0.996218</td>\n",
              "    </tr>\n",
              "    <tr>\n",
              "      <th>18</th>\n",
              "      <td>s1399361T</td>\n",
              "      <td>3.78</td>\n",
              "      <td>0.486565</td>\n",
              "      <td>LTS</td>\n",
              "      <td>272.0</td>\n",
              "      <td>48</td>\n",
              "      <td>28</td>\n",
              "      <td>21.0</td>\n",
              "      <td>30</td>\n",
              "      <td>83.589745</td>\n",
              "      <td>14.214866</td>\n",
              "      <td>7.179498</td>\n",
              "      <td>7.336790</td>\n",
              "      <td>12.098647</td>\n",
              "      <td>5.000000</td>\n",
              "      <td>3.107007</td>\n",
              "      <td>1.133399</td>\n",
              "    </tr>\n",
              "    <tr>\n",
              "      <th>19</th>\n",
              "      <td>s1378141T</td>\n",
              "      <td>0.82</td>\n",
              "      <td>0.886119</td>\n",
              "      <td>STS</td>\n",
              "      <td>368.0</td>\n",
              "      <td>87</td>\n",
              "      <td>37</td>\n",
              "      <td>21.0</td>\n",
              "      <td>27</td>\n",
              "      <td>193.110629</td>\n",
              "      <td>40.723711</td>\n",
              "      <td>17.653060</td>\n",
              "      <td>9.883940</td>\n",
              "      <td>11.964429</td>\n",
              "      <td>3.023486</td>\n",
              "      <td>2.545106</td>\n",
              "      <td>0.932524</td>\n",
              "    </tr>\n",
              "    <tr>\n",
              "      <th>20</th>\n",
              "      <td>s1231261T</td>\n",
              "      <td>0.63</td>\n",
              "      <td>0.801122</td>\n",
              "      <td>STS</td>\n",
              "      <td>767.0</td>\n",
              "      <td>76</td>\n",
              "      <td>41</td>\n",
              "      <td>35.0</td>\n",
              "      <td>57</td>\n",
              "      <td>315.612400</td>\n",
              "      <td>19.095744</td>\n",
              "      <td>9.083334</td>\n",
              "      <td>8.098497</td>\n",
              "      <td>12.998251</td>\n",
              "      <td>4.000000</td>\n",
              "      <td>3.286421</td>\n",
              "      <td>1.189799</td>\n",
              "    </tr>\n",
              "    <tr>\n",
              "      <th>21</th>\n",
              "      <td>s1378542T</td>\n",
              "      <td>0.79</td>\n",
              "      <td>0.578396</td>\n",
              "      <td>STS</td>\n",
              "      <td>261.0</td>\n",
              "      <td>50</td>\n",
              "      <td>20</td>\n",
              "      <td>35.0</td>\n",
              "      <td>73</td>\n",
              "      <td>103.607364</td>\n",
              "      <td>16.573137</td>\n",
              "      <td>6.351466</td>\n",
              "      <td>12.537233</td>\n",
              "      <td>27.708783</td>\n",
              "      <td>3.198923</td>\n",
              "      <td>2.494587</td>\n",
              "      <td>0.910067</td>\n",
              "    </tr>\n",
              "    <tr>\n",
              "      <th>22</th>\n",
              "      <td>s1135201T</td>\n",
              "      <td>8.73</td>\n",
              "      <td>0.627996</td>\n",
              "      <td>LTS</td>\n",
              "      <td>353.0</td>\n",
              "      <td>56</td>\n",
              "      <td>24</td>\n",
              "      <td>24.0</td>\n",
              "      <td>31</td>\n",
              "      <td>204.494535</td>\n",
              "      <td>16.156454</td>\n",
              "      <td>9.495288</td>\n",
              "      <td>8.488858</td>\n",
              "      <td>10.450888</td>\n",
              "      <td>3.000000</td>\n",
              "      <td>2.582781</td>\n",
              "      <td>0.948851</td>\n",
              "    </tr>\n",
              "    <tr>\n",
              "      <th>23</th>\n",
              "      <td>s1191182T</td>\n",
              "      <td>0.85</td>\n",
              "      <td>0.684539</td>\n",
              "      <td>STS</td>\n",
              "      <td>513.0</td>\n",
              "      <td>65</td>\n",
              "      <td>31</td>\n",
              "      <td>19.0</td>\n",
              "      <td>23</td>\n",
              "      <td>400.388360</td>\n",
              "      <td>45.649488</td>\n",
              "      <td>22.334328</td>\n",
              "      <td>14.880536</td>\n",
              "      <td>18.880536</td>\n",
              "      <td>3.000000</td>\n",
              "      <td>2.532015</td>\n",
              "      <td>0.929015</td>\n",
              "    </tr>\n",
              "    <tr>\n",
              "      <th>24</th>\n",
              "      <td>s1188131T</td>\n",
              "      <td>0.71</td>\n",
              "      <td>0.506949</td>\n",
              "      <td>STS</td>\n",
              "      <td>285.0</td>\n",
              "      <td>73</td>\n",
              "      <td>30</td>\n",
              "      <td>48.0</td>\n",
              "      <td>92</td>\n",
              "      <td>139.095897</td>\n",
              "      <td>32.518678</td>\n",
              "      <td>15.574072</td>\n",
              "      <td>21.489994</td>\n",
              "      <td>42.738545</td>\n",
              "      <td>5.007197</td>\n",
              "      <td>4.167672</td>\n",
              "      <td>1.427256</td>\n",
              "    </tr>\n",
              "    <tr>\n",
              "      <th>25</th>\n",
              "      <td>s1386251T</td>\n",
              "      <td>0.44</td>\n",
              "      <td>0.894529</td>\n",
              "      <td>STS</td>\n",
              "      <td>251.0</td>\n",
              "      <td>42</td>\n",
              "      <td>20</td>\n",
              "      <td>24.0</td>\n",
              "      <td>42</td>\n",
              "      <td>96.002746</td>\n",
              "      <td>8.474601</td>\n",
              "      <td>4.768337</td>\n",
              "      <td>5.173490</td>\n",
              "      <td>8.602836</td>\n",
              "      <td>4.985473</td>\n",
              "      <td>4.154243</td>\n",
              "      <td>1.423650</td>\n",
              "    </tr>\n",
              "    <tr>\n",
              "      <th>26</th>\n",
              "      <td>s1289841T</td>\n",
              "      <td>5.52</td>\n",
              "      <td>0.414234</td>\n",
              "      <td>LTS</td>\n",
              "      <td>804.0</td>\n",
              "      <td>149</td>\n",
              "      <td>161</td>\n",
              "      <td>69.0</td>\n",
              "      <td>106</td>\n",
              "      <td>168.639548</td>\n",
              "      <td>21.713542</td>\n",
              "      <td>18.930023</td>\n",
              "      <td>8.413740</td>\n",
              "      <td>12.010071</td>\n",
              "      <td>3.000000</td>\n",
              "      <td>2.502995</td>\n",
              "      <td>0.917488</td>\n",
              "    </tr>\n",
              "    <tr>\n",
              "      <th>27</th>\n",
              "      <td>s1357731T</td>\n",
              "      <td>6.30</td>\n",
              "      <td>0.001688</td>\n",
              "      <td>LTS</td>\n",
              "      <td>24439.0</td>\n",
              "      <td>3423</td>\n",
              "      <td>3714</td>\n",
              "      <td>967.0</td>\n",
              "      <td>1262</td>\n",
              "      <td>24439.000000</td>\n",
              "      <td>3423.000000</td>\n",
              "      <td>3714.000000</td>\n",
              "      <td>967.000000</td>\n",
              "      <td>1262.000000</td>\n",
              "      <td>1.000000</td>\n",
              "      <td>1.000000</td>\n",
              "      <td>0.000000</td>\n",
              "    </tr>\n",
              "    <tr>\n",
              "      <th>28</th>\n",
              "      <td>s1221762T</td>\n",
              "      <td>0.68</td>\n",
              "      <td>0.668028</td>\n",
              "      <td>STS</td>\n",
              "      <td>303.0</td>\n",
              "      <td>52</td>\n",
              "      <td>22</td>\n",
              "      <td>18.0</td>\n",
              "      <td>27</td>\n",
              "      <td>94.230898</td>\n",
              "      <td>12.577626</td>\n",
              "      <td>5.056232</td>\n",
              "      <td>4.690666</td>\n",
              "      <td>6.815022</td>\n",
              "      <td>4.999958</td>\n",
              "      <td>4.094278</td>\n",
              "      <td>1.409502</td>\n",
              "    </tr>\n",
              "    <tr>\n",
              "      <th>29</th>\n",
              "      <td>s1120321T</td>\n",
              "      <td>6.76</td>\n",
              "      <td>0.849258</td>\n",
              "      <td>LTS</td>\n",
              "      <td>406.0</td>\n",
              "      <td>67</td>\n",
              "      <td>37</td>\n",
              "      <td>27.0</td>\n",
              "      <td>39</td>\n",
              "      <td>118.431968</td>\n",
              "      <td>13.505558</td>\n",
              "      <td>6.025755</td>\n",
              "      <td>4.683278</td>\n",
              "      <td>7.082254</td>\n",
              "      <td>5.000008</td>\n",
              "      <td>4.429643</td>\n",
              "      <td>1.488314</td>\n",
              "    </tr>\n",
              "    <tr>\n",
              "      <th>30</th>\n",
              "      <td>s1311442T</td>\n",
              "      <td>0.87</td>\n",
              "      <td>0.908422</td>\n",
              "      <td>STS</td>\n",
              "      <td>409.0</td>\n",
              "      <td>47</td>\n",
              "      <td>26</td>\n",
              "      <td>29.0</td>\n",
              "      <td>59</td>\n",
              "      <td>138.765071</td>\n",
              "      <td>12.989108</td>\n",
              "      <td>8.095843</td>\n",
              "      <td>7.771843</td>\n",
              "      <td>16.681008</td>\n",
              "      <td>4.000039</td>\n",
              "      <td>2.787788</td>\n",
              "      <td>1.025247</td>\n",
              "    </tr>\n",
              "    <tr>\n",
              "      <th>31</th>\n",
              "      <td>s1393811T</td>\n",
              "      <td>5.13</td>\n",
              "      <td>0.765872</td>\n",
              "      <td>LTS</td>\n",
              "      <td>320.0</td>\n",
              "      <td>69</td>\n",
              "      <td>35</td>\n",
              "      <td>25.0</td>\n",
              "      <td>35</td>\n",
              "      <td>175.659205</td>\n",
              "      <td>26.892907</td>\n",
              "      <td>15.295049</td>\n",
              "      <td>10.622303</td>\n",
              "      <td>14.577456</td>\n",
              "      <td>3.903243</td>\n",
              "      <td>3.137205</td>\n",
              "      <td>1.137470</td>\n",
              "    </tr>\n",
              "    <tr>\n",
              "      <th>32</th>\n",
              "      <td>s1365462T</td>\n",
              "      <td>6.11</td>\n",
              "      <td>0.903627</td>\n",
              "      <td>LTS</td>\n",
              "      <td>255.0</td>\n",
              "      <td>48</td>\n",
              "      <td>23</td>\n",
              "      <td>24.0</td>\n",
              "      <td>35</td>\n",
              "      <td>79.457059</td>\n",
              "      <td>8.885807</td>\n",
              "      <td>3.865726</td>\n",
              "      <td>5.152583</td>\n",
              "      <td>7.454427</td>\n",
              "      <td>3.473403</td>\n",
              "      <td>2.800425</td>\n",
              "      <td>1.003132</td>\n",
              "    </tr>\n",
              "    <tr>\n",
              "      <th>33</th>\n",
              "      <td>s1411462T</td>\n",
              "      <td>0.55</td>\n",
              "      <td>0.908843</td>\n",
              "      <td>STS</td>\n",
              "      <td>306.0</td>\n",
              "      <td>66</td>\n",
              "      <td>28</td>\n",
              "      <td>26.0</td>\n",
              "      <td>39</td>\n",
              "      <td>88.938643</td>\n",
              "      <td>17.143593</td>\n",
              "      <td>6.714182</td>\n",
              "      <td>6.174170</td>\n",
              "      <td>9.473502</td>\n",
              "      <td>3.995622</td>\n",
              "      <td>2.831951</td>\n",
              "      <td>1.040882</td>\n",
              "    </tr>\n",
              "    <tr>\n",
              "      <th>34</th>\n",
              "      <td>s1341271T</td>\n",
              "      <td>0.92</td>\n",
              "      <td>0.552938</td>\n",
              "      <td>STS</td>\n",
              "      <td>323.0</td>\n",
              "      <td>52</td>\n",
              "      <td>31</td>\n",
              "      <td>28.0</td>\n",
              "      <td>47</td>\n",
              "      <td>192.863691</td>\n",
              "      <td>21.752384</td>\n",
              "      <td>11.705473</td>\n",
              "      <td>11.178040</td>\n",
              "      <td>19.253092</td>\n",
              "      <td>3.000000</td>\n",
              "      <td>2.723090</td>\n",
              "      <td>1.001732</td>\n",
              "    </tr>\n",
              "    <tr>\n",
              "      <th>35</th>\n",
              "      <td>s1405312T</td>\n",
              "      <td>3.82</td>\n",
              "      <td>0.598168</td>\n",
              "      <td>LTS</td>\n",
              "      <td>240.0</td>\n",
              "      <td>46</td>\n",
              "      <td>21</td>\n",
              "      <td>17.0</td>\n",
              "      <td>26</td>\n",
              "      <td>126.174179</td>\n",
              "      <td>19.671304</td>\n",
              "      <td>9.127441</td>\n",
              "      <td>7.206094</td>\n",
              "      <td>11.284616</td>\n",
              "      <td>4.030249</td>\n",
              "      <td>3.481465</td>\n",
              "      <td>1.247290</td>\n",
              "    </tr>\n",
              "    <tr>\n",
              "      <th>36</th>\n",
              "      <td>s1162611T</td>\n",
              "      <td>0.85</td>\n",
              "      <td>0.967262</td>\n",
              "      <td>STS</td>\n",
              "      <td>405.0</td>\n",
              "      <td>73</td>\n",
              "      <td>31</td>\n",
              "      <td>22.0</td>\n",
              "      <td>32</td>\n",
              "      <td>127.349787</td>\n",
              "      <td>14.571841</td>\n",
              "      <td>6.593574</td>\n",
              "      <td>4.059941</td>\n",
              "      <td>6.667724</td>\n",
              "      <td>3.003977</td>\n",
              "      <td>2.354912</td>\n",
              "      <td>0.856413</td>\n",
              "    </tr>\n",
              "    <tr>\n",
              "      <th>37</th>\n",
              "      <td>s1168461T</td>\n",
              "      <td>0.92</td>\n",
              "      <td>0.967265</td>\n",
              "      <td>STS</td>\n",
              "      <td>411.0</td>\n",
              "      <td>79</td>\n",
              "      <td>36</td>\n",
              "      <td>22.0</td>\n",
              "      <td>29</td>\n",
              "      <td>155.551347</td>\n",
              "      <td>28.627494</td>\n",
              "      <td>9.958634</td>\n",
              "      <td>9.024354</td>\n",
              "      <td>11.851454</td>\n",
              "      <td>5.995371</td>\n",
              "      <td>4.524656</td>\n",
              "      <td>1.507993</td>\n",
              "    </tr>\n",
              "    <tr>\n",
              "      <th>38</th>\n",
              "      <td>s1345101T</td>\n",
              "      <td>5.16</td>\n",
              "      <td>0.945177</td>\n",
              "      <td>LTS</td>\n",
              "      <td>249.0</td>\n",
              "      <td>51</td>\n",
              "      <td>11</td>\n",
              "      <td>9.0</td>\n",
              "      <td>13</td>\n",
              "      <td>58.922259</td>\n",
              "      <td>4.827968</td>\n",
              "      <td>1.386209</td>\n",
              "      <td>0.678087</td>\n",
              "      <td>0.898309</td>\n",
              "      <td>5.000103</td>\n",
              "      <td>4.116947</td>\n",
              "      <td>1.415108</td>\n",
              "    </tr>\n",
              "    <tr>\n",
              "      <th>39</th>\n",
              "      <td>s1346111T</td>\n",
              "      <td>5.07</td>\n",
              "      <td>1.000000</td>\n",
              "      <td>LTS</td>\n",
              "      <td>299.0</td>\n",
              "      <td>55</td>\n",
              "      <td>21</td>\n",
              "      <td>12.0</td>\n",
              "      <td>19</td>\n",
              "      <td>199.457744</td>\n",
              "      <td>35.080715</td>\n",
              "      <td>12.167560</td>\n",
              "      <td>9.219640</td>\n",
              "      <td>13.439280</td>\n",
              "      <td>3.965694</td>\n",
              "      <td>3.267568</td>\n",
              "      <td>1.183206</td>\n",
              "    </tr>\n",
              "    <tr>\n",
              "      <th>40</th>\n",
              "      <td>s1361031T</td>\n",
              "      <td>4.88</td>\n",
              "      <td>0.966504</td>\n",
              "      <td>LTS</td>\n",
              "      <td>192.0</td>\n",
              "      <td>39</td>\n",
              "      <td>18</td>\n",
              "      <td>12.0</td>\n",
              "      <td>18</td>\n",
              "      <td>83.301231</td>\n",
              "      <td>10.043075</td>\n",
              "      <td>4.240444</td>\n",
              "      <td>2.631614</td>\n",
              "      <td>3.548013</td>\n",
              "      <td>4.000301</td>\n",
              "      <td>3.389803</td>\n",
              "      <td>1.220762</td>\n",
              "    </tr>\n",
              "    <tr>\n",
              "      <th>41</th>\n",
              "      <td>s1329162T</td>\n",
              "      <td>0.91</td>\n",
              "      <td>0.945648</td>\n",
              "      <td>STS</td>\n",
              "      <td>421.0</td>\n",
              "      <td>51</td>\n",
              "      <td>29</td>\n",
              "      <td>14.0</td>\n",
              "      <td>19</td>\n",
              "      <td>158.644995</td>\n",
              "      <td>15.112661</td>\n",
              "      <td>8.060519</td>\n",
              "      <td>3.757569</td>\n",
              "      <td>5.586116</td>\n",
              "      <td>4.243747</td>\n",
              "      <td>3.537921</td>\n",
              "      <td>1.256868</td>\n",
              "    </tr>\n",
              "    <tr>\n",
              "      <th>42</th>\n",
              "      <td>s1144321T</td>\n",
              "      <td>6.23</td>\n",
              "      <td>0.869639</td>\n",
              "      <td>LTS</td>\n",
              "      <td>511.0</td>\n",
              "      <td>72</td>\n",
              "      <td>28</td>\n",
              "      <td>46.0</td>\n",
              "      <td>72</td>\n",
              "      <td>309.133796</td>\n",
              "      <td>25.014976</td>\n",
              "      <td>11.563036</td>\n",
              "      <td>14.289883</td>\n",
              "      <td>23.271095</td>\n",
              "      <td>4.000000</td>\n",
              "      <td>3.358898</td>\n",
              "      <td>1.211601</td>\n",
              "    </tr>\n",
              "    <tr>\n",
              "      <th>43</th>\n",
              "      <td>s1166441T</td>\n",
              "      <td>5.98</td>\n",
              "      <td>0.584240</td>\n",
              "      <td>LTS</td>\n",
              "      <td>456.0</td>\n",
              "      <td>91</td>\n",
              "      <td>29</td>\n",
              "      <td>24.0</td>\n",
              "      <td>29</td>\n",
              "      <td>239.549929</td>\n",
              "      <td>33.507506</td>\n",
              "      <td>8.737175</td>\n",
              "      <td>10.088434</td>\n",
              "      <td>12.521802</td>\n",
              "      <td>3.000000</td>\n",
              "      <td>2.674035</td>\n",
              "      <td>0.983583</td>\n",
              "    </tr>\n",
              "    <tr>\n",
              "      <th>44</th>\n",
              "      <td>s1337612T</td>\n",
              "      <td>5.40</td>\n",
              "      <td>0.735584</td>\n",
              "      <td>LTS</td>\n",
              "      <td>1234.0</td>\n",
              "      <td>96</td>\n",
              "      <td>45</td>\n",
              "      <td>27.0</td>\n",
              "      <td>44</td>\n",
              "      <td>855.191951</td>\n",
              "      <td>33.432860</td>\n",
              "      <td>13.536647</td>\n",
              "      <td>9.016362</td>\n",
              "      <td>15.123900</td>\n",
              "      <td>4.000000</td>\n",
              "      <td>3.295862</td>\n",
              "      <td>1.192668</td>\n",
              "    </tr>\n",
              "    <tr>\n",
              "      <th>45</th>\n",
              "      <td>s1199951T</td>\n",
              "      <td>0.77</td>\n",
              "      <td>0.536257</td>\n",
              "      <td>STS</td>\n",
              "      <td>462.0</td>\n",
              "      <td>64</td>\n",
              "      <td>29</td>\n",
              "      <td>35.0</td>\n",
              "      <td>80</td>\n",
              "      <td>302.830922</td>\n",
              "      <td>26.824031</td>\n",
              "      <td>14.826425</td>\n",
              "      <td>14.986387</td>\n",
              "      <td>28.226558</td>\n",
              "      <td>3.000046</td>\n",
              "      <td>2.598657</td>\n",
              "      <td>0.954994</td>\n",
              "    </tr>\n",
              "    <tr>\n",
              "      <th>46</th>\n",
              "      <td>s1142961T</td>\n",
              "      <td>8.86</td>\n",
              "      <td>0.460561</td>\n",
              "      <td>LTS</td>\n",
              "      <td>343.0</td>\n",
              "      <td>65</td>\n",
              "      <td>24</td>\n",
              "      <td>40.0</td>\n",
              "      <td>78</td>\n",
              "      <td>148.019398</td>\n",
              "      <td>22.905960</td>\n",
              "      <td>9.200766</td>\n",
              "      <td>13.540190</td>\n",
              "      <td>26.369896</td>\n",
              "      <td>4.576611</td>\n",
              "      <td>3.442073</td>\n",
              "      <td>1.234721</td>\n",
              "    </tr>\n",
              "    <tr>\n",
              "      <th>47</th>\n",
              "      <td>s1329401T</td>\n",
              "      <td>0.54</td>\n",
              "      <td>0.904863</td>\n",
              "      <td>STS</td>\n",
              "      <td>1965.0</td>\n",
              "      <td>390</td>\n",
              "      <td>419</td>\n",
              "      <td>105.0</td>\n",
              "      <td>125</td>\n",
              "      <td>271.624629</td>\n",
              "      <td>42.295229</td>\n",
              "      <td>43.265336</td>\n",
              "      <td>10.756217</td>\n",
              "      <td>13.002549</td>\n",
              "      <td>3.000000</td>\n",
              "      <td>2.369773</td>\n",
              "      <td>0.862794</td>\n",
              "    </tr>\n",
              "    <tr>\n",
              "      <th>48</th>\n",
              "      <td>s1163971T</td>\n",
              "      <td>0.83</td>\n",
              "      <td>0.956307</td>\n",
              "      <td>STS</td>\n",
              "      <td>270.0</td>\n",
              "      <td>34</td>\n",
              "      <td>15</td>\n",
              "      <td>19.0</td>\n",
              "      <td>22</td>\n",
              "      <td>146.535407</td>\n",
              "      <td>8.657557</td>\n",
              "      <td>2.542035</td>\n",
              "      <td>4.375395</td>\n",
              "      <td>5.249222</td>\n",
              "      <td>4.000000</td>\n",
              "      <td>3.045784</td>\n",
              "      <td>1.111494</td>\n",
              "    </tr>\n",
              "    <tr>\n",
              "      <th>49</th>\n",
              "      <td>s1274862T</td>\n",
              "      <td>0.96</td>\n",
              "      <td>0.978672</td>\n",
              "      <td>STS</td>\n",
              "      <td>372.0</td>\n",
              "      <td>67</td>\n",
              "      <td>18</td>\n",
              "      <td>22.0</td>\n",
              "      <td>31</td>\n",
              "      <td>204.430623</td>\n",
              "      <td>32.574174</td>\n",
              "      <td>6.323245</td>\n",
              "      <td>13.608127</td>\n",
              "      <td>15.545351</td>\n",
              "      <td>4.002046</td>\n",
              "      <td>3.303599</td>\n",
              "      <td>1.194976</td>\n",
              "    </tr>\n",
              "    <tr>\n",
              "      <th>50</th>\n",
              "      <td>s1267963T</td>\n",
              "      <td>0.65</td>\n",
              "      <td>0.424990</td>\n",
              "      <td>STS</td>\n",
              "      <td>362.0</td>\n",
              "      <td>67</td>\n",
              "      <td>25</td>\n",
              "      <td>27.0</td>\n",
              "      <td>64</td>\n",
              "      <td>191.327058</td>\n",
              "      <td>22.946802</td>\n",
              "      <td>8.387657</td>\n",
              "      <td>8.557404</td>\n",
              "      <td>19.280744</td>\n",
              "      <td>3.000000</td>\n",
              "      <td>2.616464</td>\n",
              "      <td>0.961824</td>\n",
              "    </tr>\n",
              "    <tr>\n",
              "      <th>51</th>\n",
              "      <td>s1242423T</td>\n",
              "      <td>1.08</td>\n",
              "      <td>0.687714</td>\n",
              "      <td>STS</td>\n",
              "      <td>526.0</td>\n",
              "      <td>74</td>\n",
              "      <td>31</td>\n",
              "      <td>33.0</td>\n",
              "      <td>44</td>\n",
              "      <td>187.238429</td>\n",
              "      <td>22.679904</td>\n",
              "      <td>9.146248</td>\n",
              "      <td>9.551790</td>\n",
              "      <td>12.319805</td>\n",
              "      <td>4.000000</td>\n",
              "      <td>2.921229</td>\n",
              "      <td>1.072005</td>\n",
              "    </tr>\n",
              "    <tr>\n",
              "      <th>52</th>\n",
              "      <td>s1383852T</td>\n",
              "      <td>5.70</td>\n",
              "      <td>0.733403</td>\n",
              "      <td>LTS</td>\n",
              "      <td>261.0</td>\n",
              "      <td>52</td>\n",
              "      <td>23</td>\n",
              "      <td>26.0</td>\n",
              "      <td>52</td>\n",
              "      <td>72.260398</td>\n",
              "      <td>5.920356</td>\n",
              "      <td>3.743284</td>\n",
              "      <td>3.394650</td>\n",
              "      <td>6.934016</td>\n",
              "      <td>4.999954</td>\n",
              "      <td>3.504519</td>\n",
              "      <td>1.254053</td>\n",
              "    </tr>\n",
              "    <tr>\n",
              "      <th>53</th>\n",
              "      <td>s1199142T</td>\n",
              "      <td>7.46</td>\n",
              "      <td>0.614796</td>\n",
              "      <td>LTS</td>\n",
              "      <td>284.0</td>\n",
              "      <td>51</td>\n",
              "      <td>16</td>\n",
              "      <td>17.0</td>\n",
              "      <td>27</td>\n",
              "      <td>108.394203</td>\n",
              "      <td>15.627178</td>\n",
              "      <td>4.670092</td>\n",
              "      <td>5.674580</td>\n",
              "      <td>9.749570</td>\n",
              "      <td>5.000000</td>\n",
              "      <td>3.673209</td>\n",
              "      <td>1.301062</td>\n",
              "    </tr>\n",
              "    <tr>\n",
              "      <th>54</th>\n",
              "      <td>s1389261T</td>\n",
              "      <td>5.60</td>\n",
              "      <td>0.764517</td>\n",
              "      <td>LTS</td>\n",
              "      <td>232.0</td>\n",
              "      <td>53</td>\n",
              "      <td>10</td>\n",
              "      <td>32.0</td>\n",
              "      <td>56</td>\n",
              "      <td>86.618184</td>\n",
              "      <td>13.651171</td>\n",
              "      <td>2.850499</td>\n",
              "      <td>8.439189</td>\n",
              "      <td>13.767858</td>\n",
              "      <td>5.008317</td>\n",
              "      <td>3.451926</td>\n",
              "      <td>1.238270</td>\n",
              "    </tr>\n",
              "    <tr>\n",
              "      <th>55</th>\n",
              "      <td>s1290491T</td>\n",
              "      <td>7.60</td>\n",
              "      <td>0.956206</td>\n",
              "      <td>LTS</td>\n",
              "      <td>292.0</td>\n",
              "      <td>38</td>\n",
              "      <td>14</td>\n",
              "      <td>16.0</td>\n",
              "      <td>26</td>\n",
              "      <td>102.704515</td>\n",
              "      <td>8.696521</td>\n",
              "      <td>3.899945</td>\n",
              "      <td>4.217277</td>\n",
              "      <td>6.706285</td>\n",
              "      <td>3.995711</td>\n",
              "      <td>2.965315</td>\n",
              "      <td>1.086808</td>\n",
              "    </tr>\n",
              "    <tr>\n",
              "      <th>56</th>\n",
              "      <td>s1326072T</td>\n",
              "      <td>0.38</td>\n",
              "      <td>0.818157</td>\n",
              "      <td>STS</td>\n",
              "      <td>284.0</td>\n",
              "      <td>52</td>\n",
              "      <td>26</td>\n",
              "      <td>26.0</td>\n",
              "      <td>42</td>\n",
              "      <td>106.273801</td>\n",
              "      <td>18.061313</td>\n",
              "      <td>7.510056</td>\n",
              "      <td>9.966545</td>\n",
              "      <td>13.273333</td>\n",
              "      <td>6.211660</td>\n",
              "      <td>5.261932</td>\n",
              "      <td>1.643595</td>\n",
              "    </tr>\n",
              "    <tr>\n",
              "      <th>57</th>\n",
              "      <td>s1251963T</td>\n",
              "      <td>8.40</td>\n",
              "      <td>0.520194</td>\n",
              "      <td>LTS</td>\n",
              "      <td>1411.0</td>\n",
              "      <td>115</td>\n",
              "      <td>76</td>\n",
              "      <td>42.0</td>\n",
              "      <td>64</td>\n",
              "      <td>695.436166</td>\n",
              "      <td>39.225535</td>\n",
              "      <td>21.204823</td>\n",
              "      <td>16.107966</td>\n",
              "      <td>24.498142</td>\n",
              "      <td>4.679343</td>\n",
              "      <td>3.152309</td>\n",
              "      <td>1.147209</td>\n",
              "    </tr>\n",
              "  </tbody>\n",
              "</table>\n",
              "</div>"
            ],
            "text/plain": [
              "       Sample     OS      ntau Cohort      TMB  TMB_nsyn  TMB_syn  TMB_MHC  \\\n",
              "0   s1185621T   9.60  0.224468    LTS   6647.0      2316     1031    998.0   \n",
              "1   s1410022T   0.87  1.000000    STS    220.0        53       15     18.0   \n",
              "2   s1134131T  10.60  0.527505    LTS    203.0        60       22     31.0   \n",
              "3   s1200702T   9.36  0.779162    LTS    269.0        53       23     24.0   \n",
              "4   s1320801T   0.70  0.812825    STS    311.0        54       26     27.0   \n",
              "5   s1347022T   0.35  0.794894    STS    293.0        35       21     13.0   \n",
              "6   s1215112T   9.10  0.406538    LTS   1069.0        93       46     36.0   \n",
              "7   s1247561T   6.02  0.016823    LTS   1615.0       138       72     57.0   \n",
              "8   s1365871T   0.62  0.642660    STS    230.0        33       25     14.0   \n",
              "9   s1167321T   0.35  0.985932    STS    448.0        40       34     17.0   \n",
              "10  s1296752T   0.87  0.952922    STS    375.0        50       26     18.0   \n",
              "11  s1266132T   0.86  0.914213    STS    476.0        76       55     22.0   \n",
              "12  s1209201T   0.50  0.969411    STS    340.0        66       27     34.0   \n",
              "13  s1148431T   6.25  0.997508    LTS    267.0        20       17      3.0   \n",
              "14  s1319092T   0.82  0.959536    STS    424.0        63       32     29.0   \n",
              "15  s1144451T   0.72  0.991578    STS    345.0        59       25     13.0   \n",
              "16  s1339541T   0.81  0.625415    STS   2302.0       191       78     75.0   \n",
              "17  s1322212T   0.69  0.739891    STS    344.0        54       28     25.0   \n",
              "18  s1399361T   3.78  0.486565    LTS    272.0        48       28     21.0   \n",
              "19  s1378141T   0.82  0.886119    STS    368.0        87       37     21.0   \n",
              "20  s1231261T   0.63  0.801122    STS    767.0        76       41     35.0   \n",
              "21  s1378542T   0.79  0.578396    STS    261.0        50       20     35.0   \n",
              "22  s1135201T   8.73  0.627996    LTS    353.0        56       24     24.0   \n",
              "23  s1191182T   0.85  0.684539    STS    513.0        65       31     19.0   \n",
              "24  s1188131T   0.71  0.506949    STS    285.0        73       30     48.0   \n",
              "25  s1386251T   0.44  0.894529    STS    251.0        42       20     24.0   \n",
              "26  s1289841T   5.52  0.414234    LTS    804.0       149      161     69.0   \n",
              "27  s1357731T   6.30  0.001688    LTS  24439.0      3423     3714    967.0   \n",
              "28  s1221762T   0.68  0.668028    STS    303.0        52       22     18.0   \n",
              "29  s1120321T   6.76  0.849258    LTS    406.0        67       37     27.0   \n",
              "30  s1311442T   0.87  0.908422    STS    409.0        47       26     29.0   \n",
              "31  s1393811T   5.13  0.765872    LTS    320.0        69       35     25.0   \n",
              "32  s1365462T   6.11  0.903627    LTS    255.0        48       23     24.0   \n",
              "33  s1411462T   0.55  0.908843    STS    306.0        66       28     26.0   \n",
              "34  s1341271T   0.92  0.552938    STS    323.0        52       31     28.0   \n",
              "35  s1405312T   3.82  0.598168    LTS    240.0        46       21     17.0   \n",
              "36  s1162611T   0.85  0.967262    STS    405.0        73       31     22.0   \n",
              "37  s1168461T   0.92  0.967265    STS    411.0        79       36     22.0   \n",
              "38  s1345101T   5.16  0.945177    LTS    249.0        51       11      9.0   \n",
              "39  s1346111T   5.07  1.000000    LTS    299.0        55       21     12.0   \n",
              "40  s1361031T   4.88  0.966504    LTS    192.0        39       18     12.0   \n",
              "41  s1329162T   0.91  0.945648    STS    421.0        51       29     14.0   \n",
              "42  s1144321T   6.23  0.869639    LTS    511.0        72       28     46.0   \n",
              "43  s1166441T   5.98  0.584240    LTS    456.0        91       29     24.0   \n",
              "44  s1337612T   5.40  0.735584    LTS   1234.0        96       45     27.0   \n",
              "45  s1199951T   0.77  0.536257    STS    462.0        64       29     35.0   \n",
              "46  s1142961T   8.86  0.460561    LTS    343.0        65       24     40.0   \n",
              "47  s1329401T   0.54  0.904863    STS   1965.0       390      419    105.0   \n",
              "48  s1163971T   0.83  0.956307    STS    270.0        34       15     19.0   \n",
              "49  s1274862T   0.96  0.978672    STS    372.0        67       18     22.0   \n",
              "50  s1267963T   0.65  0.424990    STS    362.0        67       25     27.0   \n",
              "51  s1242423T   1.08  0.687714    STS    526.0        74       31     33.0   \n",
              "52  s1383852T   5.70  0.733403    LTS    261.0        52       23     26.0   \n",
              "53  s1199142T   7.46  0.614796    LTS    284.0        51       16     17.0   \n",
              "54  s1389261T   5.60  0.764517    LTS    232.0        53       10     32.0   \n",
              "55  s1290491T   7.60  0.956206    LTS    292.0        38       14     16.0   \n",
              "56  s1326072T   0.38  0.818157    STS    284.0        52       26     26.0   \n",
              "57  s1251963T   8.40  0.520194    LTS   1411.0       115       76     42.0   \n",
              "\n",
              "     TNB       TMB_eff  TMB_nsyn_eff  TMB_syn_eff  TMB_MHC_eff      TNB_eff  \\\n",
              "0   1350   3836.254208   1249.955788   560.475991   535.578036   722.572141   \n",
              "1     28    111.197867     17.175583     6.518900     6.592225    10.017161   \n",
              "2     61     74.793391     20.493201     6.997179    10.779840    21.650805   \n",
              "3     37     73.715197     10.719288     5.682857     4.374517     5.817271   \n",
              "4     40    173.594636     28.296154    15.636123    11.799106    16.027267   \n",
              "5     17    151.062040     10.515621     6.211768     3.681847     4.757810   \n",
              "6     54    679.166224     28.249951    16.202936    10.185884    15.954316   \n",
              "7     88    856.243751     41.245334    18.704476    18.886314    28.846794   \n",
              "8     29    100.098445     12.065530     9.812536     4.446134     8.797636   \n",
              "9     27    167.467933     12.354180     8.554800     4.950195     8.411788   \n",
              "10    18     85.314982     10.276428     3.784670     3.833015     3.833015   \n",
              "11    34    283.809134     30.321779    18.718380     8.627753    11.603268   \n",
              "12    62    162.147567     22.309749    11.255190    10.954759    18.228196   \n",
              "13     3    117.239901      6.406102     4.468130     0.767333     0.767333   \n",
              "14    37    140.573496     16.687206     7.010782     6.848175     8.227367   \n",
              "15    16    159.146435     14.425597     6.644489     2.405459     3.283140   \n",
              "16   111   1001.313940     43.236943    15.828125    18.847757    30.391088   \n",
              "17    37    249.394713     33.988849    15.670715    14.429739    22.529393   \n",
              "18    30     83.589745     14.214866     7.179498     7.336790    12.098647   \n",
              "19    27    193.110629     40.723711    17.653060     9.883940    11.964429   \n",
              "20    57    315.612400     19.095744     9.083334     8.098497    12.998251   \n",
              "21    73    103.607364     16.573137     6.351466    12.537233    27.708783   \n",
              "22    31    204.494535     16.156454     9.495288     8.488858    10.450888   \n",
              "23    23    400.388360     45.649488    22.334328    14.880536    18.880536   \n",
              "24    92    139.095897     32.518678    15.574072    21.489994    42.738545   \n",
              "25    42     96.002746      8.474601     4.768337     5.173490     8.602836   \n",
              "26   106    168.639548     21.713542    18.930023     8.413740    12.010071   \n",
              "27  1262  24439.000000   3423.000000  3714.000000   967.000000  1262.000000   \n",
              "28    27     94.230898     12.577626     5.056232     4.690666     6.815022   \n",
              "29    39    118.431968     13.505558     6.025755     4.683278     7.082254   \n",
              "30    59    138.765071     12.989108     8.095843     7.771843    16.681008   \n",
              "31    35    175.659205     26.892907    15.295049    10.622303    14.577456   \n",
              "32    35     79.457059      8.885807     3.865726     5.152583     7.454427   \n",
              "33    39     88.938643     17.143593     6.714182     6.174170     9.473502   \n",
              "34    47    192.863691     21.752384    11.705473    11.178040    19.253092   \n",
              "35    26    126.174179     19.671304     9.127441     7.206094    11.284616   \n",
              "36    32    127.349787     14.571841     6.593574     4.059941     6.667724   \n",
              "37    29    155.551347     28.627494     9.958634     9.024354    11.851454   \n",
              "38    13     58.922259      4.827968     1.386209     0.678087     0.898309   \n",
              "39    19    199.457744     35.080715    12.167560     9.219640    13.439280   \n",
              "40    18     83.301231     10.043075     4.240444     2.631614     3.548013   \n",
              "41    19    158.644995     15.112661     8.060519     3.757569     5.586116   \n",
              "42    72    309.133796     25.014976    11.563036    14.289883    23.271095   \n",
              "43    29    239.549929     33.507506     8.737175    10.088434    12.521802   \n",
              "44    44    855.191951     33.432860    13.536647     9.016362    15.123900   \n",
              "45    80    302.830922     26.824031    14.826425    14.986387    28.226558   \n",
              "46    78    148.019398     22.905960     9.200766    13.540190    26.369896   \n",
              "47   125    271.624629     42.295229    43.265336    10.756217    13.002549   \n",
              "48    22    146.535407      8.657557     2.542035     4.375395     5.249222   \n",
              "49    31    204.430623     32.574174     6.323245    13.608127    15.545351   \n",
              "50    64    191.327058     22.946802     8.387657     8.557404    19.280744   \n",
              "51    44    187.238429     22.679904     9.146248     9.551790    12.319805   \n",
              "52    52     72.260398      5.920356     3.743284     3.394650     6.934016   \n",
              "53    27    108.394203     15.627178     4.670092     5.674580     9.749570   \n",
              "54    56     86.618184     13.651171     2.850499     8.439189    13.767858   \n",
              "55    26    102.704515      8.696521     3.899945     4.217277     6.706285   \n",
              "56    42    106.273801     18.061313     7.510056     9.966545    13.273333   \n",
              "57    64    695.436166     39.225535    21.204823    16.107966    24.498142   \n",
              "\n",
              "     nclones  neff_clones   entropy  \n",
              "0   3.000000     2.546106  0.934565  \n",
              "1   3.999389     2.958327  1.084606  \n",
              "2   4.983483     4.172216  1.389673  \n",
              "3   5.990476     5.123252  1.633504  \n",
              "4   3.730947     3.000163  1.094067  \n",
              "5   3.000000     2.517737  0.923360  \n",
              "6   4.000000     3.166838  1.152728  \n",
              "7   5.000000     4.405593  1.482875  \n",
              "8   4.000000     3.449083  1.238108  \n",
              "9   3.746561     3.151698  1.138567  \n",
              "10  6.000000     5.350962  1.677276  \n",
              "11  4.000002     3.298022  1.193323  \n",
              "12  4.763534     4.605372  1.511957  \n",
              "13  3.000000     2.417131  0.882106  \n",
              "14  4.000162     3.072541  1.122492  \n",
              "15  4.019382     3.454221  1.239571  \n",
              "16  5.000000     4.410829  1.484061  \n",
              "17  3.103425     2.710305  0.996218  \n",
              "18  5.000000     3.107007  1.133399  \n",
              "19  3.023486     2.545106  0.932524  \n",
              "20  4.000000     3.286421  1.189799  \n",
              "21  3.198923     2.494587  0.910067  \n",
              "22  3.000000     2.582781  0.948851  \n",
              "23  3.000000     2.532015  0.929015  \n",
              "24  5.007197     4.167672  1.427256  \n",
              "25  4.985473     4.154243  1.423650  \n",
              "26  3.000000     2.502995  0.917488  \n",
              "27  1.000000     1.000000  0.000000  \n",
              "28  4.999958     4.094278  1.409502  \n",
              "29  5.000008     4.429643  1.488314  \n",
              "30  4.000039     2.787788  1.025247  \n",
              "31  3.903243     3.137205  1.137470  \n",
              "32  3.473403     2.800425  1.003132  \n",
              "33  3.995622     2.831951  1.040882  \n",
              "34  3.000000     2.723090  1.001732  \n",
              "35  4.030249     3.481465  1.247290  \n",
              "36  3.003977     2.354912  0.856413  \n",
              "37  5.995371     4.524656  1.507993  \n",
              "38  5.000103     4.116947  1.415108  \n",
              "39  3.965694     3.267568  1.183206  \n",
              "40  4.000301     3.389803  1.220762  \n",
              "41  4.243747     3.537921  1.256868  \n",
              "42  4.000000     3.358898  1.211601  \n",
              "43  3.000000     2.674035  0.983583  \n",
              "44  4.000000     3.295862  1.192668  \n",
              "45  3.000046     2.598657  0.954994  \n",
              "46  4.576611     3.442073  1.234721  \n",
              "47  3.000000     2.369773  0.862794  \n",
              "48  4.000000     3.045784  1.111494  \n",
              "49  4.002046     3.303599  1.194976  \n",
              "50  3.000000     2.616464  0.961824  \n",
              "51  4.000000     2.921229  1.072005  \n",
              "52  4.999954     3.504519  1.254053  \n",
              "53  5.000000     3.673209  1.301062  \n",
              "54  5.008317     3.451926  1.238270  \n",
              "55  3.995711     2.965315  1.086808  \n",
              "56  6.211660     5.261932  1.643595  \n",
              "57  4.679343     3.152309  1.147209  "
            ]
          },
          "execution_count": 17,
          "metadata": {},
          "output_type": "execute_result"
        }
      ],
      "source": [
        "patnames = list(anl.patients.keys())\n",
        "sample_statistics = anl.sample_statistics(kd_thr=args.kd_thr)\n",
        "fitness_statistics = anl.fitness_sample_statistics()\n",
        "data = pd.DataFrame(zip(patnames, [anl.patients[patname].OS for patname in patnames],[np.exp(anl.patients[patname].q) for patname in patnames]), columns=[\"Sample\",\"OS\",\"ntau\"])\n",
        "data[\"Cohort\"] = [\"STS\" if os<=2 else \"LTS\" for os in data.OS]\n",
        "data = pd.merge(data, sample_statistics, on='Sample')\n",
        "\n",
        "data"
      ]
    },
    {
      "cell_type": "code",
      "execution_count": null,
      "metadata": {
        "colab": {
          "base_uri": "https://localhost:8080/",
          "height": 1000
        },
        "id": "vhGeWPWYmxDQ",
        "outputId": "ff116c1b-57a0-4766-c62b-736581e18667"
      },
      "outputs": [
        {
          "data": {
            "image/png": "[encoded data removed]",
            "text/plain": [
              "<Figure size 432x288 with 1 Axes>"
            ]
          },
          "metadata": {
            "needs_background": "light"
          },
          "output_type": "display_data"
        },
        {
          "data": {
            "image/png": "[encoded data removed]",
            "text/plain": [
              "<Figure size 432x288 with 1 Axes>"
            ]
          },
          "metadata": {
            "needs_background": "light"
          },
          "output_type": "display_data"
        },
        {
          "data": {
            "image/png": "[encoded data removed]",
            "text/plain": [
              "<Figure size 432x288 with 1 Axes>"
            ]
          },
          "metadata": {
            "needs_background": "light"
          },
          "output_type": "display_data"
        }
      ],
      "source": [
        "compare_cohorts(data, 'ntau')\n",
        "compare_cohorts(data, 'nclones')\n",
        "compare_cohorts(data, 'neff_clones', ylabel='\"Effective\" number of clones')"
      ]
    },
    {
      "cell_type": "markdown",
      "metadata": {
        "id": "v2L0LwEpmxgN"
      },
      "source": [
        "## Alternative model - \"quantity\" of neantigens"
      ]
    },
    {
      "cell_type": "code",
      "execution_count": null,
      "metadata": {
        "colab": {
          "base_uri": "https://localhost:8080/",
          "height": 472
        },
        "id": "s2WVdyoUcsSO",
        "outputId": "8bcd7d79-e6de-4102-b21a-fbabdf979d11"
      },
      "outputs": [
        {
          "data": {
            "image/png": "[encoded data removed]",
            "text/plain": [
              "<Figure size 432x288 with 1 Axes>"
            ]
          },
          "metadata": {
            "needs_background": "light"
          },
          "output_type": "display_data"
        }
      ],
      "source": [
        "quantityFitnessModelComp = VariableImmuneCloneFitness(quality_function=lambda neo, sampleTree, sample: 1, aggrfun=sum)\n",
        "anl.set_fitness_model_component(quantityFitnessModelComp, \"immune\", 1.)\n",
        "anl.compute_node_fitness(recompute_components=True)\n",
        "# Survival analysis\n",
        "res_surv = anl.classify_survival(beta=1., tau=tau, outdir=None, OS=True, PFS=True, quantile=0.5)\n",
        "anl.plot_survival(OS=True, pval=res_surv[\"pval_OS\"], quantile=0.5, show=True)\n"
      ]
    },
    {
      "cell_type": "code",
      "execution_count": null,
      "metadata": {
        "colab": {
          "base_uri": "https://localhost:8080/",
          "height": 472
        },
        "id": "-uquvgoV5Aqg",
        "outputId": "9efb6bc0-58d6-4f88-8b05-46b144036fe5"
      },
      "outputs": [
        {
          "data": {
            "image/png": "[encoded data removed]",
            "text/plain": [
              "<Figure size 432x288 with 1 Axes>"
            ]
          },
          "metadata": {
            "needs_background": "light"
          },
          "output_type": "display_data"
        }
      ],
      "source": [
        "patnames = list(anl.patients.keys())\n",
        "sample_statistics = anl.sample_statistics(kd_thr=args.kd_thr)\n",
        "fitness_statistics = anl.fitness_sample_statistics()\n",
        "data = pd.DataFrame(zip(patnames, [anl.patients[patname].OS for patname in patnames],[np.exp(anl.patients[patname].q) for patname in patnames]), columns=[\"Sample\",\"OS\",\"ntau\"])\n",
        "data[\"Cohort\"] = [\"STS\" if os<=2 else \"LTS\" for os in data.OS]\n",
        "data = pd.merge(data, sample_statistics, on='Sample')\n",
        "compare_cohorts(data, 'ntau')\n"
      ]
    },
    {
      "cell_type": "markdown",
      "metadata": {
        "id": "z7fb7iqdoOr3"
      },
      "source": [
        "# **Predicting clonal dynamics**"
      ]
    },
    {
      "cell_type": "markdown",
      "metadata": {
        "id": "BhHh1TQc6oOt"
      },
      "source": [
        "Functions implementing parameter fitting for clonal frequency dynamics between primary and metastatic tumors"
      ]
    },
    {
      "cell_type": "code",
      "execution_count": null,
      "metadata": {
        "id": "Cz7ehAtnd-Jq"
      },
      "outputs": [],
      "source": [
        "\"\"\"script for comparing fitness models and computing log-likelihood scores\n",
        "\"\"\"\n",
        "\n",
        "import glob\n",
        "import json\n",
        "import os\n",
        "import numpy as np\n",
        "import pandas as pd\n",
        "\n",
        "\n",
        "def set_fitness_on_a_tree(tree, weights):\n",
        "    '''\n",
        "    Computes fitness of all clones in a tree as a weighted sum of fitness components,\n",
        "    F_I and F_P\n",
        "\n",
        "    :param tree: dict\n",
        "        json representation of a tree\n",
        "\n",
        "    :param weights: dict\n",
        "        {\"Sigma_I\" -> float, \"Sigma_P\"->float}\n",
        "    '''\n",
        "    nodes = [tree[\"topology\"]]\n",
        "    while nodes:\n",
        "        node = nodes[0]\n",
        "        nodes = nodes[1:]\n",
        "        if \"predicted_x\" in node:\n",
        "            del node[\"predicted_x\"]\n",
        "        if \"predicted_X\" in node:\n",
        "            del node[\"predicted_X\"]\n",
        "        if \"children\" in node:\n",
        "            for child in node[\"children\"]:\n",
        "                nodes.append(child)\n",
        "        node[\"fitness\"] = node[\"F_I\"] * weights[\"Sigma_I\"] + node[\"F_P\"] * weights[\"Sigma_P\"]\n",
        "\n",
        "def get_property(tree, property):\n",
        "    '''\n",
        "    Auxiliary function to extract a clone attribute values into a list\n",
        "    :param tree: dict\n",
        "        json representation of a tree\n",
        "\n",
        "    :param property: str\n",
        "        name of the attribute\n",
        "\n",
        "    :return list\n",
        "    '''\n",
        "    nodes = [tree[\"topology\"]]\n",
        "    vals = []\n",
        "    while nodes:\n",
        "        node = nodes[0]\n",
        "        nodes = nodes[1:]\n",
        "        if \"children\" in node:\n",
        "            for child in node[\"children\"]:\n",
        "                nodes.append(child)\n",
        "        vals.append((node[\"clone_id\"], node[property]))\n",
        "    vals.sort(key=lambda x: x[0])\n",
        "    vals = [x for (_, x) in vals]\n",
        "    return vals\n",
        "\n",
        "\n",
        "def KL_null_tree(prim_tree, rec_tree):\n",
        "    '''\n",
        "    Computes Kullback-Leibler divergence between the recurrent and the primary tumor tree.\n",
        "    The topology of the clonal structure tree is common between the two time points,\n",
        "    the probability distributions are defined by clone frequencies that differ between\n",
        "    the two time points.\n",
        "\n",
        "    :param prim_tree: dict\n",
        "        json representation of a tree (primary tumor)\n",
        "\n",
        "    :param rec_tree: dict\n",
        "        json representation of a tree (recurrent tumor)\n",
        "\n",
        "    :return float:\n",
        "        Kullback-Leibler divergence value\n",
        "    '''\n",
        "    x0 = get_property(prim_tree, \"tilde_x\")\n",
        "    observed_x = get_property(rec_tree, \"tilde_x\")\n",
        "    pairs = list(zip(x0, observed_x))\n",
        "    pairs = [x for x in pairs if x[1] > 0 and x[0] > 0]\n",
        "\n",
        "    kl = sum(obs_x * np.log(obs_x / null_x) for (null_x, obs_x) in pairs)\n",
        "    return kl\n",
        "\n",
        "\n",
        "def KL_prediction_tree(prim_tree, rec_tree):\n",
        "    '''\n",
        "    Computes Kullback-Leibler divergence between the recurrent tumor tree and\n",
        "    the tree predicted with the fitness model applied on the primary tree.\n",
        "    The topology of the clonal structure tree is common between the two time points,\n",
        "    the probability distributions are defined by the observed and predicted clone frequencies.\n",
        "\n",
        "    :param prim_tree: dict\n",
        "        json representation of a tree (primary tumor)\n",
        "\n",
        "    :param rec_tree: dict\n",
        "        json representation of a tree (recurrent tumor)\n",
        "\n",
        "    :return float:\n",
        "        Kullback-Leibler divergence value\n",
        "    '''\n",
        "    x0 = get_property(prim_tree, \"tilde_x\")\n",
        "    observed_x = get_property(rec_tree, \"tilde_x\")\n",
        "    predicted_x = get_property(prim_tree, \"predicted_x\")\n",
        "    pairs = list(zip(predicted_x, observed_x, x0))\n",
        "    pairs = [x for x in pairs if x[2] > 0 and x[1] > 0]\n",
        "\n",
        "    kl = sum(obs_x * np.log(obs_x / pred_x) for (pred_x, obs_x, _) in pairs)\n",
        "    return kl\n",
        "\n",
        "\n",
        "def KL_prediction(prim_json, rec_json):\n",
        "    '''\n",
        "    Kullback-Leibler divergence between the observed and predicted recurrent tumor sample.\n",
        "    The divergence is computed as a weighted sum over divergences between 5 top scoring trees.\n",
        "    Weights are proportional to the likelihood of the trees.\n",
        "\n",
        "    :param prim_json: dict\n",
        "        json representation of the primary tumor sample\n",
        "\n",
        "    :param rec_json: dict\n",
        "        json representation of the recurrent tumor sample\n",
        "\n",
        "    :return float\n",
        "        Kullback-Leibler divergence between the observed and predicted clone compositions\n",
        "        of the recurrent tumor.\n",
        "    '''\n",
        "    prim_trees = prim_json[\"sample_trees\"]\n",
        "    rec_trees = rec_json[\"sample_trees\"]\n",
        "    weights = np.array([tree[\"score\"] for tree in prim_json[\"sample_trees\"]])\n",
        "    weights = np.exp(weights - max(weights))\n",
        "    weights = weights / sum(weights)\n",
        "    kl = sum([w * KL_prediction_tree(prim_tree, rec_tree) for (prim_tree, rec_tree, w) in\n",
        "              zip(prim_trees, rec_trees, weights)])\n",
        "    return kl\n",
        "\n",
        "\n",
        "def KL_null(prim_json, rec_json):\n",
        "    '''\n",
        "    Kullback-Leibler divergence between the primary and recurrent tumor samples. Computed\n",
        "    as the weighted average over the top 5 highest scoring clonal tree structures.\n",
        "\n",
        "    :param prim_json: dict\n",
        "        json representation of the primary tumor sample\n",
        "\n",
        "    :param rec_json: dict\n",
        "        json representation of the recurrent tumor sample\n",
        "\n",
        "    :return float\n",
        "        Kullback-Leibler divergence between the clone compositions\n",
        "        of the primary and the recurrent tumor.\n",
        "\n",
        "    '''\n",
        "    prim_trees = prim_json[\"sample_trees\"]\n",
        "    rec_trees = rec_json[\"sample_trees\"]\n",
        "    weights = np.array([tree[\"score\"] for tree in prim_json[\"sample_trees\"]])\n",
        "    weights = np.exp(weights - max(weights))\n",
        "    weights = weights / sum(weights)\n",
        "    kl = sum(\n",
        "        [w * KL_null_tree(prim_tree, rec_tree) for (prim_tree, rec_tree, w) in zip(prim_trees, rec_trees, weights)])\n",
        "    return kl\n",
        "\n",
        "def predict_on_a_tree(tree):\n",
        "    '''\n",
        "    Applies fitness model projection on the primary tumor tree. Computes \"predicted_x\"\n",
        "    attribute for each clone in the tree.\n",
        "    '''\n",
        "    nodes = [tree[\"topology\"]]\n",
        "    Z = 0.0\n",
        "    while nodes:\n",
        "        node = nodes[0]\n",
        "        nodes = nodes[1:]\n",
        "        if \"children\" in node:\n",
        "            for child in node[\"children\"]:\n",
        "                nodes.append(child)\n",
        "        node[\"predicted_x\"] = node[\"tilde_x\"] * np.exp(node[\"fitness\"])\n",
        "        Z += node[\"predicted_x\"]\n",
        "\n",
        "    # normalize\n",
        "    nodes = [tree[\"topology\"]]\n",
        "    while nodes:\n",
        "        node = nodes[0]\n",
        "        nodes = nodes[1:]\n",
        "        if \"children\" in node:\n",
        "            for child in node[\"children\"]:\n",
        "                nodes.append(child)\n",
        "        node[\"predicted_x\"] /= Z\n",
        "\n",
        "\n",
        "def predict(tumor_json, weights):\n",
        "    '''\n",
        "    Computes fitness of all clones and performs clone composition predictions for\n",
        "    all trees.\n",
        "\n",
        "    :param tumor_json: dict\n",
        "        json representation of a sample\n",
        "\n",
        "    :param weights: dict\n",
        "        fitness component weights, Sigma_I and Sigma_P\n",
        "\n",
        "    '''\n",
        "    for tree in tumor_json[\"sample_trees\"]:\n",
        "        set_fitness_on_a_tree(tree, weights)\n",
        "        predict_on_a_tree(tree)\n",
        "\n",
        "\n",
        "def optimize_weights(prim_json, rec_json):\n",
        "    '''\n",
        "    Optimize fitness model component weights, Sigma_I and Sigma_P\n",
        "    to minimize the Kullback-Leibler divergence between the predicted and observed recurrent\n",
        "    tumor frequencies.\n",
        "\n",
        "    :param prim_json: dict\n",
        "        primary tumor json\n",
        "\n",
        "    :param rec_json: dict\n",
        "        recurrent tumor json\n",
        "\n",
        "    :return dict:\n",
        "        \"Sigma_I\" -> float\n",
        "        \"Sigma_P\" -> float\n",
        "    '''\n",
        "    from scipy.optimize import basinhopping\n",
        "    from scipy.optimize import LinearConstraint\n",
        "\n",
        "    def distance_fun(x, *args):\n",
        "        '''\n",
        "\n",
        "        :param x: tuple of floats\n",
        "            (sigma_I, sigma_P)\n",
        "            parameters to be optimized\n",
        "\n",
        "        :param args: list\n",
        "            (prim_json, tumor_json)\n",
        "\n",
        "        :return: float\n",
        "        '''\n",
        "\n",
        "        prim_json = args[0]\n",
        "        rec_json = args[1]\n",
        "        weights = {\"Sigma_I\": x[0], \"Sigma_P\": x[1]}\n",
        "        predict(prim_json, weights)\n",
        "        prediction_KL = KL_prediction(prim_json, rec_json)\n",
        "        return prediction_KL\n",
        "\n",
        "    x0 = (0,0)\n",
        "    diag = np.diag([1,1])\n",
        "    linear_constraint = LinearConstraint(diag, 0, 10) #weights have to be >= 0\n",
        "\n",
        "    minkwargs = {\"args\": (prim_json, rec_json),\n",
        "                 \"constraints\": linear_constraint}\n",
        "\n",
        "    val = basinhopping(distance_fun, x0, niter=500,\n",
        "                       minimizer_kwargs=minkwargs)\n",
        "    opt_weights = {\"Sigma_I\": val[\"x\"][0], \"Sigma_P\": val[\"x\"][1]}\n",
        "    return opt_weights"
      ]
    },
    {
      "cell_type": "code",
      "execution_count": null,
      "metadata": {
        "id": "RygFI76kfP0L"
      },
      "outputs": [],
      "source": [
        "'''\n",
        "Performs clone frequency predictions and evaluates log-likelihood score of predictions\n",
        "as compared to the null model with no selection.\n",
        "\n",
        "'''\n",
        "\n",
        "patient_dir = os.path.join(\"test\",\"Data_PDAC_recurrence\")\n",
        "\n",
        "patdirs = [x for x in glob.glob(os.path.join(patient_dir, \"*\")) if os.path.isdir(x)]\n",
        "\n",
        "aggregated_LL = {\"LTS\": 0, \"STS\": 0}\n",
        "lls = {\"LTS\": [], \"STS\": []}\n",
        "\n",
        "\n",
        "\n",
        "\n",
        "for pat in patdirs:\n",
        "    print(pat)\n",
        "    primdir = os.path.join(pat, \"Primary\")\n",
        "    recdir = os.path.join(pat, \"Recurrent\")\n",
        "    rec_tumors = [os.path.basename(x) for x in glob.glob(os.path.join(recdir, \"*_annotated.json\")) if\n",
        "                      \"paired_primary\" not in x]\n",
        "    for rec_sample_file in rec_tumors:\n",
        "        prim_tumor_file = os.path.join(recdir, \"paired_primary_tumor_\" + rec_sample_file)\n",
        "        rec_tumor_file = os.path.join(recdir, rec_sample_file)\n",
        "        with open(prim_tumor_file) as f:\n",
        "            prim_json = json.load(f)\n",
        "        with open(rec_tumor_file) as f:\n",
        "            rec_json = json.load(f)\n",
        "\n",
        "        opt_w = optimize_weights(prim_json, rec_json)\n",
        "        print(\"Optimized fitness component weights:\")\n",
        "        print(opt_w)\n",
        "\n",
        "        sample = rec_json[\"id\"]\n",
        "\n",
        "        cohort = prim_json[\"cohort\"]\n",
        "\n",
        "        predict(prim_json, opt_w)\n",
        "\n",
        "        # log-likelihood score\n",
        "        N_eff = rec_json[\"Effective_N\"]\n",
        "        prediction_KL = KL_prediction(prim_json, rec_json)\n",
        "\n",
        "        # BIC correction of log-likelihood of the full model (2 parameters)\n",
        "        prediction_ML = -N_eff * prediction_KL - 2 * np.log(N_eff) / 2\n",
        "        null_KL = KL_null(prim_json, rec_json)\n",
        "\n",
        "        # BIC correction of log-likelihood of the null model (no parameters)\n",
        "        null_ML = -N_eff * null_KL\n",
        "\n",
        "        # difference in log-likelihoods\n",
        "        delta_ll = prediction_ML - null_ML\n",
        "        aggregated_LL[cohort] += delta_ll\n",
        "        lls[cohort].append(delta_ll)\n",
        "\n",
        "print(\"Number of samples with positive log-likelihood score:\")\n",
        "npos_sts = sum([x > 0 for x in lls[\"STS\"]])\n",
        "npos_lts = sum([x > 0 for x in lls[\"LTS\"]])\n",
        "nsts = len([x > 0 for x in lls[\"STS\"]])\n",
        "nlts = len([x > 0 for x in lls[\"LTS\"]])\n",
        "print(\"STS: \" + str(npos_sts) + \"/\" + str(nsts) + \", LTS: \" + str(npos_lts) + \"/\" + str(nlts))\n",
        "print(\"Average log-likelihood score:\")\n",
        "print(\"STS: \" + str(np.mean([x for x in lls[\"STS\"]])) + \", LTS: \" + str(np.mean([x for x in lls[\"LTS\"]])))\n",
        "print(\"Median log-likelihood score:\")\n",
        "print(\"STS: \" + str(np.median([x for x in lls[\"STS\"]])) + \", LTS: \" + str(np.median([x for x in lls[\"LTS\"]])))\n",
        "print(\"Aggregated log-likelihood score:\")\n",
        "print(\"STS: \" + str(aggregated_LL[\"STS\"]) + \", LTS: \" + str(aggregated_LL[\"LTS\"]))\n"
      ]
    },
    {
      "cell_type": "code",
      "execution_count": null,
      "metadata": {
        "id": "9YLOKSzHKh_B"
      },
      "outputs": [],
      "source": []
    }
  ],
  "metadata": {
    "colab": {
      "provenance": [],
      "include_colab_link": true
    },
    "kernelspec": {
      "display_name": "Python 3",
      "language": "python",
      "name": "python3"
    },
    "language_info": {
      "codemirror_mode": {
        "name": "ipython",
        "version": 3
      },
      "file_extension": ".py",
      "mimetype": "text/x-python",
      "name": "python",
      "nbconvert_exporter": "python",
      "pygments_lexer": "ipython3",
      "version": "3.7.10"
    }
  },
  "nbformat": 4,
  "nbformat_minor": 0
}