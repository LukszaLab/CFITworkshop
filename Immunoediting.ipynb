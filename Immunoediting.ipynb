{
  "cells": [
    {
      "cell_type": "markdown",
      "metadata": {
        "id": "view-in-github",
        "colab_type": "text"
      },
      "source": [
        "<a href=\"https://colab.research.google.com/github/LukszaLab/CFITworkshop/blob/main/Immunoediting.ipynb\" target=\"_parent\"><img src=\"https://colab.research.google.com/assets/colab-badge.svg\" alt=\"Open In Colab\"/></a>"
      ]
    },
    {
      "cell_type": "markdown",
      "metadata": {
        "id": "6hj0YB4mP33W"
      },
      "source": [
        "# **Immunoediting in cancer evolution**"
      ]
    },
    {
      "cell_type": "markdown",
      "metadata": {
        "id": "HBaLZCj-buHB"
      },
      "source": [
        "Download and install CFIT repository"
      ]
    },
    {
      "cell_type": "code",
      "execution_count": null,
      "metadata": {
        "id": "a29ESzgv5iBM"
      },
      "outputs": [],
      "source": [
        "#%cd ../\n",
        "#%rm -fr CFITworkshop"
      ]
    },
    {
      "cell_type": "code",
      "execution_count": null,
      "metadata": {
        "id": "TYAf_0f7aunr"
      },
      "outputs": [],
      "source": [
        "!git clone https://github.com/LukszaLab/CFITworkshop.git\n",
        "\n",
        "%cd CFITworkshop\n",
        "!pip install -e ."
      ]
    },
    {
      "cell_type": "code",
      "execution_count": null,
      "metadata": {
        "id": "xdlQefjubKBO"
      },
      "outputs": [],
      "source": [
        "import json\n",
        "import glob\n",
        "import os\n",
        "import sys\n",
        "import pandas as pd\n",
        "import numpy as np\n",
        "import matplotlib.pyplot as plt\n",
        "import scipy\n",
        "import seaborn as sns\n",
        "from scipy.stats import pearsonr, linregress\n",
        "from collections import defaultdict\n",
        "\n",
        "from cfit.fitness.HLAweights import HLAweights\n",
        "from cfit.fitness.ImmuneCloneFitness import ImmuneCloneFitness\n",
        "from cfit.fitness.VariableImmuneCloneFitness import VariableImmuneCloneFitness\n",
        "from cfit.fitness.DGCloneFitness import DGCloneFitness\n",
        "from cfit.fitness.neo_quality.CARNeoantigenQuality import CARNeoantigenQuality\n",
        "from cfit.fitness.neo_quality.ARNeoantigenQuality import ARNeoantigenQuality\n",
        "from cfit.plot.PlotTreeAll import PlotTreeAll\n",
        "from cfit.tree.mutation.Neoantigen import Neoantigen\n",
        "from cfit.util.Analysis import Analysis\n",
        "from cfit.util.Analysis import AnalysisArgs\n",
        "from cfit.util.Log import Log\n",
        "from cfit.util.Utils import Utils\n",
        "\n",
        "def plot_response(df, max_tau, sample):\n",
        "    # Define time points\n",
        "    tau = np.linspace(0, max_tau+max_tau*0.5, 200)\n",
        "\n",
        "    # Compute X_alpha(tau) for each clone\n",
        "    X = []\n",
        "    for idx, row in df.iterrows():\n",
        "        X_alpha_tau = row['X0'] * np.exp(row['F'] * tau)\n",
        "        X.append(X_alpha_tau)\n",
        "\n",
        "    X = np.array(X)\n",
        "\n",
        "    # Create figure with two subplots: dynamics and fitness\n",
        "    fig, (ax_main, ax_bar) = plt.subplots(1, 2, figsize=(10, 5), gridspec_kw={'width_ratios': [3, 1]})\n",
        "\n",
        "    # Main stacked area plot\n",
        "    stack = ax_main.stackplot(tau, X, labels=df['Clone'], alpha=0.85)\n",
        "    ax_main.set_xlabel(r'$\\tau$ (therapy time)')\n",
        "    ax_main.set_ylabel(r'$X_\\alpha(\\tau)$')\n",
        "    a#x_main.plot([max_tau, max_tau],[0,1],color='black')\n",
        "\n",
        "    ax_main.axvline(x=max_tau, color='black', linestyle='--', linewidth=1.5)\n",
        "\n",
        "    # Add annotation\n",
        "    ax_main.annotate(\n",
        "        r'$\\tau$',                    # LaTeX-style tau\n",
        "        xy=(max_tau, 1),            # location of the arrow\n",
        "        xytext=(max_tau*1.01, .95),# location of the text\n",
        "        #arrowprops=dict(arrowstyle='->', color='black'),\n",
        "        fontsize=12,\n",
        "        color='black'\n",
        "    )\n",
        "\n",
        "    ax_main.set_title('Predicted dynamics of cancer cell clones for sample '+sample)\n",
        "    ax_main.legend(loc='upper right')\n",
        "\n",
        "    # Fitness bar plot\n",
        "    bars = ax_bar.bar(df['Clone'], df['F'], color=[s.get_facecolor() for s in stack])\n",
        "    ax_bar.axhline(0, color='black', linewidth=0.8)\n",
        "    ax_bar.set_title('Fitness values')\n",
        "    ax_bar.set_ylabel(r'$F_\\alpha$')\n",
        "    ax_bar.set_xticks(range(len(df['Clone'])))\n",
        "    ax_bar.set_xticklabels(df['Clone'])\n",
        "\n",
        "    plt.tight_layout()\n",
        "    plt.show()\n",
        "\n",
        "def compare_cohorts(data, col='ntau', ylabel=None):\n",
        "    ax = sns.swarmplot(x='Cohort', y=col, data=data, dodge=True)\n",
        "    sns.boxplot(x='Cohort', y=col, data=data,\n",
        "                      boxprops={'facecolor': 'None'})\n",
        "    handles, labels = ax.get_legend_handles_labels()\n",
        "    ax.legend(handles[:2], labels[:2], frameon=False)\n",
        "    x1 = data[data.Cohort == 'STS'][col]\n",
        "    x2 = data[data.Cohort != 'STS'][col]\n",
        "    try:\n",
        "        pval = scipy.stats.mannwhitneyu(x1, x2, alternative='two-sided').pvalue\n",
        "    except:\n",
        "        pval = 0.0\n",
        "    ax.set_title(\"pvalue=\" + str(pval))\n",
        "    if ylabel is None:\n",
        "        ylabel = col\n",
        "    ax.set_ylabel(ylabel)\n",
        "    plt.show()\n"
      ]
    },
    {
      "cell_type": "markdown",
      "metadata": {
        "id": "5Mk1yHtef0Zu"
      },
      "source": [
        "# Neoantigen quality model parameters"
      ]
    },
    {
      "cell_type": "code",
      "execution_count": null,
      "metadata": {
        "id": "QkWdfINwdZoO",
        "scrolled": true
      },
      "outputs": [],
      "source": [
        "#Neoantigen model paramaters\n",
        "tau = 0.04\n",
        "a = 26.\n",
        "k = 1.\n",
        "aln_scores = np.linspace(10,40,100)\n",
        "plt.plot(aln_scores, np.exp(k*(aln_scores-a))/(1+np.exp(k*(aln_scores-a))))\n",
        "plt.title(\"R function - alignement with IEDB epitopes\")\n",
        "plt.show()\n"
      ]
    },
    {
      "cell_type": "markdown",
      "metadata": {
        "id": "X_AOWsmgtFS8"
      },
      "source": [
        "# Initialize all data:\n",
        "- patient metadata\n",
        "- mutations\n",
        "- neoantigens\n",
        "- trees with clones annotated with mutations, neoantigens\n",
        "- clone tumor frequenies\n"
      ]
    },
    {
      "cell_type": "code",
      "execution_count": null,
      "metadata": {
        "id": "OQct7KoZevzl"
      },
      "outputs": [],
      "source": [
        "#%cd CFITworkshop\n",
        "hdir='test/Data_PDAC_2017'\n",
        "args = AnalysisArgs()\n",
        "args.netMHC = \"3.4\"\n",
        "args.kd_thr = 500 # threshold on neoantigen Kd\n",
        "args.dir = hdir\n",
        "\n",
        "anl = Analysis()\n",
        "anl.set_MHC_version(args.netMHC)\n",
        "mappingfile = os.path.join(args.dir, \"mapping.json\")\n",
        "with open(mappingfile) as f:\n",
        "    mappingjs = json.load(f)\n",
        "configfile = os.path.join(args.dir, \"config.json\")\n",
        "with open(configfile) as f:\n",
        "    configjs = json.load(f)\n",
        "vcfdir = os.path.join(args.dir, configjs[\"vcf_dir\"])\n",
        "alndir = os.path.join(args.dir, configjs[\"aln_dir\"])\n",
        "iedbfasta = os.path.join(alndir, \"enemy.fasta\")\n",
        "\n",
        "anl.initialize_config(configjs, mappingjs, args=args)"
      ]
    },
    {
      "cell_type": "markdown",
      "metadata": {
        "id": "1wnwvRVnL6eC"
      },
      "source": [
        "Distribution of overall survival of patients in the PDAC cohort"
      ]
    },
    {
      "cell_type": "code",
      "execution_count": null,
      "metadata": {
        "id": "2abm2DytOmKQ"
      },
      "outputs": [],
      "source": [
        "patients = list(anl.patients.values())\n",
        "plt.hist([pat.OS for pat in patients])\n",
        "plt.title(\"Distribution of overal survival times (OS) in the PDAC cohort\")\n",
        "plt.xlabel(\"Years\")\n",
        "plt.ylabel(\"#Patients\")\n",
        "plt.show()\n",
        "\n",
        "sts_patients = [patient for patient in patients if patient.OS<=2]\n",
        "lts_patients = [patient for patient in patients if patient.OS>2]\n"
      ]
    },
    {
      "cell_type": "markdown",
      "metadata": {
        "id": "dW0y_a5ytwJX"
      },
      "source": [
        "Compute neoantigen qualities:"
      ]
    },
    {
      "cell_type": "code",
      "execution_count": null,
      "metadata": {
        "id": "oaejsTIbfDA1"
      },
      "outputs": [],
      "source": [
        "# 1. compute neoantigen qualities\n",
        "\n",
        "Qmodel = ARNeoantigenQuality(alndir=alndir, iedbfasta=iedbfasta)\n",
        "anl.set_neantigen_quality_model(Qmodel)\n",
        "anl.compute_neoantigen_sample_qualities(a=a, k=k, HLAW=HLAweights('1-9'), include_A=True, include_R=True, kdthr=args.kd_thr, KDnormalize=1.)\n"
      ]
    },
    {
      "cell_type": "markdown",
      "metadata": {
        "id": "zqEgSNsbt7v3"
      },
      "source": [
        "Define the fitness model:"
      ]
    },
    {
      "cell_type": "code",
      "execution_count": null,
      "metadata": {
        "id": "jw8-RXJ2fNAZ"
      },
      "outputs": [],
      "source": [
        "# 2. set fitness model components\n",
        "\n",
        "#aggrfun is an argument that describes the function we use to aggregate over neoantigens in a clone\n",
        "#max function picks the neoantigen of the highest \"quality\", consistent if immunodominance model\n",
        "\n",
        "qualityFitnessModelComp = ImmuneCloneFitness(aggrfun=max)\n",
        "anl.set_fitness_model_component(qualityFitnessModelComp, \"immune\", 1.)\n",
        "anl.compute_node_fitness(recompute_components=True)\n",
        "\n",
        "# write neoantigens with their quality componenst and frequencies from the top scoring tree\n",
        "#anl.write_neoantigen_fitness(os.path.join(hdir, \"Neoantigen_qualities\"), exclusive=True, longitudinal=False,\n",
        "#                                 clonal=True)\n"
      ]
    },
    {
      "cell_type": "markdown",
      "metadata": {
        "id": "-j2lJW4Zdg1L"
      },
      "source": [
        "Lets look at predicted clone dynamics of individual patients"
      ]
    },
    {
      "cell_type": "code",
      "execution_count": null,
      "metadata": {
        "id": "9f5UepU1dX1G"
      },
      "outputs": [],
      "source": [
        "sts_patient = sts_patients[4]\n",
        "plottree = PlotTreeAll(sts_patient, drivers=[\"TP53\",\"KRAS\",\"CDKN2A\", \"SMAD4\"], tid=0, save_html=False, show=True)\n",
        "df=pd.DataFrame([[\"C\"+str(node.id), node.Y,node.fitness] for node in anl.samples[sts_patient.name].trees[0].nodes.values()],columns=[\"Clone\",\"X0\",\"F\"])\n",
        "plot_response(df, 0.4, sts_patient.name)\n",
        "nqtab = pd.read_csv(os.path.join(hdir, 'Neoantigen_qualities','nf_'+sts_patient.name+\".txt\"),sep=\"\\t\")\n",
        "nqtab"
      ]
    },
    {
      "cell_type": "code",
      "execution_count": null,
      "metadata": {
        "id": "DXcXWr2Xedgb"
      },
      "outputs": [],
      "source": [
        "lts_patient = lts_patients[13] # 13, 18 - strong clonal neoantigen, 19 - 2 subclonal neoantigens, 20 - dominant subclone with driver genes also has a neoantigen\n",
        "plottree = PlotTreeAll(lts_patient, drivers=[\"TP53\",\"KRAS\",\"CDKN2A\", \"SMAD4\"], tid=0, save_html=False, show=True)\n",
        "df=pd.DataFrame([[\"C\"+str(node.id), node.Y,node.fitness] for node in anl.samples[lts_patient.name].trees[0].nodes.values()],columns=[\"Clone\",\"X0\",\"F\"])\n",
        "plot_response(df, 0.4, lts_patient.name)\n",
        "nqtab = pd.read_csv(os.path.join(hdir, 'Neoantigen_qualities','nf_'+lts_patient.name+\".txt\"),sep=\"\\t\")\n",
        "nqtab"
      ]
    },
    {
      "cell_type": "markdown",
      "metadata": {
        "id": "dIGHUrAWmqLb"
      },
      "source": [
        "# Survival analysis"
      ]
    },
    {
      "cell_type": "code",
      "execution_count": null,
      "metadata": {
        "id": "1ACUZqD-gQ-t"
      },
      "outputs": [],
      "source": [
        "# Survival analysis\n",
        "res_surv = anl.classify_survival(beta=1., tau=tau, outdir=None, OS=True, PFS=True, quantile=0.5)\n",
        "anl.plot_survival(OS=True, pval=res_surv[\"pval_OS\"], quantile=0.5, show=True)\n"
      ]
    },
    {
      "cell_type": "markdown",
      "metadata": {
        "id": "PW8EJvx6uMpx"
      },
      "source": [
        "Other statistics of the patient samples:"
      ]
    },
    {
      "cell_type": "code",
      "execution_count": null,
      "metadata": {
        "id": "Ag3Ojtp1uQEO"
      },
      "outputs": [],
      "source": [
        "patnames = list(anl.patients.keys())\n",
        "sample_statistics = anl.sample_statistics(kd_thr=args.kd_thr)\n",
        "fitness_statistics = anl.fitness_sample_statistics()\n",
        "data = pd.DataFrame(zip(patnames, [anl.patients[patname].OS for patname in patnames],[np.exp(anl.patients[patname].q) for patname in patnames]), columns=[\"Sample\",\"OS\",\"ntau\"])\n",
        "data[\"Cohort\"] = [\"STS\" if os<=2 else \"LTS\" for os in data.OS]\n",
        "data = pd.merge(data, sample_statistics, on='Sample')\n",
        "\n",
        "data"
      ]
    },
    {
      "cell_type": "code",
      "execution_count": null,
      "metadata": {
        "id": "vhGeWPWYmxDQ"
      },
      "outputs": [],
      "source": [
        "compare_cohorts(data, 'ntau')\n",
        "compare_cohorts(data, 'nclones')\n",
        "compare_cohorts(data, 'neff_clones', ylabel='\"Effective\" number of clones')"
      ]
    },
    {
      "cell_type": "markdown",
      "metadata": {
        "id": "v2L0LwEpmxgN"
      },
      "source": [
        "## Alternative model - \"quantity\" of neantigens"
      ]
    },
    {
      "cell_type": "code",
      "execution_count": null,
      "metadata": {
        "id": "s2WVdyoUcsSO"
      },
      "outputs": [],
      "source": [
        "quantityFitnessModelComp = VariableImmuneCloneFitness(quality_function=lambda neo, sampleTree, sample: 1, aggrfun=sum)\n",
        "anl.set_fitness_model_component(quantityFitnessModelComp, \"immune\", 1.)\n",
        "anl.compute_node_fitness(recompute_components=True)\n",
        "# Survival analysis\n",
        "res_surv = anl.classify_survival(beta=1., tau=tau, outdir=None, OS=True, PFS=True, quantile=0.5)\n",
        "anl.plot_survival(OS=True, pval=res_surv[\"pval_OS\"], quantile=0.5, show=True)\n"
      ]
    },
    {
      "cell_type": "code",
      "execution_count": null,
      "metadata": {
        "id": "-uquvgoV5Aqg"
      },
      "outputs": [],
      "source": [
        "patnames = list(anl.patients.keys())\n",
        "sample_statistics = anl.sample_statistics(kd_thr=args.kd_thr)\n",
        "fitness_statistics = anl.fitness_sample_statistics()\n",
        "data = pd.DataFrame(zip(patnames, [anl.patients[patname].OS for patname in patnames],[np.exp(anl.patients[patname].q) for patname in patnames]), columns=[\"Sample\",\"OS\",\"ntau\"])\n",
        "data[\"Cohort\"] = [\"STS\" if os<=2 else \"LTS\" for os in data.OS]\n",
        "data = pd.merge(data, sample_statistics, on='Sample')\n",
        "compare_cohorts(data, 'ntau')\n"
      ]
    },
    {
      "cell_type": "markdown",
      "metadata": {
        "id": "z7fb7iqdoOr3"
      },
      "source": [
        "# **Predicting clonal dynamics**"
      ]
    },
    {
      "cell_type": "markdown",
      "metadata": {
        "id": "BhHh1TQc6oOt"
      },
      "source": [
        "Functions implementing parameter fitting for clonal frequency dynamics between primary and metastatic tumors"
      ]
    },
    {
      "cell_type": "code",
      "execution_count": null,
      "metadata": {
        "id": "Cz7ehAtnd-Jq"
      },
      "outputs": [],
      "source": [
        "\"\"\"script for comparing fitness models and computing log-likelihood scores\n",
        "\"\"\"\n",
        "\n",
        "import glob\n",
        "import json\n",
        "import os\n",
        "import numpy as np\n",
        "import pandas as pd\n",
        "\n",
        "\n",
        "def set_fitness_on_a_tree(tree, weights):\n",
        "    '''\n",
        "    Computes fitness of all clones in a tree as a weighted sum of fitness components,\n",
        "    F_I and F_P\n",
        "\n",
        "    :param tree: dict\n",
        "        json representation of a tree\n",
        "\n",
        "    :param weights: dict\n",
        "        {\"Sigma_I\" -> float, \"Sigma_P\"->float}\n",
        "    '''\n",
        "    nodes = [tree[\"topology\"]]\n",
        "    while nodes:\n",
        "        node = nodes[0]\n",
        "        nodes = nodes[1:]\n",
        "        if \"predicted_x\" in node:\n",
        "            del node[\"predicted_x\"]\n",
        "        if \"predicted_X\" in node:\n",
        "            del node[\"predicted_X\"]\n",
        "        if \"children\" in node:\n",
        "            for child in node[\"children\"]:\n",
        "                nodes.append(child)\n",
        "        node[\"fitness\"] = node[\"F_I\"] * weights[\"Sigma_I\"] + node[\"F_P\"] * weights[\"Sigma_P\"]\n",
        "\n",
        "def get_property(tree, property):\n",
        "    '''\n",
        "    Auxiliary function to extract a clone attribute values into a list\n",
        "    :param tree: dict\n",
        "        json representation of a tree\n",
        "\n",
        "    :param property: str\n",
        "        name of the attribute\n",
        "\n",
        "    :return list\n",
        "    '''\n",
        "    nodes = [tree[\"topology\"]]\n",
        "    vals = []\n",
        "    while nodes:\n",
        "        node = nodes[0]\n",
        "        nodes = nodes[1:]\n",
        "        if \"children\" in node:\n",
        "            for child in node[\"children\"]:\n",
        "                nodes.append(child)\n",
        "        vals.append((node[\"clone_id\"], node[property]))\n",
        "    vals.sort(key=lambda x: x[0])\n",
        "    vals = [x for (_, x) in vals]\n",
        "    return vals\n",
        "\n",
        "\n",
        "def KL_null_tree(prim_tree, rec_tree):\n",
        "    '''\n",
        "    Computes Kullback-Leibler divergence between the recurrent and the primary tumor tree.\n",
        "    The topology of the clonal structure tree is common between the two time points,\n",
        "    the probability distributions are defined by clone frequencies that differ between\n",
        "    the two time points.\n",
        "\n",
        "    :param prim_tree: dict\n",
        "        json representation of a tree (primary tumor)\n",
        "\n",
        "    :param rec_tree: dict\n",
        "        json representation of a tree (recurrent tumor)\n",
        "\n",
        "    :return float:\n",
        "        Kullback-Leibler divergence value\n",
        "    '''\n",
        "    x0 = get_property(prim_tree, \"tilde_x\")\n",
        "    observed_x = get_property(rec_tree, \"tilde_x\")\n",
        "    pairs = list(zip(x0, observed_x))\n",
        "    pairs = [x for x in pairs if x[1] > 0 and x[0] > 0]\n",
        "\n",
        "    kl = sum(obs_x * np.log(obs_x / null_x) for (null_x, obs_x) in pairs)\n",
        "    return kl\n",
        "\n",
        "\n",
        "def KL_prediction_tree(prim_tree, rec_tree):\n",
        "    '''\n",
        "    Computes Kullback-Leibler divergence between the recurrent tumor tree and\n",
        "    the tree predicted with the fitness model applied on the primary tree.\n",
        "    The topology of the clonal structure tree is common between the two time points,\n",
        "    the probability distributions are defined by the observed and predicted clone frequencies.\n",
        "\n",
        "    :param prim_tree: dict\n",
        "        json representation of a tree (primary tumor)\n",
        "\n",
        "    :param rec_tree: dict\n",
        "        json representation of a tree (recurrent tumor)\n",
        "\n",
        "    :return float:\n",
        "        Kullback-Leibler divergence value\n",
        "    '''\n",
        "    x0 = get_property(prim_tree, \"tilde_x\")\n",
        "    observed_x = get_property(rec_tree, \"tilde_x\")\n",
        "    predicted_x = get_property(prim_tree, \"predicted_x\")\n",
        "    pairs = list(zip(predicted_x, observed_x, x0))\n",
        "    pairs = [x for x in pairs if x[2] > 0 and x[1] > 0]\n",
        "\n",
        "    kl = sum(obs_x * np.log(obs_x / pred_x) for (pred_x, obs_x, _) in pairs)\n",
        "    return kl\n",
        "\n",
        "\n",
        "def KL_prediction(prim_json, rec_json):\n",
        "    '''\n",
        "    Kullback-Leibler divergence between the observed and predicted recurrent tumor sample.\n",
        "    The divergence is computed as a weighted sum over divergences between 5 top scoring trees.\n",
        "    Weights are proportional to the likelihood of the trees.\n",
        "\n",
        "    :param prim_json: dict\n",
        "        json representation of the primary tumor sample\n",
        "\n",
        "    :param rec_json: dict\n",
        "        json representation of the recurrent tumor sample\n",
        "\n",
        "    :return float\n",
        "        Kullback-Leibler divergence between the observed and predicted clone compositions\n",
        "        of the recurrent tumor.\n",
        "    '''\n",
        "    prim_trees = prim_json[\"sample_trees\"]\n",
        "    rec_trees = rec_json[\"sample_trees\"]\n",
        "    weights = np.array([tree[\"score\"] for tree in prim_json[\"sample_trees\"]])\n",
        "    weights = np.exp(weights - max(weights))\n",
        "    weights = weights / sum(weights)\n",
        "    kl = sum([w * KL_prediction_tree(prim_tree, rec_tree) for (prim_tree, rec_tree, w) in\n",
        "              zip(prim_trees, rec_trees, weights)])\n",
        "    return kl\n",
        "\n",
        "\n",
        "def KL_null(prim_json, rec_json):\n",
        "    '''\n",
        "    Kullback-Leibler divergence between the primary and recurrent tumor samples. Computed\n",
        "    as the weighted average over the top 5 highest scoring clonal tree structures.\n",
        "\n",
        "    :param prim_json: dict\n",
        "        json representation of the primary tumor sample\n",
        "\n",
        "    :param rec_json: dict\n",
        "        json representation of the recurrent tumor sample\n",
        "\n",
        "    :return float\n",
        "        Kullback-Leibler divergence between the clone compositions\n",
        "        of the primary and the recurrent tumor.\n",
        "\n",
        "    '''\n",
        "    prim_trees = prim_json[\"sample_trees\"]\n",
        "    rec_trees = rec_json[\"sample_trees\"]\n",
        "    weights = np.array([tree[\"score\"] for tree in prim_json[\"sample_trees\"]])\n",
        "    weights = np.exp(weights - max(weights))\n",
        "    weights = weights / sum(weights)\n",
        "    kl = sum(\n",
        "        [w * KL_null_tree(prim_tree, rec_tree) for (prim_tree, rec_tree, w) in zip(prim_trees, rec_trees, weights)])\n",
        "    return kl\n",
        "\n",
        "def predict_on_a_tree(tree):\n",
        "    '''\n",
        "    Applies fitness model projection on the primary tumor tree. Computes \"predicted_x\"\n",
        "    attribute for each clone in the tree.\n",
        "    '''\n",
        "    nodes = [tree[\"topology\"]]\n",
        "    Z = 0.0\n",
        "    while nodes:\n",
        "        node = nodes[0]\n",
        "        nodes = nodes[1:]\n",
        "        if \"children\" in node:\n",
        "            for child in node[\"children\"]:\n",
        "                nodes.append(child)\n",
        "        node[\"predicted_x\"] = node[\"tilde_x\"] * np.exp(node[\"fitness\"])\n",
        "        Z += node[\"predicted_x\"]\n",
        "\n",
        "    # normalize\n",
        "    nodes = [tree[\"topology\"]]\n",
        "    while nodes:\n",
        "        node = nodes[0]\n",
        "        nodes = nodes[1:]\n",
        "        if \"children\" in node:\n",
        "            for child in node[\"children\"]:\n",
        "                nodes.append(child)\n",
        "        node[\"predicted_x\"] /= Z\n",
        "\n",
        "\n",
        "def predict(tumor_json, weights):\n",
        "    '''\n",
        "    Computes fitness of all clones and performs clone composition predictions for\n",
        "    all trees.\n",
        "\n",
        "    :param tumor_json: dict\n",
        "        json representation of a sample\n",
        "\n",
        "    :param weights: dict\n",
        "        fitness component weights, Sigma_I and Sigma_P\n",
        "\n",
        "    '''\n",
        "    for tree in tumor_json[\"sample_trees\"]:\n",
        "        set_fitness_on_a_tree(tree, weights)\n",
        "        predict_on_a_tree(tree)\n",
        "\n",
        "\n",
        "def optimize_weights(prim_json, rec_json):\n",
        "    '''\n",
        "    Optimize fitness model component weights, Sigma_I and Sigma_P\n",
        "    to minimize the Kullback-Leibler divergence between the predicted and observed recurrent\n",
        "    tumor frequencies.\n",
        "\n",
        "    :param prim_json: dict\n",
        "        primary tumor json\n",
        "\n",
        "    :param rec_json: dict\n",
        "        recurrent tumor json\n",
        "\n",
        "    :return dict:\n",
        "        \"Sigma_I\" -> float\n",
        "        \"Sigma_P\" -> float\n",
        "    '''\n",
        "    from scipy.optimize import basinhopping\n",
        "    from scipy.optimize import LinearConstraint\n",
        "\n",
        "    def distance_fun(x, *args):\n",
        "        '''\n",
        "\n",
        "        :param x: tuple of floats\n",
        "            (sigma_I, sigma_P)\n",
        "            parameters to be optimized\n",
        "\n",
        "        :param args: list\n",
        "            (prim_json, tumor_json)\n",
        "\n",
        "        :return: float\n",
        "        '''\n",
        "\n",
        "        prim_json = args[0]\n",
        "        rec_json = args[1]\n",
        "        weights = {\"Sigma_I\": x[0], \"Sigma_P\": x[1]}\n",
        "        predict(prim_json, weights)\n",
        "        prediction_KL = KL_prediction(prim_json, rec_json)\n",
        "        return prediction_KL\n",
        "\n",
        "    x0 = (0,0)\n",
        "    diag = np.diag([1,1])\n",
        "    linear_constraint = LinearConstraint(diag, 0, 10) #weights have to be >= 0\n",
        "\n",
        "    minkwargs = {\"args\": (prim_json, rec_json),\n",
        "                 \"constraints\": linear_constraint}\n",
        "\n",
        "    val = basinhopping(distance_fun, x0, niter=500,\n",
        "                       minimizer_kwargs=minkwargs)\n",
        "    opt_weights = {\"Sigma_I\": val[\"x\"][0], \"Sigma_P\": val[\"x\"][1]}\n",
        "    return opt_weights"
      ]
    },
    {
      "cell_type": "code",
      "execution_count": null,
      "metadata": {
        "id": "RygFI76kfP0L"
      },
      "outputs": [],
      "source": [
        "'''\n",
        "Performs clone frequency predictions and evaluates log-likelihood score of predictions\n",
        "as compared to the null model with no selection.\n",
        "\n",
        "'''\n",
        "\n",
        "patient_dir = os.path.join(\"test\",\"Data_PDAC_recurrence\")\n",
        "\n",
        "patdirs = [x for x in glob.glob(os.path.join(patient_dir, \"*\")) if os.path.isdir(x)]\n",
        "\n",
        "aggregated_LL = {\"LTS\": 0, \"STS\": 0}\n",
        "lls = {\"LTS\": [], \"STS\": []}\n",
        "\n",
        "\n",
        "\n",
        "\n",
        "for pat in patdirs:\n",
        "    print(pat)\n",
        "    primdir = os.path.join(pat, \"Primary\")\n",
        "    recdir = os.path.join(pat, \"Recurrent\")\n",
        "    rec_tumors = [os.path.basename(x) for x in glob.glob(os.path.join(recdir, \"*_annotated.json\")) if\n",
        "                      \"paired_primary\" not in x]\n",
        "    for rec_sample_file in rec_tumors:\n",
        "        prim_tumor_file = os.path.join(recdir, \"paired_primary_tumor_\" + rec_sample_file)\n",
        "        rec_tumor_file = os.path.join(recdir, rec_sample_file)\n",
        "        with open(prim_tumor_file) as f:\n",
        "            prim_json = json.load(f)\n",
        "        with open(rec_tumor_file) as f:\n",
        "            rec_json = json.load(f)\n",
        "\n",
        "        opt_w = optimize_weights(prim_json, rec_json)\n",
        "        print(\"Optimized fitness component weights:\")\n",
        "        print(opt_w)\n",
        "\n",
        "        sample = rec_json[\"id\"]\n",
        "\n",
        "        cohort = prim_json[\"cohort\"]\n",
        "\n",
        "        predict(prim_json, opt_w)\n",
        "\n",
        "        # log-likelihood score\n",
        "        N_eff = rec_json[\"Effective_N\"]\n",
        "        prediction_KL = KL_prediction(prim_json, rec_json)\n",
        "\n",
        "        # BIC correction of log-likelihood of the full model (2 parameters)\n",
        "        prediction_ML = -N_eff * prediction_KL - 2 * np.log(N_eff) / 2\n",
        "        null_KL = KL_null(prim_json, rec_json)\n",
        "\n",
        "        # BIC correction of log-likelihood of the null model (no parameters)\n",
        "        null_ML = -N_eff * null_KL\n",
        "\n",
        "        # difference in log-likelihoods\n",
        "        delta_ll = prediction_ML - null_ML\n",
        "        aggregated_LL[cohort] += delta_ll\n",
        "        lls[cohort].append(delta_ll)\n",
        "\n",
        "print(\"Number of samples with positive log-likelihood score:\")\n",
        "npos_sts = sum([x > 0 for x in lls[\"STS\"]])\n",
        "npos_lts = sum([x > 0 for x in lls[\"LTS\"]])\n",
        "nsts = len([x > 0 for x in lls[\"STS\"]])\n",
        "nlts = len([x > 0 for x in lls[\"LTS\"]])\n",
        "print(\"STS: \" + str(npos_sts) + \"/\" + str(nsts) + \", LTS: \" + str(npos_lts) + \"/\" + str(nlts))\n",
        "print(\"Average log-likelihood score:\")\n",
        "print(\"STS: \" + str(np.mean([x for x in lls[\"STS\"]])) + \", LTS: \" + str(np.mean([x for x in lls[\"LTS\"]])))\n",
        "print(\"Median log-likelihood score:\")\n",
        "print(\"STS: \" + str(np.median([x for x in lls[\"STS\"]])) + \", LTS: \" + str(np.median([x for x in lls[\"LTS\"]])))\n",
        "print(\"Aggregated log-likelihood score:\")\n",
        "print(\"STS: \" + str(aggregated_LL[\"STS\"]) + \", LTS: \" + str(aggregated_LL[\"LTS\"]))\n"
      ]
    },
    {
      "cell_type": "code",
      "execution_count": null,
      "metadata": {
        "id": "9YLOKSzHKh_B"
      },
      "outputs": [],
      "source": []
    },
    {
      "cell_type": "code",
      "execution_count": null,
      "metadata": {
        "id": "RC8PypDMUp-0"
      },
      "outputs": [],
      "source": []
    }
  ],
  "metadata": {
    "colab": {
      "provenance": [],
      "include_colab_link": true
    },
    "kernelspec": {
      "display_name": "Python 3",
      "language": "python",
      "name": "python3"
    },
    "language_info": {
      "codemirror_mode": {
        "name": "ipython",
        "version": 3
      },
      "file_extension": ".py",
      "mimetype": "text/x-python",
      "name": "python",
      "nbconvert_exporter": "python",
      "pygments_lexer": "ipython3",
      "version": "3.7.10"
    }
  },
  "nbformat": 4,
  "nbformat_minor": 0
}